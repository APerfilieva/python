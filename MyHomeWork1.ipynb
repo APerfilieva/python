{
 "cells": [
  {
   "cell_type": "code",
   "execution_count": 35,
   "id": "9ecf1067",
   "metadata": {},
   "outputs": [
    {
     "name": "stdout",
     "output_type": "stream",
     "text": [
      "55\n"
     ]
    }
   ],
   "source": [
    "a = [1,2,3,4,5,6,7,8,9,10]\n",
    "print(sum(a))"
   ]
  },
  {
   "cell_type": "code",
   "execution_count": 88,
   "id": "42ed2712",
   "metadata": {},
   "outputs": [
    {
     "name": "stdout",
     "output_type": "stream",
     "text": [
      "Duplicate values:  ['b', 'n', 'z', 'a']\n"
     ]
    }
   ],
   "source": [
    "list = ['a', 'b', 'c', 'b', 'd', 'm', 'n', 'n', 'z', 'z', 'z', 'a' ]\n",
    "\n",
    "def dup(x):\n",
    "    duplicate = []\n",
    "    unique = []\n",
    "    for i in x:\n",
    "        if i in unique and i not in duplicate:\n",
    "            duplicate.append(i)\n",
    "        else:\n",
    "            unique.append(i)\n",
    "    print(\"Duplicate values: \", duplicate)\n",
    "\n",
    "dup(list)"
   ]
  },
  {
   "cell_type": "code",
   "execution_count": 61,
   "id": "b722e8f8",
   "metadata": {},
   "outputs": [
    {
     "name": "stdout",
     "output_type": "stream",
     "text": [
      "7\n"
     ]
    }
   ],
   "source": [
    "list_char = set(['a', 'b', 'c', 'b', 'd', 'm', 'n', 'n', 'z', 'z', 'z', 'a'])\n",
    "print(len(list_char))"
   ]
  },
  {
   "cell_type": "code",
   "execution_count": 62,
   "id": "337f7198",
   "metadata": {},
   "outputs": [
    {
     "name": "stdout",
     "output_type": "stream",
     "text": [
      "{'z': 3, 'a': 2, 'b': 2}\n"
     ]
    }
   ],
   "source": [
    "myList = ['a', 'b', 'c', 'b', 'd', 'm', 'n', 'n', 'z', 'z', 'z', 'a' ]\n",
    "myDict = {}\n",
    "for x in myList:\n",
    "    if x in myDict:\n",
    "        myDict[x] = myDict[x] + 1\n",
    "    else:\n",
    "        myDict[x] = 1\n",
    "\n",
    "myValues = list(myDict.values())\n",
    "myValues.sort(reverse=True)\n",
    "myValuesCut = myValues[0:3]\n",
    "\n",
    "result = {}\n",
    "\n",
    "for y in myValuesCut:\n",
    "    for key, value in myDict.items():\n",
    "        if y == value and key not in result:\n",
    "            result[key] = value;\n",
    "            break\n",
    "\n",
    "print(result)"
   ]
  },
  {
   "cell_type": "code",
   "execution_count": 103,
   "id": "9fc8790d",
   "metadata": {},
   "outputs": [
    {
     "name": "stdout",
     "output_type": "stream",
     "text": [
      "   *   \n",
      "  ***  \n",
      " ***** \n",
      "*******\n",
      "   *   \n",
      "   *   \n"
     ]
    }
   ],
   "source": [
    "picture = [\n",
    "    [0,0,0,1,0,0,0],\n",
    "    [0,0,1,1,1,0,0],\n",
    "    [0,1,1,1,1,1,0],\n",
    "    [1,1,1,1,1,1,1],\n",
    "    [0,0,0,1,0,0,0],\n",
    "    [0,0,0,1,0,0,0]\n",
    "]\n",
    "\n",
    "for i in range(6):\n",
    "    for j in range(7):\n",
    "        if picture[i][j]==0:\n",
    "            print('',end=' ')\n",
    "        else:\n",
    "            print('*',end='')\n",
    "    print()"
   ]
  }
 ],
 "metadata": {
  "kernelspec": {
   "display_name": "Python 3 (ipykernel)",
   "language": "python",
   "name": "python3"
  },
  "language_info": {
   "codemirror_mode": {
    "name": "ipython",
    "version": 3
   },
   "file_extension": ".py",
   "mimetype": "text/x-python",
   "name": "python",
   "nbconvert_exporter": "python",
   "pygments_lexer": "ipython3",
   "version": "3.9.7"
  }
 },
 "nbformat": 4,
 "nbformat_minor": 5
}
