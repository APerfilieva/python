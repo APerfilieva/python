{
 "cells": [
  {
   "cell_type": "code",
   "execution_count": 405,
   "id": "41fd408c",
   "metadata": {},
   "outputs": [
    {
     "name": "stdout",
     "output_type": "stream",
     "text": [
      "36\n",
      "   Year  Month   Revenue  Advertising expenses\n",
      "0  2019      1  81764897               4088244\n",
      "1  2019      2  85456774               5127406\n",
      "2  2019      3  91753351               6422734\n",
      "3  2019      4  99180273               7138520\n",
      "4  2019      5  95725994               7978079\n"
     ]
    }
   ],
   "source": [
    "import pandas as pd\n",
    "import numpy as np\n",
    "%matplotlib inline\n",
    "\n",
    "# импорт SARIMAX \n",
    "from statsmodels.tsa.statespace.sarimax import SARIMAX\n",
    "\n",
    "from statsmodels.graphics.tsaplots import plot_acf,plot_pacf # для определения (p,q) \n",
    "from statsmodels.tsa.seasonal import seasonal_decompose      # для ETS графиков\n",
    "from pmdarima import auto_arima                              # для поиска ARIMA моделей\n",
    "\n",
    "# метрики\n",
    "from sklearn.metrics import mean_squared_error\n",
    "from statsmodels.tools.eval_measures import rmse\n",
    "\n",
    "# для игнорирования предупреждений (опционально)\n",
    "import warnings\n",
    "warnings.filterwarnings(\"ignore\")\n",
    "\n",
    "# Загрузка датасета\n",
    "df = pd.read_csv('Dataset-Sales_FINAL.csv',parse_dates=True)\n",
    "df.index.freq = 'MS'\n",
    "print(len(df))\n",
    "print(df.head())"
   ]
  },
  {
   "cell_type": "code",
   "execution_count": null,
   "id": "ebfc4e73",
   "metadata": {},
   "outputs": [],
   "source": [
    "# Анализируемый датасет содержит данные дистрибьютора о продажах оборудования для ресторанов с 2019 по 2021 год.\n",
    "# В нем хранятся данные о выручке и затратах на рекламную деятельность. "
   ]
  },
  {
   "cell_type": "code",
   "execution_count": 406,
   "id": "962387cd",
   "metadata": {},
   "outputs": [
    {
     "data": {
      "text/html": [
       "<div>\n",
       "<style scoped>\n",
       "    .dataframe tbody tr th:only-of-type {\n",
       "        vertical-align: middle;\n",
       "    }\n",
       "\n",
       "    .dataframe tbody tr th {\n",
       "        vertical-align: top;\n",
       "    }\n",
       "\n",
       "    .dataframe thead th {\n",
       "        text-align: right;\n",
       "    }\n",
       "</style>\n",
       "<table border=\"1\" class=\"dataframe\">\n",
       "  <thead>\n",
       "    <tr style=\"text-align: right;\">\n",
       "      <th></th>\n",
       "      <th>Year</th>\n",
       "      <th>Month</th>\n",
       "      <th>Revenue</th>\n",
       "      <th>Advertising expenses</th>\n",
       "      <th>date</th>\n",
       "    </tr>\n",
       "  </thead>\n",
       "  <tbody>\n",
       "    <tr>\n",
       "      <th>0</th>\n",
       "      <td>2019</td>\n",
       "      <td>1</td>\n",
       "      <td>81764897</td>\n",
       "      <td>4088244</td>\n",
       "      <td>2019-01-01</td>\n",
       "    </tr>\n",
       "    <tr>\n",
       "      <th>1</th>\n",
       "      <td>2019</td>\n",
       "      <td>2</td>\n",
       "      <td>85456774</td>\n",
       "      <td>5127406</td>\n",
       "      <td>2019-02-01</td>\n",
       "    </tr>\n",
       "    <tr>\n",
       "      <th>2</th>\n",
       "      <td>2019</td>\n",
       "      <td>3</td>\n",
       "      <td>91753351</td>\n",
       "      <td>6422734</td>\n",
       "      <td>2019-03-01</td>\n",
       "    </tr>\n",
       "    <tr>\n",
       "      <th>3</th>\n",
       "      <td>2019</td>\n",
       "      <td>4</td>\n",
       "      <td>99180273</td>\n",
       "      <td>7138520</td>\n",
       "      <td>2019-04-01</td>\n",
       "    </tr>\n",
       "    <tr>\n",
       "      <th>4</th>\n",
       "      <td>2019</td>\n",
       "      <td>5</td>\n",
       "      <td>95725994</td>\n",
       "      <td>7978079</td>\n",
       "      <td>2019-05-01</td>\n",
       "    </tr>\n",
       "  </tbody>\n",
       "</table>\n",
       "</div>"
      ],
      "text/plain": [
       "   Year  Month   Revenue  Advertising expenses       date\n",
       "0  2019      1  81764897               4088244 2019-01-01\n",
       "1  2019      2  85456774               5127406 2019-02-01\n",
       "2  2019      3  91753351               6422734 2019-03-01\n",
       "3  2019      4  99180273               7138520 2019-04-01\n",
       "4  2019      5  95725994               7978079 2019-05-01"
      ]
     },
     "execution_count": 406,
     "metadata": {},
     "output_type": "execute_result"
    }
   ],
   "source": [
    "# Создаем DatetimeIndex\n",
    "df['date']=pd.to_datetime(dict(year=df['Year'], month=df['Month'], day=1))\n",
    "df.head()"
   ]
  },
  {
   "cell_type": "code",
   "execution_count": 407,
   "id": "81952ada",
   "metadata": {},
   "outputs": [
    {
     "data": {
      "text/html": [
       "<div>\n",
       "<style scoped>\n",
       "    .dataframe tbody tr th:only-of-type {\n",
       "        vertical-align: middle;\n",
       "    }\n",
       "\n",
       "    .dataframe tbody tr th {\n",
       "        vertical-align: top;\n",
       "    }\n",
       "\n",
       "    .dataframe thead th {\n",
       "        text-align: right;\n",
       "    }\n",
       "</style>\n",
       "<table border=\"1\" class=\"dataframe\">\n",
       "  <thead>\n",
       "    <tr style=\"text-align: right;\">\n",
       "      <th></th>\n",
       "      <th>Year</th>\n",
       "      <th>Month</th>\n",
       "      <th>Revenue</th>\n",
       "      <th>Advertising expenses</th>\n",
       "    </tr>\n",
       "    <tr>\n",
       "      <th>date</th>\n",
       "      <th></th>\n",
       "      <th></th>\n",
       "      <th></th>\n",
       "      <th></th>\n",
       "    </tr>\n",
       "  </thead>\n",
       "  <tbody>\n",
       "    <tr>\n",
       "      <th>2019-01-01</th>\n",
       "      <td>2019</td>\n",
       "      <td>1</td>\n",
       "      <td>81764897</td>\n",
       "      <td>4088244</td>\n",
       "    </tr>\n",
       "    <tr>\n",
       "      <th>2019-02-01</th>\n",
       "      <td>2019</td>\n",
       "      <td>2</td>\n",
       "      <td>85456774</td>\n",
       "      <td>5127406</td>\n",
       "    </tr>\n",
       "    <tr>\n",
       "      <th>2019-03-01</th>\n",
       "      <td>2019</td>\n",
       "      <td>3</td>\n",
       "      <td>91753351</td>\n",
       "      <td>6422734</td>\n",
       "    </tr>\n",
       "    <tr>\n",
       "      <th>2019-04-01</th>\n",
       "      <td>2019</td>\n",
       "      <td>4</td>\n",
       "      <td>99180273</td>\n",
       "      <td>7138520</td>\n",
       "    </tr>\n",
       "    <tr>\n",
       "      <th>2019-05-01</th>\n",
       "      <td>2019</td>\n",
       "      <td>5</td>\n",
       "      <td>95725994</td>\n",
       "      <td>7978079</td>\n",
       "    </tr>\n",
       "  </tbody>\n",
       "</table>\n",
       "</div>"
      ],
      "text/plain": [
       "            Year  Month   Revenue  Advertising expenses\n",
       "date                                                   \n",
       "2019-01-01  2019      1  81764897               4088244\n",
       "2019-02-01  2019      2  85456774               5127406\n",
       "2019-03-01  2019      3  91753351               6422734\n",
       "2019-04-01  2019      4  99180273               7138520\n",
       "2019-05-01  2019      5  95725994               7978079"
      ]
     },
     "execution_count": 407,
     "metadata": {},
     "output_type": "execute_result"
    }
   ],
   "source": [
    "df.set_index('date', inplace=True)\n",
    "df.index.freq = 'MS'\n",
    "df.head()"
   ]
  },
  {
   "cell_type": "code",
   "execution_count": 408,
   "id": "2e728456",
   "metadata": {},
   "outputs": [
    {
     "data": {
      "text/html": [
       "<div>\n",
       "<style scoped>\n",
       "    .dataframe tbody tr th:only-of-type {\n",
       "        vertical-align: middle;\n",
       "    }\n",
       "\n",
       "    .dataframe tbody tr th {\n",
       "        vertical-align: top;\n",
       "    }\n",
       "\n",
       "    .dataframe thead th {\n",
       "        text-align: right;\n",
       "    }\n",
       "</style>\n",
       "<table border=\"1\" class=\"dataframe\">\n",
       "  <thead>\n",
       "    <tr style=\"text-align: right;\">\n",
       "      <th></th>\n",
       "      <th>Revenue</th>\n",
       "      <th>Advertising expenses</th>\n",
       "    </tr>\n",
       "    <tr>\n",
       "      <th>date</th>\n",
       "      <th></th>\n",
       "      <th></th>\n",
       "    </tr>\n",
       "  </thead>\n",
       "  <tbody>\n",
       "    <tr>\n",
       "      <th>2019-01-01</th>\n",
       "      <td>81764897</td>\n",
       "      <td>4088244</td>\n",
       "    </tr>\n",
       "    <tr>\n",
       "      <th>2019-02-01</th>\n",
       "      <td>85456774</td>\n",
       "      <td>5127406</td>\n",
       "    </tr>\n",
       "    <tr>\n",
       "      <th>2019-03-01</th>\n",
       "      <td>91753351</td>\n",
       "      <td>6422734</td>\n",
       "    </tr>\n",
       "    <tr>\n",
       "      <th>2019-04-01</th>\n",
       "      <td>99180273</td>\n",
       "      <td>7138520</td>\n",
       "    </tr>\n",
       "    <tr>\n",
       "      <th>2019-05-01</th>\n",
       "      <td>95725994</td>\n",
       "      <td>7978079</td>\n",
       "    </tr>\n",
       "    <tr>\n",
       "      <th>2019-06-01</th>\n",
       "      <td>95334113</td>\n",
       "      <td>9120070</td>\n",
       "    </tr>\n",
       "    <tr>\n",
       "      <th>2019-07-01</th>\n",
       "      <td>96608040</td>\n",
       "      <td>10976020</td>\n",
       "    </tr>\n",
       "    <tr>\n",
       "      <th>2019-08-01</th>\n",
       "      <td>97470010</td>\n",
       "      <td>11696401</td>\n",
       "    </tr>\n",
       "    <tr>\n",
       "      <th>2019-09-01</th>\n",
       "      <td>92428131</td>\n",
       "      <td>9242813</td>\n",
       "    </tr>\n",
       "    <tr>\n",
       "      <th>2019-10-01</th>\n",
       "      <td>98496079</td>\n",
       "      <td>11819529</td>\n",
       "    </tr>\n",
       "    <tr>\n",
       "      <th>2019-11-01</th>\n",
       "      <td>105864024</td>\n",
       "      <td>10586402</td>\n",
       "    </tr>\n",
       "    <tr>\n",
       "      <th>2019-12-01</th>\n",
       "      <td>137120411</td>\n",
       "      <td>16454449</td>\n",
       "    </tr>\n",
       "    <tr>\n",
       "      <th>2020-01-01</th>\n",
       "      <td>84437544</td>\n",
       "      <td>4221877</td>\n",
       "    </tr>\n",
       "    <tr>\n",
       "      <th>2020-02-01</th>\n",
       "      <td>87139680</td>\n",
       "      <td>4256984</td>\n",
       "    </tr>\n",
       "    <tr>\n",
       "      <th>2020-03-01</th>\n",
       "      <td>94192664</td>\n",
       "      <td>6733486</td>\n",
       "    </tr>\n",
       "    <tr>\n",
       "      <th>2020-04-01</th>\n",
       "      <td>46273252</td>\n",
       "      <td>0</td>\n",
       "    </tr>\n",
       "    <tr>\n",
       "      <th>2020-05-01</th>\n",
       "      <td>39202486</td>\n",
       "      <td>0</td>\n",
       "    </tr>\n",
       "    <tr>\n",
       "      <th>2020-06-01</th>\n",
       "      <td>44876160</td>\n",
       "      <td>0</td>\n",
       "    </tr>\n",
       "    <tr>\n",
       "      <th>2020-07-01</th>\n",
       "      <td>104672569</td>\n",
       "      <td>9780531</td>\n",
       "    </tr>\n",
       "    <tr>\n",
       "      <th>2020-08-01</th>\n",
       "      <td>105252486</td>\n",
       "      <td>8420198</td>\n",
       "    </tr>\n",
       "    <tr>\n",
       "      <th>2020-09-01</th>\n",
       "      <td>102783684</td>\n",
       "      <td>9250531</td>\n",
       "    </tr>\n",
       "    <tr>\n",
       "      <th>2020-10-01</th>\n",
       "      <td>105738385</td>\n",
       "      <td>9246454</td>\n",
       "    </tr>\n",
       "    <tr>\n",
       "      <th>2020-11-01</th>\n",
       "      <td>109759748</td>\n",
       "      <td>10975974</td>\n",
       "    </tr>\n",
       "    <tr>\n",
       "      <th>2020-12-01</th>\n",
       "      <td>141355878</td>\n",
       "      <td>18376264</td>\n",
       "    </tr>\n",
       "    <tr>\n",
       "      <th>2021-01-01</th>\n",
       "      <td>89805489</td>\n",
       "      <td>4490274</td>\n",
       "    </tr>\n",
       "    <tr>\n",
       "      <th>2021-02-01</th>\n",
       "      <td>91850788</td>\n",
       "      <td>4492539</td>\n",
       "    </tr>\n",
       "    <tr>\n",
       "      <th>2021-03-01</th>\n",
       "      <td>97844794</td>\n",
       "      <td>6849135</td>\n",
       "    </tr>\n",
       "    <tr>\n",
       "      <th>2021-04-01</th>\n",
       "      <td>104778133</td>\n",
       "      <td>8382250</td>\n",
       "    </tr>\n",
       "    <tr>\n",
       "      <th>2021-05-01</th>\n",
       "      <td>102914875</td>\n",
       "      <td>9982338</td>\n",
       "    </tr>\n",
       "    <tr>\n",
       "      <th>2021-06-01</th>\n",
       "      <td>103866156</td>\n",
       "      <td>11186615</td>\n",
       "    </tr>\n",
       "    <tr>\n",
       "      <th>2021-07-01</th>\n",
       "      <td>106409746</td>\n",
       "      <td>11240974</td>\n",
       "    </tr>\n",
       "    <tr>\n",
       "      <th>2021-08-01</th>\n",
       "      <td>107937525</td>\n",
       "      <td>9084377</td>\n",
       "    </tr>\n",
       "    <tr>\n",
       "      <th>2021-09-01</th>\n",
       "      <td>102142658</td>\n",
       "      <td>7931412</td>\n",
       "    </tr>\n",
       "    <tr>\n",
       "      <th>2021-10-01</th>\n",
       "      <td>104290946</td>\n",
       "      <td>11582004</td>\n",
       "    </tr>\n",
       "    <tr>\n",
       "      <th>2021-11-01</th>\n",
       "      <td>116192222</td>\n",
       "      <td>13943066</td>\n",
       "    </tr>\n",
       "    <tr>\n",
       "      <th>2021-12-01</th>\n",
       "      <td>144277673</td>\n",
       "      <td>18756097</td>\n",
       "    </tr>\n",
       "  </tbody>\n",
       "</table>\n",
       "</div>"
      ],
      "text/plain": [
       "              Revenue  Advertising expenses\n",
       "date                                       \n",
       "2019-01-01   81764897               4088244\n",
       "2019-02-01   85456774               5127406\n",
       "2019-03-01   91753351               6422734\n",
       "2019-04-01   99180273               7138520\n",
       "2019-05-01   95725994               7978079\n",
       "2019-06-01   95334113               9120070\n",
       "2019-07-01   96608040              10976020\n",
       "2019-08-01   97470010              11696401\n",
       "2019-09-01   92428131               9242813\n",
       "2019-10-01   98496079              11819529\n",
       "2019-11-01  105864024              10586402\n",
       "2019-12-01  137120411              16454449\n",
       "2020-01-01   84437544               4221877\n",
       "2020-02-01   87139680               4256984\n",
       "2020-03-01   94192664               6733486\n",
       "2020-04-01   46273252                     0\n",
       "2020-05-01   39202486                     0\n",
       "2020-06-01   44876160                     0\n",
       "2020-07-01  104672569               9780531\n",
       "2020-08-01  105252486               8420198\n",
       "2020-09-01  102783684               9250531\n",
       "2020-10-01  105738385               9246454\n",
       "2020-11-01  109759748              10975974\n",
       "2020-12-01  141355878              18376264\n",
       "2021-01-01   89805489               4490274\n",
       "2021-02-01   91850788               4492539\n",
       "2021-03-01   97844794               6849135\n",
       "2021-04-01  104778133               8382250\n",
       "2021-05-01  102914875               9982338\n",
       "2021-06-01  103866156              11186615\n",
       "2021-07-01  106409746              11240974\n",
       "2021-08-01  107937525               9084377\n",
       "2021-09-01  102142658               7931412\n",
       "2021-10-01  104290946              11582004\n",
       "2021-11-01  116192222              13943066\n",
       "2021-12-01  144277673              18756097"
      ]
     },
     "execution_count": 408,
     "metadata": {},
     "output_type": "execute_result"
    }
   ],
   "source": [
    "# Удаляем ненужные столбцы\n",
    "df = df.drop(['Month', 'Year'], axis = 1)\n",
    "df"
   ]
  },
  {
   "cell_type": "code",
   "execution_count": 409,
   "id": "0a96ba84",
   "metadata": {},
   "outputs": [
    {
     "data": {
      "text/html": [
       "<div>\n",
       "<style scoped>\n",
       "    .dataframe tbody tr th:only-of-type {\n",
       "        vertical-align: middle;\n",
       "    }\n",
       "\n",
       "    .dataframe tbody tr th {\n",
       "        vertical-align: top;\n",
       "    }\n",
       "\n",
       "    .dataframe thead th {\n",
       "        text-align: right;\n",
       "    }\n",
       "</style>\n",
       "<table border=\"1\" class=\"dataframe\">\n",
       "  <thead>\n",
       "    <tr style=\"text-align: right;\">\n",
       "      <th></th>\n",
       "      <th>Revenue</th>\n",
       "      <th>Advertising expenses</th>\n",
       "    </tr>\n",
       "  </thead>\n",
       "  <tbody>\n",
       "    <tr>\n",
       "      <th>count</th>\n",
       "      <td>36.00</td>\n",
       "      <td>36.00</td>\n",
       "    </tr>\n",
       "    <tr>\n",
       "      <th>mean</th>\n",
       "      <td>97644378.83</td>\n",
       "      <td>8606501.31</td>\n",
       "    </tr>\n",
       "    <tr>\n",
       "      <th>std</th>\n",
       "      <td>21694202.09</td>\n",
       "      <td>4447140.47</td>\n",
       "    </tr>\n",
       "    <tr>\n",
       "      <th>min</th>\n",
       "      <td>39202486.00</td>\n",
       "      <td>0.00</td>\n",
       "    </tr>\n",
       "    <tr>\n",
       "      <th>25%</th>\n",
       "      <td>91826428.75</td>\n",
       "      <td>6098902.00</td>\n",
       "    </tr>\n",
       "    <tr>\n",
       "      <th>50%</th>\n",
       "      <td>98838176.00</td>\n",
       "      <td>9102223.50</td>\n",
       "    </tr>\n",
       "    <tr>\n",
       "      <th>75%</th>\n",
       "      <td>105373960.75</td>\n",
       "      <td>11028668.75</td>\n",
       "    </tr>\n",
       "    <tr>\n",
       "      <th>max</th>\n",
       "      <td>144277673.00</td>\n",
       "      <td>18756097.00</td>\n",
       "    </tr>\n",
       "  </tbody>\n",
       "</table>\n",
       "</div>"
      ],
      "text/plain": [
       "            Revenue Advertising expenses\n",
       "count         36.00                36.00\n",
       "mean    97644378.83           8606501.31\n",
       "std     21694202.09           4447140.47\n",
       "min     39202486.00                 0.00\n",
       "25%     91826428.75           6098902.00\n",
       "50%     98838176.00           9102223.50\n",
       "75%    105373960.75          11028668.75\n",
       "max    144277673.00          18756097.00"
      ]
     },
     "execution_count": 409,
     "metadata": {},
     "output_type": "execute_result"
    }
   ],
   "source": [
    "# Описание основных статистик датасета\n",
    "df.describe().apply(lambda s: s.apply('{0:.2f}'.format))"
   ]
  },
  {
   "cell_type": "code",
   "execution_count": 292,
   "id": "87783031",
   "metadata": {},
   "outputs": [],
   "source": [
    "# Как видно из значений, приведенных выше, данные содержат выбросы, так как минимальное значение выручки 39202486 при нижнем\n",
    "# квартиле 91826428.75. Построим боксплот, гистограмму и график плотности."
   ]
  },
  {
   "cell_type": "code",
   "execution_count": 410,
   "id": "bb4439a1",
   "metadata": {},
   "outputs": [
    {
     "data": {
      "text/plain": [
       "<bound method _AxesBase.autoscale of <AxesSubplot:>>"
      ]
     },
     "execution_count": 410,
     "metadata": {},
     "output_type": "execute_result"
    },
    {
     "data": {
      "image/png": "[encoded data removed]",
      "text/plain": [
       "<Figure size 432x288 with 1 Axes>"
      ]
     },
     "metadata": {
      "needs_background": "light"
     },
     "output_type": "display_data"
    }
   ],
   "source": [
    "df.boxplot(column=['Revenue', 'Advertising expenses']).autoscale"
   ]
  },
  {
   "cell_type": "code",
   "execution_count": 411,
   "id": "13588feb",
   "metadata": {},
   "outputs": [
    {
     "data": {
      "text/plain": [
       "<AxesSubplot:xlabel='Revenue', ylabel='Density'>"
      ]
     },
     "execution_count": 411,
     "metadata": {},
     "output_type": "execute_result"
    },
    {
     "data": {
      "image/png": "[encoded data removed]",
      "text/plain": [
       "<Figure size 432x288 with 1 Axes>"
      ]
     },
     "metadata": {
      "needs_background": "light"
     },
     "output_type": "display_data"
    }
   ],
   "source": [
    "import seaborn as sns\n",
    "sns.distplot(df['Revenue'].dropna())"
   ]
  },
  {
   "cell_type": "code",
   "execution_count": 412,
   "id": "d2df7e19",
   "metadata": {},
   "outputs": [
    {
     "name": "stdout",
     "output_type": "stream",
     "text": [
      "lower_bound = 51183832.75\n",
      "upper_bound = 146016556.75\n"
     ]
    }
   ],
   "source": [
    "# Полученные данные свидетельствуют о ненормальном распределении. Распространение ограничений на предприятия питания и торговли,\n",
    "# связанных с COVID-19, отразилось на дистрибьюторах ресторанного оборудования. Период с апреля по июнь 2020 года охарактеризовался\n",
    "# минимальной выручкой и отсутствием затрат на рекламу.\n",
    "# Воспользуемся методом IQR.\n",
    "IQR = df['Revenue'].quantile(0.75) - df['Revenue'].quantile(0.25)\n",
    "lower_bound = df['Revenue'].quantile(0.25)-3*IQR\n",
    "upper_bound = df['Revenue'].quantile(0.75)+3*IQR\n",
    "print('lower_bound =', lower_bound)\n",
    "print('upper_bound =', upper_bound)"
   ]
  },
  {
   "cell_type": "code",
   "execution_count": 425,
   "id": "e794643e",
   "metadata": {},
   "outputs": [
    {
     "data": {
      "text/html": [
       "<div>\n",
       "<style scoped>\n",
       "    .dataframe tbody tr th:only-of-type {\n",
       "        vertical-align: middle;\n",
       "    }\n",
       "\n",
       "    .dataframe tbody tr th {\n",
       "        vertical-align: top;\n",
       "    }\n",
       "\n",
       "    .dataframe thead th {\n",
       "        text-align: right;\n",
       "    }\n",
       "</style>\n",
       "<table border=\"1\" class=\"dataframe\">\n",
       "  <thead>\n",
       "    <tr style=\"text-align: right;\">\n",
       "      <th></th>\n",
       "      <th>serial</th>\n",
       "      <th>Revenue</th>\n",
       "      <th>Advertising expenses</th>\n",
       "    </tr>\n",
       "    <tr>\n",
       "      <th>date</th>\n",
       "      <th></th>\n",
       "      <th></th>\n",
       "      <th></th>\n",
       "    </tr>\n",
       "  </thead>\n",
       "  <tbody>\n",
       "    <tr>\n",
       "      <th>2019-01-01</th>\n",
       "      <td>1</td>\n",
       "      <td>8.176490e+07</td>\n",
       "      <td>4.088244e+06</td>\n",
       "    </tr>\n",
       "    <tr>\n",
       "      <th>2019-02-01</th>\n",
       "      <td>2</td>\n",
       "      <td>8.545677e+07</td>\n",
       "      <td>5.127406e+06</td>\n",
       "    </tr>\n",
       "    <tr>\n",
       "      <th>2019-03-01</th>\n",
       "      <td>3</td>\n",
       "      <td>9.175335e+07</td>\n",
       "      <td>6.422734e+06</td>\n",
       "    </tr>\n",
       "    <tr>\n",
       "      <th>2019-04-01</th>\n",
       "      <td>4</td>\n",
       "      <td>9.918027e+07</td>\n",
       "      <td>7.138520e+06</td>\n",
       "    </tr>\n",
       "    <tr>\n",
       "      <th>2019-05-01</th>\n",
       "      <td>5</td>\n",
       "      <td>9.572599e+07</td>\n",
       "      <td>7.978079e+06</td>\n",
       "    </tr>\n",
       "    <tr>\n",
       "      <th>2019-06-01</th>\n",
       "      <td>6</td>\n",
       "      <td>9.533411e+07</td>\n",
       "      <td>9.120070e+06</td>\n",
       "    </tr>\n",
       "    <tr>\n",
       "      <th>2019-07-01</th>\n",
       "      <td>7</td>\n",
       "      <td>9.660804e+07</td>\n",
       "      <td>1.097602e+07</td>\n",
       "    </tr>\n",
       "    <tr>\n",
       "      <th>2019-08-01</th>\n",
       "      <td>8</td>\n",
       "      <td>9.747001e+07</td>\n",
       "      <td>1.169640e+07</td>\n",
       "    </tr>\n",
       "    <tr>\n",
       "      <th>2019-09-01</th>\n",
       "      <td>9</td>\n",
       "      <td>9.242813e+07</td>\n",
       "      <td>9.242813e+06</td>\n",
       "    </tr>\n",
       "    <tr>\n",
       "      <th>2019-10-01</th>\n",
       "      <td>10</td>\n",
       "      <td>9.849608e+07</td>\n",
       "      <td>1.181953e+07</td>\n",
       "    </tr>\n",
       "    <tr>\n",
       "      <th>2019-11-01</th>\n",
       "      <td>11</td>\n",
       "      <td>1.058640e+08</td>\n",
       "      <td>1.058640e+07</td>\n",
       "    </tr>\n",
       "    <tr>\n",
       "      <th>2019-12-01</th>\n",
       "      <td>12</td>\n",
       "      <td>1.371204e+08</td>\n",
       "      <td>1.645445e+07</td>\n",
       "    </tr>\n",
       "    <tr>\n",
       "      <th>2020-01-01</th>\n",
       "      <td>13</td>\n",
       "      <td>8.443754e+07</td>\n",
       "      <td>4.221877e+06</td>\n",
       "    </tr>\n",
       "    <tr>\n",
       "      <th>2020-02-01</th>\n",
       "      <td>14</td>\n",
       "      <td>8.713968e+07</td>\n",
       "      <td>4.256984e+06</td>\n",
       "    </tr>\n",
       "    <tr>\n",
       "      <th>2020-03-01</th>\n",
       "      <td>15</td>\n",
       "      <td>9.419266e+07</td>\n",
       "      <td>6.733486e+06</td>\n",
       "    </tr>\n",
       "    <tr>\n",
       "      <th>2020-04-01</th>\n",
       "      <td>16</td>\n",
       "      <td>9.764438e+07</td>\n",
       "      <td>8.606501e+06</td>\n",
       "    </tr>\n",
       "    <tr>\n",
       "      <th>2020-05-01</th>\n",
       "      <td>17</td>\n",
       "      <td>9.764438e+07</td>\n",
       "      <td>8.606501e+06</td>\n",
       "    </tr>\n",
       "    <tr>\n",
       "      <th>2020-06-01</th>\n",
       "      <td>18</td>\n",
       "      <td>9.764438e+07</td>\n",
       "      <td>8.606501e+06</td>\n",
       "    </tr>\n",
       "    <tr>\n",
       "      <th>2020-07-01</th>\n",
       "      <td>19</td>\n",
       "      <td>1.046726e+08</td>\n",
       "      <td>9.780531e+06</td>\n",
       "    </tr>\n",
       "    <tr>\n",
       "      <th>2020-08-01</th>\n",
       "      <td>20</td>\n",
       "      <td>1.052525e+08</td>\n",
       "      <td>8.420198e+06</td>\n",
       "    </tr>\n",
       "    <tr>\n",
       "      <th>2020-09-01</th>\n",
       "      <td>21</td>\n",
       "      <td>1.027837e+08</td>\n",
       "      <td>9.250531e+06</td>\n",
       "    </tr>\n",
       "    <tr>\n",
       "      <th>2020-10-01</th>\n",
       "      <td>22</td>\n",
       "      <td>1.057384e+08</td>\n",
       "      <td>9.246454e+06</td>\n",
       "    </tr>\n",
       "    <tr>\n",
       "      <th>2020-11-01</th>\n",
       "      <td>23</td>\n",
       "      <td>1.097597e+08</td>\n",
       "      <td>1.097597e+07</td>\n",
       "    </tr>\n",
       "    <tr>\n",
       "      <th>2020-12-01</th>\n",
       "      <td>24</td>\n",
       "      <td>1.413559e+08</td>\n",
       "      <td>1.837626e+07</td>\n",
       "    </tr>\n",
       "    <tr>\n",
       "      <th>2021-01-01</th>\n",
       "      <td>25</td>\n",
       "      <td>8.980549e+07</td>\n",
       "      <td>4.490274e+06</td>\n",
       "    </tr>\n",
       "    <tr>\n",
       "      <th>2021-02-01</th>\n",
       "      <td>26</td>\n",
       "      <td>9.185079e+07</td>\n",
       "      <td>4.492539e+06</td>\n",
       "    </tr>\n",
       "    <tr>\n",
       "      <th>2021-03-01</th>\n",
       "      <td>27</td>\n",
       "      <td>9.784479e+07</td>\n",
       "      <td>6.849135e+06</td>\n",
       "    </tr>\n",
       "    <tr>\n",
       "      <th>2021-04-01</th>\n",
       "      <td>28</td>\n",
       "      <td>1.047781e+08</td>\n",
       "      <td>8.382250e+06</td>\n",
       "    </tr>\n",
       "    <tr>\n",
       "      <th>2021-05-01</th>\n",
       "      <td>29</td>\n",
       "      <td>1.029149e+08</td>\n",
       "      <td>9.982338e+06</td>\n",
       "    </tr>\n",
       "    <tr>\n",
       "      <th>2021-06-01</th>\n",
       "      <td>30</td>\n",
       "      <td>1.038662e+08</td>\n",
       "      <td>1.118662e+07</td>\n",
       "    </tr>\n",
       "    <tr>\n",
       "      <th>2021-07-01</th>\n",
       "      <td>31</td>\n",
       "      <td>1.064097e+08</td>\n",
       "      <td>1.124097e+07</td>\n",
       "    </tr>\n",
       "    <tr>\n",
       "      <th>2021-08-01</th>\n",
       "      <td>32</td>\n",
       "      <td>1.079375e+08</td>\n",
       "      <td>9.084377e+06</td>\n",
       "    </tr>\n",
       "    <tr>\n",
       "      <th>2021-09-01</th>\n",
       "      <td>33</td>\n",
       "      <td>1.021427e+08</td>\n",
       "      <td>7.931412e+06</td>\n",
       "    </tr>\n",
       "    <tr>\n",
       "      <th>2021-10-01</th>\n",
       "      <td>34</td>\n",
       "      <td>1.042909e+08</td>\n",
       "      <td>1.158200e+07</td>\n",
       "    </tr>\n",
       "    <tr>\n",
       "      <th>2021-11-01</th>\n",
       "      <td>35</td>\n",
       "      <td>1.161922e+08</td>\n",
       "      <td>1.394307e+07</td>\n",
       "    </tr>\n",
       "    <tr>\n",
       "      <th>2021-12-01</th>\n",
       "      <td>36</td>\n",
       "      <td>1.442777e+08</td>\n",
       "      <td>1.875610e+07</td>\n",
       "    </tr>\n",
       "  </tbody>\n",
       "</table>\n",
       "</div>"
      ],
      "text/plain": [
       "            serial       Revenue  Advertising expenses\n",
       "date                                                  \n",
       "2019-01-01       1  8.176490e+07          4.088244e+06\n",
       "2019-02-01       2  8.545677e+07          5.127406e+06\n",
       "2019-03-01       3  9.175335e+07          6.422734e+06\n",
       "2019-04-01       4  9.918027e+07          7.138520e+06\n",
       "2019-05-01       5  9.572599e+07          7.978079e+06\n",
       "2019-06-01       6  9.533411e+07          9.120070e+06\n",
       "2019-07-01       7  9.660804e+07          1.097602e+07\n",
       "2019-08-01       8  9.747001e+07          1.169640e+07\n",
       "2019-09-01       9  9.242813e+07          9.242813e+06\n",
       "2019-10-01      10  9.849608e+07          1.181953e+07\n",
       "2019-11-01      11  1.058640e+08          1.058640e+07\n",
       "2019-12-01      12  1.371204e+08          1.645445e+07\n",
       "2020-01-01      13  8.443754e+07          4.221877e+06\n",
       "2020-02-01      14  8.713968e+07          4.256984e+06\n",
       "2020-03-01      15  9.419266e+07          6.733486e+06\n",
       "2020-04-01      16  9.764438e+07          8.606501e+06\n",
       "2020-05-01      17  9.764438e+07          8.606501e+06\n",
       "2020-06-01      18  9.764438e+07          8.606501e+06\n",
       "2020-07-01      19  1.046726e+08          9.780531e+06\n",
       "2020-08-01      20  1.052525e+08          8.420198e+06\n",
       "2020-09-01      21  1.027837e+08          9.250531e+06\n",
       "2020-10-01      22  1.057384e+08          9.246454e+06\n",
       "2020-11-01      23  1.097597e+08          1.097597e+07\n",
       "2020-12-01      24  1.413559e+08          1.837626e+07\n",
       "2021-01-01      25  8.980549e+07          4.490274e+06\n",
       "2021-02-01      26  9.185079e+07          4.492539e+06\n",
       "2021-03-01      27  9.784479e+07          6.849135e+06\n",
       "2021-04-01      28  1.047781e+08          8.382250e+06\n",
       "2021-05-01      29  1.029149e+08          9.982338e+06\n",
       "2021-06-01      30  1.038662e+08          1.118662e+07\n",
       "2021-07-01      31  1.064097e+08          1.124097e+07\n",
       "2021-08-01      32  1.079375e+08          9.084377e+06\n",
       "2021-09-01      33  1.021427e+08          7.931412e+06\n",
       "2021-10-01      34  1.042909e+08          1.158200e+07\n",
       "2021-11-01      35  1.161922e+08          1.394307e+07\n",
       "2021-12-01      36  1.442777e+08          1.875610e+07"
      ]
     },
     "execution_count": 425,
     "metadata": {},
     "output_type": "execute_result"
    }
   ],
   "source": [
    "# Для дальнейшего исследования заменим выбросы на среднее значение по столбцам.\n",
    "mean = df['Revenue'].mean()\n",
    "mean2 = df['Advertising expenses'].mean()\n",
    "df.loc[((df.Revenue < lower_bound) | (df.Revenue > upper_bound)), 'Revenue'] = mean\n",
    "df.loc[(df['Advertising expenses'] == 0), 'Advertising expenses'] = mean2\n",
    "df.apply(lambda s: s.apply('{0:.2f}'.format))\n",
    "df"
   ]
  },
  {
   "cell_type": "code",
   "execution_count": 426,
   "id": "8b7e85ee",
   "metadata": {},
   "outputs": [
    {
     "data": {
      "text/plain": [
       "<AxesSubplot:xlabel='Advertising expenses', ylabel='Revenue'>"
      ]
     },
     "execution_count": 426,
     "metadata": {},
     "output_type": "execute_result"
    },
    {
     "data": {
      "image/png": "[encoded data removed]",
      "text/plain": [
       "<Figure size 864x216 with 1 Axes>"
      ]
     },
     "metadata": {
      "needs_background": "light"
     },
     "output_type": "display_data"
    }
   ],
   "source": [
    "# Для оценки влияния рекламных затрат на выручку построим график разброса и матрицу корреляции.\n",
    "df.plot.scatter (x = 'Advertising expenses', y = 'Revenue', figsize=(12,3), c = 'red')"
   ]
  },
  {
   "cell_type": "code",
   "execution_count": 427,
   "id": "c3705471",
   "metadata": {},
   "outputs": [
    {
     "data": {
      "text/plain": [
       "<AxesSubplot:xlabel='date'>"
      ]
     },
     "execution_count": 427,
     "metadata": {},
     "output_type": "execute_result"
    },
    {
     "data": {
      "image/png": "[encoded data removed]",
      "text/plain": [
       "<Figure size 432x288 with 1 Axes>"
      ]
     },
     "metadata": {
      "needs_background": "light"
     },
     "output_type": "display_data"
    }
   ],
   "source": [
    "df[0:31].plot.area(y = ['Advertising expenses', 'Revenue'], alpha = 0.4, stacked=True)"
   ]
  },
  {
   "cell_type": "code",
   "execution_count": 428,
   "id": "46c878c7",
   "metadata": {},
   "outputs": [
    {
     "name": "stdout",
     "output_type": "stream",
     "text": [
      "                      Advertising expenses   Revenue\n",
      "Advertising expenses              1.000000  0.910167\n",
      "Revenue                           0.910167  1.000000\n"
     ]
    },
    {
     "data": {
      "text/plain": [
       "<AxesSubplot:>"
      ]
     },
     "execution_count": 428,
     "metadata": {},
     "output_type": "execute_result"
    },
    {
     "data": {
      "image/png": "[encoded data removed]",
      "text/plain": [
       "<Figure size 432x288 with 2 Axes>"
      ]
     },
     "metadata": {
      "needs_background": "light"
     },
     "output_type": "display_data"
    }
   ],
   "source": [
    "corr_matrix = df.loc[:,['Advertising expenses', 'Revenue']].corr()\n",
    "print(corr_matrix)\n",
    "\n",
    "# Используем тепловую карту для визуализации матрицы корреляции\n",
    "sns.heatmap(corr_matrix, annot=True)"
   ]
  },
  {
   "cell_type": "code",
   "execution_count": 300,
   "id": "61cf3f35",
   "metadata": {},
   "outputs": [],
   "source": [
    "# Высокий коэффициент корреляции свидетельствуют о зависимости между этими переменными.\n",
    "# Увеличение затрат на рекламу влечет за собой увеличение выручки. "
   ]
  },
  {
   "cell_type": "code",
   "execution_count": 429,
   "id": "060510e2",
   "metadata": {},
   "outputs": [
    {
     "data": {
      "image/png": "[encoded data removed]",
      "text/plain": [
       "<Figure size 360x360 with 1 Axes>"
      ]
     },
     "metadata": {
      "needs_background": "light"
     },
     "output_type": "display_data"
    }
   ],
   "source": [
    "sns.lmplot(x='Revenue',\n",
    "           y='Advertising expenses',\n",
    "           data=df);"
   ]
  },
  {
   "cell_type": "code",
   "execution_count": 430,
   "id": "4c6f36ee",
   "metadata": {},
   "outputs": [
    {
     "data": {
      "text/html": [
       "<div>\n",
       "<style scoped>\n",
       "    .dataframe tbody tr th:only-of-type {\n",
       "        vertical-align: middle;\n",
       "    }\n",
       "\n",
       "    .dataframe tbody tr th {\n",
       "        vertical-align: top;\n",
       "    }\n",
       "\n",
       "    .dataframe thead th {\n",
       "        text-align: right;\n",
       "    }\n",
       "</style>\n",
       "<table border=\"1\" class=\"dataframe\">\n",
       "  <thead>\n",
       "    <tr style=\"text-align: right;\">\n",
       "      <th></th>\n",
       "      <th>serial</th>\n",
       "      <th>Revenue</th>\n",
       "      <th>Advertising expenses</th>\n",
       "    </tr>\n",
       "    <tr>\n",
       "      <th>date</th>\n",
       "      <th></th>\n",
       "      <th></th>\n",
       "      <th></th>\n",
       "    </tr>\n",
       "  </thead>\n",
       "  <tbody>\n",
       "    <tr>\n",
       "      <th>2019-01-01</th>\n",
       "      <td>1</td>\n",
       "      <td>8.176490e+07</td>\n",
       "      <td>4.088244e+06</td>\n",
       "    </tr>\n",
       "    <tr>\n",
       "      <th>2019-02-01</th>\n",
       "      <td>2</td>\n",
       "      <td>8.545677e+07</td>\n",
       "      <td>5.127406e+06</td>\n",
       "    </tr>\n",
       "    <tr>\n",
       "      <th>2019-03-01</th>\n",
       "      <td>3</td>\n",
       "      <td>9.175335e+07</td>\n",
       "      <td>6.422734e+06</td>\n",
       "    </tr>\n",
       "    <tr>\n",
       "      <th>2019-04-01</th>\n",
       "      <td>4</td>\n",
       "      <td>9.918027e+07</td>\n",
       "      <td>7.138520e+06</td>\n",
       "    </tr>\n",
       "    <tr>\n",
       "      <th>2019-05-01</th>\n",
       "      <td>5</td>\n",
       "      <td>9.572599e+07</td>\n",
       "      <td>7.978079e+06</td>\n",
       "    </tr>\n",
       "    <tr>\n",
       "      <th>2019-06-01</th>\n",
       "      <td>6</td>\n",
       "      <td>9.533411e+07</td>\n",
       "      <td>9.120070e+06</td>\n",
       "    </tr>\n",
       "    <tr>\n",
       "      <th>2019-07-01</th>\n",
       "      <td>7</td>\n",
       "      <td>9.660804e+07</td>\n",
       "      <td>1.097602e+07</td>\n",
       "    </tr>\n",
       "    <tr>\n",
       "      <th>2019-08-01</th>\n",
       "      <td>8</td>\n",
       "      <td>9.747001e+07</td>\n",
       "      <td>1.169640e+07</td>\n",
       "    </tr>\n",
       "    <tr>\n",
       "      <th>2019-09-01</th>\n",
       "      <td>9</td>\n",
       "      <td>9.242813e+07</td>\n",
       "      <td>9.242813e+06</td>\n",
       "    </tr>\n",
       "    <tr>\n",
       "      <th>2019-10-01</th>\n",
       "      <td>10</td>\n",
       "      <td>9.849608e+07</td>\n",
       "      <td>1.181953e+07</td>\n",
       "    </tr>\n",
       "    <tr>\n",
       "      <th>2019-11-01</th>\n",
       "      <td>11</td>\n",
       "      <td>1.058640e+08</td>\n",
       "      <td>1.058640e+07</td>\n",
       "    </tr>\n",
       "    <tr>\n",
       "      <th>2019-12-01</th>\n",
       "      <td>12</td>\n",
       "      <td>1.371204e+08</td>\n",
       "      <td>1.645445e+07</td>\n",
       "    </tr>\n",
       "    <tr>\n",
       "      <th>2020-01-01</th>\n",
       "      <td>13</td>\n",
       "      <td>8.443754e+07</td>\n",
       "      <td>4.221877e+06</td>\n",
       "    </tr>\n",
       "    <tr>\n",
       "      <th>2020-02-01</th>\n",
       "      <td>14</td>\n",
       "      <td>8.713968e+07</td>\n",
       "      <td>4.256984e+06</td>\n",
       "    </tr>\n",
       "    <tr>\n",
       "      <th>2020-03-01</th>\n",
       "      <td>15</td>\n",
       "      <td>9.419266e+07</td>\n",
       "      <td>6.733486e+06</td>\n",
       "    </tr>\n",
       "    <tr>\n",
       "      <th>2020-04-01</th>\n",
       "      <td>16</td>\n",
       "      <td>9.764438e+07</td>\n",
       "      <td>8.606501e+06</td>\n",
       "    </tr>\n",
       "    <tr>\n",
       "      <th>2020-05-01</th>\n",
       "      <td>17</td>\n",
       "      <td>9.764438e+07</td>\n",
       "      <td>8.606501e+06</td>\n",
       "    </tr>\n",
       "    <tr>\n",
       "      <th>2020-06-01</th>\n",
       "      <td>18</td>\n",
       "      <td>9.764438e+07</td>\n",
       "      <td>8.606501e+06</td>\n",
       "    </tr>\n",
       "    <tr>\n",
       "      <th>2020-07-01</th>\n",
       "      <td>19</td>\n",
       "      <td>1.046726e+08</td>\n",
       "      <td>9.780531e+06</td>\n",
       "    </tr>\n",
       "    <tr>\n",
       "      <th>2020-08-01</th>\n",
       "      <td>20</td>\n",
       "      <td>1.052525e+08</td>\n",
       "      <td>8.420198e+06</td>\n",
       "    </tr>\n",
       "    <tr>\n",
       "      <th>2020-09-01</th>\n",
       "      <td>21</td>\n",
       "      <td>1.027837e+08</td>\n",
       "      <td>9.250531e+06</td>\n",
       "    </tr>\n",
       "    <tr>\n",
       "      <th>2020-10-01</th>\n",
       "      <td>22</td>\n",
       "      <td>1.057384e+08</td>\n",
       "      <td>9.246454e+06</td>\n",
       "    </tr>\n",
       "    <tr>\n",
       "      <th>2020-11-01</th>\n",
       "      <td>23</td>\n",
       "      <td>1.097597e+08</td>\n",
       "      <td>1.097597e+07</td>\n",
       "    </tr>\n",
       "    <tr>\n",
       "      <th>2020-12-01</th>\n",
       "      <td>24</td>\n",
       "      <td>1.413559e+08</td>\n",
       "      <td>1.837626e+07</td>\n",
       "    </tr>\n",
       "    <tr>\n",
       "      <th>2021-01-01</th>\n",
       "      <td>25</td>\n",
       "      <td>8.980549e+07</td>\n",
       "      <td>4.490274e+06</td>\n",
       "    </tr>\n",
       "    <tr>\n",
       "      <th>2021-02-01</th>\n",
       "      <td>26</td>\n",
       "      <td>9.185079e+07</td>\n",
       "      <td>4.492539e+06</td>\n",
       "    </tr>\n",
       "    <tr>\n",
       "      <th>2021-03-01</th>\n",
       "      <td>27</td>\n",
       "      <td>9.784479e+07</td>\n",
       "      <td>6.849135e+06</td>\n",
       "    </tr>\n",
       "    <tr>\n",
       "      <th>2021-04-01</th>\n",
       "      <td>28</td>\n",
       "      <td>1.047781e+08</td>\n",
       "      <td>8.382250e+06</td>\n",
       "    </tr>\n",
       "    <tr>\n",
       "      <th>2021-05-01</th>\n",
       "      <td>29</td>\n",
       "      <td>1.029149e+08</td>\n",
       "      <td>9.982338e+06</td>\n",
       "    </tr>\n",
       "    <tr>\n",
       "      <th>2021-06-01</th>\n",
       "      <td>30</td>\n",
       "      <td>1.038662e+08</td>\n",
       "      <td>1.118662e+07</td>\n",
       "    </tr>\n",
       "    <tr>\n",
       "      <th>2021-07-01</th>\n",
       "      <td>31</td>\n",
       "      <td>1.064097e+08</td>\n",
       "      <td>1.124097e+07</td>\n",
       "    </tr>\n",
       "    <tr>\n",
       "      <th>2021-08-01</th>\n",
       "      <td>32</td>\n",
       "      <td>1.079375e+08</td>\n",
       "      <td>9.084377e+06</td>\n",
       "    </tr>\n",
       "    <tr>\n",
       "      <th>2021-09-01</th>\n",
       "      <td>33</td>\n",
       "      <td>1.021427e+08</td>\n",
       "      <td>7.931412e+06</td>\n",
       "    </tr>\n",
       "    <tr>\n",
       "      <th>2021-10-01</th>\n",
       "      <td>34</td>\n",
       "      <td>1.042909e+08</td>\n",
       "      <td>1.158200e+07</td>\n",
       "    </tr>\n",
       "    <tr>\n",
       "      <th>2021-11-01</th>\n",
       "      <td>35</td>\n",
       "      <td>1.161922e+08</td>\n",
       "      <td>1.394307e+07</td>\n",
       "    </tr>\n",
       "    <tr>\n",
       "      <th>2021-12-01</th>\n",
       "      <td>36</td>\n",
       "      <td>1.442777e+08</td>\n",
       "      <td>1.875610e+07</td>\n",
       "    </tr>\n",
       "  </tbody>\n",
       "</table>\n",
       "</div>"
      ],
      "text/plain": [
       "            serial       Revenue  Advertising expenses\n",
       "date                                                  \n",
       "2019-01-01       1  8.176490e+07          4.088244e+06\n",
       "2019-02-01       2  8.545677e+07          5.127406e+06\n",
       "2019-03-01       3  9.175335e+07          6.422734e+06\n",
       "2019-04-01       4  9.918027e+07          7.138520e+06\n",
       "2019-05-01       5  9.572599e+07          7.978079e+06\n",
       "2019-06-01       6  9.533411e+07          9.120070e+06\n",
       "2019-07-01       7  9.660804e+07          1.097602e+07\n",
       "2019-08-01       8  9.747001e+07          1.169640e+07\n",
       "2019-09-01       9  9.242813e+07          9.242813e+06\n",
       "2019-10-01      10  9.849608e+07          1.181953e+07\n",
       "2019-11-01      11  1.058640e+08          1.058640e+07\n",
       "2019-12-01      12  1.371204e+08          1.645445e+07\n",
       "2020-01-01      13  8.443754e+07          4.221877e+06\n",
       "2020-02-01      14  8.713968e+07          4.256984e+06\n",
       "2020-03-01      15  9.419266e+07          6.733486e+06\n",
       "2020-04-01      16  9.764438e+07          8.606501e+06\n",
       "2020-05-01      17  9.764438e+07          8.606501e+06\n",
       "2020-06-01      18  9.764438e+07          8.606501e+06\n",
       "2020-07-01      19  1.046726e+08          9.780531e+06\n",
       "2020-08-01      20  1.052525e+08          8.420198e+06\n",
       "2020-09-01      21  1.027837e+08          9.250531e+06\n",
       "2020-10-01      22  1.057384e+08          9.246454e+06\n",
       "2020-11-01      23  1.097597e+08          1.097597e+07\n",
       "2020-12-01      24  1.413559e+08          1.837626e+07\n",
       "2021-01-01      25  8.980549e+07          4.490274e+06\n",
       "2021-02-01      26  9.185079e+07          4.492539e+06\n",
       "2021-03-01      27  9.784479e+07          6.849135e+06\n",
       "2021-04-01      28  1.047781e+08          8.382250e+06\n",
       "2021-05-01      29  1.029149e+08          9.982338e+06\n",
       "2021-06-01      30  1.038662e+08          1.118662e+07\n",
       "2021-07-01      31  1.064097e+08          1.124097e+07\n",
       "2021-08-01      32  1.079375e+08          9.084377e+06\n",
       "2021-09-01      33  1.021427e+08          7.931412e+06\n",
       "2021-10-01      34  1.042909e+08          1.158200e+07\n",
       "2021-11-01      35  1.161922e+08          1.394307e+07\n",
       "2021-12-01      36  1.442777e+08          1.875610e+07"
      ]
     },
     "execution_count": 430,
     "metadata": {},
     "output_type": "execute_result"
    }
   ],
   "source": [
    "df"
   ]
  },
  {
   "cell_type": "code",
   "execution_count": 253,
   "id": "f2961018",
   "metadata": {},
   "outputs": [],
   "source": [
    "# Из приведенного выше графика мы можем видеть, что существует положительная линейная зависимость между затратами на рекламу и\n",
    "# выручкой компании. "
   ]
  },
  {
   "cell_type": "code",
   "execution_count": 431,
   "id": "d1c31592",
   "metadata": {},
   "outputs": [
    {
     "ename": "ValueError",
     "evalue": "cannot insert serial, already exists",
     "output_type": "error",
     "traceback": [
      "\u001b[0;31m---------------------------------------------------------------------------\u001b[0m",
      "\u001b[0;31mValueError\u001b[0m                                Traceback (most recent call last)",
      "\u001b[0;32m/var/folders/q5/9_vkgnt11cz43lp8c5xxvvp40000gn/T/ipykernel_3965/840057050.py\u001b[0m in \u001b[0;36m<module>\u001b[0;34m\u001b[0m\n\u001b[0;32m----> 1\u001b[0;31m \u001b[0mdf\u001b[0m\u001b[0;34m.\u001b[0m\u001b[0minsert\u001b[0m\u001b[0;34m(\u001b[0m\u001b[0;36m0\u001b[0m\u001b[0;34m,\u001b[0m \u001b[0;34m'serial'\u001b[0m\u001b[0;34m,\u001b[0m \u001b[0mrange\u001b[0m\u001b[0;34m(\u001b[0m\u001b[0;36m1\u001b[0m\u001b[0;34m,\u001b[0m \u001b[0;36m1\u001b[0m \u001b[0;34m+\u001b[0m \u001b[0mlen\u001b[0m\u001b[0;34m(\u001b[0m\u001b[0mdf\u001b[0m\u001b[0;34m)\u001b[0m\u001b[0;34m)\u001b[0m\u001b[0;34m)\u001b[0m\u001b[0;34m\u001b[0m\u001b[0;34m\u001b[0m\u001b[0m\n\u001b[0m\u001b[1;32m      2\u001b[0m \u001b[0mdf\u001b[0m\u001b[0;34m.\u001b[0m\u001b[0mapply\u001b[0m\u001b[0;34m(\u001b[0m\u001b[0;32mlambda\u001b[0m \u001b[0ms\u001b[0m\u001b[0;34m:\u001b[0m \u001b[0ms\u001b[0m\u001b[0;34m.\u001b[0m\u001b[0mapply\u001b[0m\u001b[0;34m(\u001b[0m\u001b[0;34m'{0:.2f}'\u001b[0m\u001b[0;34m.\u001b[0m\u001b[0mformat\u001b[0m\u001b[0;34m)\u001b[0m\u001b[0;34m)\u001b[0m\u001b[0;34m\u001b[0m\u001b[0;34m\u001b[0m\u001b[0m\n\u001b[1;32m      3\u001b[0m \u001b[0mdf\u001b[0m\u001b[0;34m\u001b[0m\u001b[0;34m\u001b[0m\u001b[0m\n",
      "\u001b[0;32m~/opt/anaconda3/lib/python3.9/site-packages/pandas/core/frame.py\u001b[0m in \u001b[0;36minsert\u001b[0;34m(self, loc, column, value, allow_duplicates)\u001b[0m\n\u001b[1;32m   4412\u001b[0m         \u001b[0;32mif\u001b[0m \u001b[0;32mnot\u001b[0m \u001b[0mallow_duplicates\u001b[0m \u001b[0;32mand\u001b[0m \u001b[0mcolumn\u001b[0m \u001b[0;32min\u001b[0m \u001b[0mself\u001b[0m\u001b[0;34m.\u001b[0m\u001b[0mcolumns\u001b[0m\u001b[0;34m:\u001b[0m\u001b[0;34m\u001b[0m\u001b[0;34m\u001b[0m\u001b[0m\n\u001b[1;32m   4413\u001b[0m             \u001b[0;31m# Should this be a different kind of error??\u001b[0m\u001b[0;34m\u001b[0m\u001b[0;34m\u001b[0m\u001b[0m\n\u001b[0;32m-> 4414\u001b[0;31m             \u001b[0;32mraise\u001b[0m \u001b[0mValueError\u001b[0m\u001b[0;34m(\u001b[0m\u001b[0;34mf\"cannot insert {column}, already exists\"\u001b[0m\u001b[0;34m)\u001b[0m\u001b[0;34m\u001b[0m\u001b[0;34m\u001b[0m\u001b[0m\n\u001b[0m\u001b[1;32m   4415\u001b[0m         \u001b[0;32mif\u001b[0m \u001b[0;32mnot\u001b[0m \u001b[0misinstance\u001b[0m\u001b[0;34m(\u001b[0m\u001b[0mloc\u001b[0m\u001b[0;34m,\u001b[0m \u001b[0mint\u001b[0m\u001b[0;34m)\u001b[0m\u001b[0;34m:\u001b[0m\u001b[0;34m\u001b[0m\u001b[0;34m\u001b[0m\u001b[0m\n\u001b[1;32m   4416\u001b[0m             \u001b[0;32mraise\u001b[0m \u001b[0mTypeError\u001b[0m\u001b[0;34m(\u001b[0m\u001b[0;34m\"loc must be int\"\u001b[0m\u001b[0;34m)\u001b[0m\u001b[0;34m\u001b[0m\u001b[0;34m\u001b[0m\u001b[0m\n",
      "\u001b[0;31mValueError\u001b[0m: cannot insert serial, already exists"
     ]
    }
   ],
   "source": [
    "df.insert(0, 'serial', range(1, 1 + len(df)))\n",
    "df.apply(lambda s: s.apply('{0:.2f}'.format))\n",
    "df"
   ]
  },
  {
   "cell_type": "code",
   "execution_count": 432,
   "id": "454e3683",
   "metadata": {},
   "outputs": [
    {
     "data": {
      "image/png": "[encoded data removed]",
      "text/plain": [
       "<Figure size 360x360 with 1 Axes>"
      ]
     },
     "metadata": {
      "needs_background": "light"
     },
     "output_type": "display_data"
    }
   ],
   "source": [
    "# Построим график линейной регресии для оценки зависимости выручки от даты, а также матрицу корреляции.\n",
    "sns.lmplot(x='serial',\n",
    "           y='Revenue',\n",
    "           data=df);"
   ]
  },
  {
   "cell_type": "code",
   "execution_count": 433,
   "id": "1f42836e",
   "metadata": {},
   "outputs": [
    {
     "name": "stdout",
     "output_type": "stream",
     "text": [
      "                      Advertising expenses   Revenue    serial\n",
      "Advertising expenses              1.000000  0.910167  0.350648\n",
      "Revenue                           0.910167  1.000000  0.476032\n",
      "serial                            0.350648  0.476032  1.000000\n"
     ]
    }
   ],
   "source": [
    "corr_matrix = df.loc[:,['Advertising expenses', 'Revenue', 'serial']].corr()\n",
    "print(corr_matrix)"
   ]
  },
  {
   "cell_type": "code",
   "execution_count": null,
   "id": "7ced6d9d",
   "metadata": {},
   "outputs": [],
   "source": [
    "# Проведенное исследование демонстрирует, что связь между датой и переменными выручки и рекламных затрат весьма расплывчатая."
   ]
  },
  {
   "cell_type": "code",
   "execution_count": null,
   "id": "64b97f75",
   "metadata": {},
   "outputs": [],
   "source": [
    "# Построим график временного ряда атрибута Revenue"
   ]
  },
  {
   "cell_type": "code",
   "execution_count": 435,
   "id": "167bbcb9",
   "metadata": {},
   "outputs": [
    {
     "data": {
      "text/plain": [
       "<AxesSubplot:title={'center':'Dynamics of sales'}, xlabel='date', ylabel='Revenue'>"
      ]
     },
     "execution_count": 435,
     "metadata": {},
     "output_type": "execute_result"
    },
    {
     "data": {
      "image/png": "[encoded data removed]",
      "text/plain": [
       "<Figure size 864x432 with 1 Axes>"
      ]
     },
     "metadata": {
      "needs_background": "light"
     },
     "output_type": "display_data"
    }
   ],
   "source": [
    "df['Revenue'].plot(figsize=(12,6), title='Dynamics of sales', xlabel='date', ylabel='Revenue')"
   ]
  },
  {
   "cell_type": "code",
   "execution_count": 436,
   "id": "d48fa993",
   "metadata": {},
   "outputs": [
    {
     "data": {
      "image/png": "[encoded data removed]",
      "text/plain": [
       "<Figure size 432x288 with 4 Axes>"
      ]
     },
     "metadata": {
      "needs_background": "light"
     },
     "output_type": "display_data"
    }
   ],
   "source": [
    "# Построим декомпозицию временного ряда. На графике явно прослеживается сезонность и тренд увеличения выручки с течением времени.\n",
    "result = seasonal_decompose(df['Revenue'], model='add').plot()"
   ]
  },
  {
   "cell_type": "code",
   "execution_count": 447,
   "id": "4a5a9f77",
   "metadata": {},
   "outputs": [],
   "source": [
    "df.to_csv('/Users/nastya/Documents/Projects/python/Dataset-test.csv')"
   ]
  },
  {
   "cell_type": "code",
   "execution_count": 449,
   "id": "b8d69efc",
   "metadata": {},
   "outputs": [
    {
     "name": "stdout",
     "output_type": "stream",
     "text": [
      "Augmented Dickey-Fuller Statistic: -3.602699\n",
      "p-value: 0.005710\n"
     ]
    }
   ],
   "source": [
    "from statsmodels.tsa.stattools import adfuller \n",
    "from numpy import log \n",
    "mydata = pd.read_csv('/Users/nastya/Documents/Projects/python/Dataset-test.csv', names = ['value'], header = 0)\n",
    "res = adfuller(mydata.value.dropna()) \n",
    "print('Augmented Dickey-Fuller Statistic: %f' % res[0]) \n",
    "print('p-value: %f' % res[1]) "
   ]
  },
  {
   "cell_type": "code",
   "execution_count": 451,
   "id": "fa6e5729",
   "metadata": {},
   "outputs": [
    {
     "data": {
      "text/html": [
       "<table class=\"simpletable\">\n",
       "<caption>SARIMAX Results</caption>\n",
       "<tr>\n",
       "  <th>Dep. Variable:</th>           <td>y</td>        <th>  No. Observations:  </th>    <td>36</td>   \n",
       "</tr>\n",
       "<tr>\n",
       "  <th>Model:</th>           <td>SARIMAX(0, 1, 0)</td> <th>  Log Likelihood     </th> <td>-630.071</td>\n",
       "</tr>\n",
       "<tr>\n",
       "  <th>Date:</th>            <td>Sun, 20 Mar 2022</td> <th>  AIC                </th> <td>1262.143</td>\n",
       "</tr>\n",
       "<tr>\n",
       "  <th>Time:</th>                <td>22:12:18</td>     <th>  BIC                </th> <td>1263.698</td>\n",
       "</tr>\n",
       "<tr>\n",
       "  <th>Sample:</th>                  <td>0</td>        <th>  HQIC               </th> <td>1262.680</td>\n",
       "</tr>\n",
       "<tr>\n",
       "  <th></th>                       <td> - 36</td>      <th>                     </th>     <td> </td>   \n",
       "</tr>\n",
       "<tr>\n",
       "  <th>Covariance Type:</th>        <td>opg</td>       <th>                     </th>     <td> </td>   \n",
       "</tr>\n",
       "</table>\n",
       "<table class=\"simpletable\">\n",
       "<tr>\n",
       "     <td></td>       <th>coef</th>     <th>std err</th>      <th>z</th>      <th>P>|z|</th>  <th>[0.025</th>    <th>0.975]</th>  \n",
       "</tr>\n",
       "<tr>\n",
       "  <th>sigma2</th> <td> 2.463e+14</td> <td> 3.12e+13</td> <td>    7.897</td> <td> 0.000</td> <td> 1.85e+14</td> <td> 3.07e+14</td>\n",
       "</tr>\n",
       "</table>\n",
       "<table class=\"simpletable\">\n",
       "<tr>\n",
       "  <th>Ljung-Box (L1) (Q):</th>     <td>3.71</td> <th>  Jarque-Bera (JB):  </th> <td>64.32</td>\n",
       "</tr>\n",
       "<tr>\n",
       "  <th>Prob(Q):</th>                <td>0.05</td> <th>  Prob(JB):          </th> <td>0.00</td> \n",
       "</tr>\n",
       "<tr>\n",
       "  <th>Heteroskedasticity (H):</th> <td>0.93</td> <th>  Skew:              </th> <td>-1.75</td>\n",
       "</tr>\n",
       "<tr>\n",
       "  <th>Prob(H) (two-sided):</th>    <td>0.91</td> <th>  Kurtosis:          </th> <td>8.65</td> \n",
       "</tr>\n",
       "</table><br/><br/>Warnings:<br/>[1] Covariance matrix calculated using the outer product of gradients (complex-step)."
      ],
      "text/plain": [
       "<class 'statsmodels.iolib.summary.Summary'>\n",
       "\"\"\"\n",
       "                               SARIMAX Results                                \n",
       "==============================================================================\n",
       "Dep. Variable:                      y   No. Observations:                   36\n",
       "Model:               SARIMAX(0, 1, 0)   Log Likelihood                -630.071\n",
       "Date:                Sun, 20 Mar 2022   AIC                           1262.143\n",
       "Time:                        22:12:18   BIC                           1263.698\n",
       "Sample:                             0   HQIC                          1262.680\n",
       "                                 - 36                                         \n",
       "Covariance Type:                  opg                                         \n",
       "==============================================================================\n",
       "                 coef    std err          z      P>|z|      [0.025      0.975]\n",
       "------------------------------------------------------------------------------\n",
       "sigma2      2.463e+14   3.12e+13      7.897      0.000    1.85e+14    3.07e+14\n",
       "===================================================================================\n",
       "Ljung-Box (L1) (Q):                   3.71   Jarque-Bera (JB):                64.32\n",
       "Prob(Q):                              0.05   Prob(JB):                         0.00\n",
       "Heteroskedasticity (H):               0.93   Skew:                            -1.75\n",
       "Prob(H) (two-sided):                  0.91   Kurtosis:                         8.65\n",
       "===================================================================================\n",
       "\n",
       "Warnings:\n",
       "[1] Covariance matrix calculated using the outer product of gradients (complex-step).\n",
       "\"\"\""
      ]
     },
     "execution_count": 451,
     "metadata": {},
     "output_type": "execute_result"
    }
   ],
   "source": [
    "auto_arima(df['Revenue']).summary()"
   ]
  },
  {
   "cell_type": "code",
   "execution_count": 493,
   "id": "51e77027",
   "metadata": {},
   "outputs": [
    {
     "data": {
      "image/png": "[encoded data removed]",
      "text/plain": [
       "<Figure size 432x288 with 1 Axes>"
      ]
     },
     "metadata": {
      "needs_background": "light"
     },
     "output_type": "display_data"
    },
    {
     "data": {
      "image/png": "[encoded data removed]",
      "text/plain": [
       "<Figure size 432x288 with 1 Axes>"
      ]
     },
     "metadata": {
      "needs_background": "light"
     },
     "output_type": "display_data"
    }
   ],
   "source": [
    "from statsmodels.graphics.tsaplots import plot_acf\n",
    "plot_acf(df['Revenue'])\n",
    "plt.show()\n",
    "plot_pacf(df['Revenue'])\n",
    "pyplot.show()"
   ]
  },
  {
   "cell_type": "code",
   "execution_count": null,
   "id": "7ac73e2c",
   "metadata": {},
   "outputs": [],
   "source": [
    "# Полученный график автокорреляции позволяет отвергнуть наличие сезонных колебаний. То, что корреляция показывает отрицательные\n",
    "# значения говорит об отсутствии тренда."
   ]
  },
  {
   "cell_type": "code",
   "execution_count": 452,
   "id": "53666bec",
   "metadata": {},
   "outputs": [],
   "source": [
    "#Несмотря на первоначальную оценку данных, тест Дики-Фуллера и запуск модели autoarima показали,\n",
    "#что данный временной ряд является стационарным. Разделим данные на train/test и установим один (последний) год для тестироваия.\n",
    "train = df.iloc[:len(df)-12]\n",
    "test = df.iloc[len(df)-12:]"
   ]
  },
  {
   "cell_type": "code",
   "execution_count": 453,
   "id": "a033b62f",
   "metadata": {},
   "outputs": [
    {
     "data": {
      "text/html": [
       "<table class=\"simpletable\">\n",
       "<caption>ARIMA Model Results</caption>\n",
       "<tr>\n",
       "  <th>Dep. Variable:</th>     <td>D.Revenue</td>    <th>  No. Observations:  </th>      <td>23</td>     \n",
       "</tr>\n",
       "<tr>\n",
       "  <th>Model:</th>          <td>ARIMA(0, 1, 0)</td>  <th>  Log Likelihood     </th>   <td>-412.248</td>  \n",
       "</tr>\n",
       "<tr>\n",
       "  <th>Method:</th>               <td>css</td>       <th>  S.D. of innovations</th> <td>14722756.873</td>\n",
       "</tr>\n",
       "<tr>\n",
       "  <th>Date:</th>          <td>Sun, 20 Mar 2022</td> <th>  AIC                </th>    <td>828.497</td>  \n",
       "</tr>\n",
       "<tr>\n",
       "  <th>Time:</th>              <td>22:12:48</td>     <th>  BIC                </th>    <td>830.768</td>  \n",
       "</tr>\n",
       "<tr>\n",
       "  <th>Sample:</th>           <td>02-01-2019</td>    <th>  HQIC               </th>    <td>829.068</td>  \n",
       "</tr>\n",
       "<tr>\n",
       "  <th></th>                 <td>- 12-01-2020</td>   <th>                     </th>       <td> </td>     \n",
       "</tr>\n",
       "</table>\n",
       "<table class=\"simpletable\">\n",
       "<tr>\n",
       "    <td></td>       <th>coef</th>     <th>std err</th>      <th>z</th>      <th>P>|z|</th>  <th>[0.025</th>    <th>0.975]</th>  \n",
       "</tr>\n",
       "<tr>\n",
       "  <th>const</th> <td> 2.591e+06</td> <td> 3.07e+06</td> <td>    0.844</td> <td> 0.399</td> <td>-3.43e+06</td> <td> 8.61e+06</td>\n",
       "</tr>\n",
       "</table>"
      ],
      "text/plain": [
       "<class 'statsmodels.iolib.summary.Summary'>\n",
       "\"\"\"\n",
       "                             ARIMA Model Results                              \n",
       "==============================================================================\n",
       "Dep. Variable:              D.Revenue   No. Observations:                   23\n",
       "Model:                 ARIMA(0, 1, 0)   Log Likelihood                -412.248\n",
       "Method:                           css   S.D. of innovations       14722756.873\n",
       "Date:                Sun, 20 Mar 2022   AIC                            828.497\n",
       "Time:                        22:12:48   BIC                            830.768\n",
       "Sample:                    02-01-2019   HQIC                           829.068\n",
       "                         - 12-01-2020                                         \n",
       "==============================================================================\n",
       "                 coef    std err          z      P>|z|      [0.025      0.975]\n",
       "------------------------------------------------------------------------------\n",
       "const       2.591e+06   3.07e+06      0.844      0.399   -3.43e+06    8.61e+06\n",
       "==============================================================================\n",
       "\"\"\""
      ]
     },
     "execution_count": 453,
     "metadata": {},
     "output_type": "execute_result"
    }
   ],
   "source": [
    "# Обучим модель ARIMA(0,1,0) на train['Revenue']\n",
    "from statsmodels.tsa.arima_model import ARIMA\n",
    "model = ARIMA(train['Revenue'], order=(0,1,0))\n",
    "results = model.fit(disp=False)\n",
    "results.summary()"
   ]
  },
  {
   "cell_type": "code",
   "execution_count": 454,
   "id": "bea44d1e",
   "metadata": {},
   "outputs": [
    {
     "data": {
      "text/plain": [
       "2021-01-01    1.439468e+08\n",
       "2021-02-01    1.465377e+08\n",
       "2021-03-01    1.491286e+08\n",
       "2021-04-01    1.517195e+08\n",
       "2021-05-01    1.543104e+08\n",
       "2021-06-01    1.569014e+08\n",
       "2021-07-01    1.594923e+08\n",
       "2021-08-01    1.620832e+08\n",
       "2021-09-01    1.646741e+08\n",
       "2021-10-01    1.672650e+08\n",
       "2021-11-01    1.698559e+08\n",
       "2021-12-01    1.724468e+08\n",
       "Freq: MS, Name:  Predictions ARIMA(0, 1, 0), dtype: float64"
      ]
     },
     "execution_count": 454,
     "metadata": {},
     "output_type": "execute_result"
    }
   ],
   "source": [
    "#получим прогнозируемые значения\n",
    "start = len(train)\n",
    "end = len(train)+len(test)-1\n",
    "predictions = results.predict(start=start, end=end, dynamic=False, typ='levels').rename(' Predictions ARIMA(0, 1, 0)')\n",
    "predictions"
   ]
  },
  {
   "cell_type": "code",
   "execution_count": 455,
   "id": "6d9285ad",
   "metadata": {},
   "outputs": [
    {
     "name": "stdout",
     "output_type": "stream",
     "text": [
      "predicted=143946790.2, expected=89805489.0\n",
      "predicted=146537702.4, expected=91850788.0\n",
      "predicted=149128614.7, expected=97844794.0\n",
      "predicted=151719526.9, expected=104778133.0\n",
      "predicted=154310439.1, expected=102914875.0\n",
      "predicted=156901351.3, expected=103866156.0\n",
      "predicted=159492263.5, expected=106409746.0\n",
      "predicted=162083175.7, expected=107937525.0\n",
      "predicted=164674088.0, expected=102142658.0\n",
      "predicted=167265000.2, expected=104290946.0\n",
      "predicted=169855912.4, expected=116192222.0\n",
      "predicted=172446824.6, expected=144277673.0\n"
     ]
    }
   ],
   "source": [
    "#Сравниваем результаты\n",
    "for i in range (len(predictions)):\n",
    "    print(f\"predicted={predictions[i]:<11.10}, expected={test['Revenue'][i]}\")"
   ]
  },
  {
   "cell_type": "code",
   "execution_count": 462,
   "id": "52db9e59",
   "metadata": {},
   "outputs": [
    {
     "data": {
      "text/plain": [
       "[Text(0.5, 0, 'date'), Text(0, 0.5, 'Revenue')]"
      ]
     },
     "execution_count": 462,
     "metadata": {},
     "output_type": "execute_result"
    },
    {
     "data": {
      "image/png": "[encoded data removed]",
      "text/plain": [
       "<Figure size 864x432 with 1 Axes>"
      ]
     },
     "metadata": {
      "needs_background": "light"
     },
     "output_type": "display_data"
    }
   ],
   "source": [
    "# Построим график прогнозируемых и известных значений\n",
    "ax = test['Revenue'].plot(legend=True, figsize=(12,6), title = 'Dynamics of sales')\n",
    "predictions.plot(legend=True)\n",
    "ax.autoscale(axis='x', tight=True)\n",
    "ax.set(xlabel='date', ylabel='Revenue')"
   ]
  },
  {
   "cell_type": "code",
   "execution_count": 464,
   "id": "c5235f01",
   "metadata": {},
   "outputs": [
    {
     "name": "stdout",
     "output_type": "stream",
     "text": [
      "ARIMA(0, 1, 0)MSE Error: 2.792367411e+15\n"
     ]
    }
   ],
   "source": [
    "# Оценим качество модели с помощью MSE и RMSE\n",
    "error=mean_squared_error(test['Revenue'], predictions)\n",
    "print(f'ARIMA(0, 1, 0)MSE Error: {error:11.10}')"
   ]
  },
  {
   "cell_type": "code",
   "execution_count": 465,
   "id": "3793a2f3",
   "metadata": {},
   "outputs": [
    {
     "name": "stdout",
     "output_type": "stream",
     "text": [
      "ARIMA(0, 1,0)RMSE Error: 52842855.82\n"
     ]
    }
   ],
   "source": [
    "error=rmse(test['Revenue'], predictions)\n",
    "print(f'ARIMA(0, 1,0)RMSE Error: {error:11.10}')"
   ]
  },
  {
   "cell_type": "code",
   "execution_count": 470,
   "id": "56378e16",
   "metadata": {},
   "outputs": [],
   "source": [
    "from sklearn.model_selection import train_test_split\n",
    "X = df.drop(['Revenue'],axis=1) \n",
    "Y = df['Revenue']\n",
    "X_train, X_test, Y_train, Y_test = train_test_split(X, Y, test_size=.20, random_state=0)\n",
    "def MAPE(Y_actual,Y_Predicted):\n",
    "    mape = np.mean(np.abs((Y_actual - Y_Predicted)/Y_actual))*100\n",
    "    return mape"
   ]
  },
  {
   "cell_type": "code",
   "execution_count": 472,
   "id": "6a313013",
   "metadata": {},
   "outputs": [
    {
     "name": "stdout",
     "output_type": "stream",
     "text": [
      "MAPE:  2.1450457493538773\n"
     ]
    }
   ],
   "source": [
    "from sklearn.linear_model import LinearRegression\n",
    "linear_model = LinearRegression().fit(X_train , Y_train)\n",
    "LR_Test_predict = linear_model.predict(X_test) \n",
    "LR_MAPE= MAPE(Y_test,LR_Test_predict)\n",
    "print(\"MAPE: \",LR_MAPE)"
   ]
  },
  {
   "cell_type": "code",
   "execution_count": null,
   "id": "49cc244d",
   "metadata": {},
   "outputs": [],
   "source": [
    "# Полученные значения MSE и RMSE говорят о нам высокой ошибке и неточности прогноза.\n",
    "# Причиной может быть неверно подобранная модель или недостаточных данных для прогноза.\n",
    "# При этом значение MAPE равное 2% свидетельствует о том, что средняя разница между прогнозируемым значением и фактическим\n",
    "# значением составляет 2%."
   ]
  },
  {
   "cell_type": "code",
   "execution_count": 473,
   "id": "d6a68495",
   "metadata": {},
   "outputs": [
    {
     "name": "stdout",
     "output_type": "stream",
     "text": [
      "RUNNING THE L-BFGS-B CODE\n",
      "\n",
      "           * * *\n",
      "\n",
      "Machine precision = 2.220D-16\n",
      " N =            1     M =           12\n",
      "\n",
      "At X0         0 variables are exactly at the bounds\n",
      "\n",
      "At iterate    0    f=  1.79955D+01    |proj g|=  0.00000D+00\n",
      "\n",
      "           * * *\n",
      "\n",
      "Tit   = total number of iterations\n",
      "Tnf   = total number of function evaluations\n",
      "Tnint = total number of segments explored during Cauchy searches\n",
      "Skip  = number of BFGS updates skipped\n",
      "Nact  = number of active bounds at final generalized Cauchy point\n",
      "Projg = norm of the final projected gradient\n",
      "F     = final function value\n",
      "\n",
      "           * * *\n",
      "\n",
      "   N    Tit     Tnf  Tnint  Skip  Nact     Projg        F\n",
      "    1      0      1      0     0     0   0.000D+00   1.800D+01\n",
      "  F =   17.995502112479592     \n",
      "\n",
      "CONVERGENCE: NORM_OF_PROJECTED_GRADIENT_<=_PGTOL            \n"
     ]
    },
    {
     "name": "stderr",
     "output_type": "stream",
     "text": [
      " This problem is unconstrained.\n"
     ]
    },
    {
     "data": {
      "text/html": [
       "<table class=\"simpletable\">\n",
       "<caption>ARIMA Model Results</caption>\n",
       "<tr>\n",
       "  <th>Dep. Variable:</th>     <td>D.Revenue</td>    <th>  No. Observations:  </th>      <td>35</td>     \n",
       "</tr>\n",
       "<tr>\n",
       "  <th>Model:</th>          <td>ARIMA(0, 1, 0)</td>  <th>  Log Likelihood     </th>   <td>-629.843</td>  \n",
       "</tr>\n",
       "<tr>\n",
       "  <th>Method:</th>               <td>css</td>       <th>  S.D. of innovations</th> <td>15816489.283</td>\n",
       "</tr>\n",
       "<tr>\n",
       "  <th>Date:</th>          <td>Sun, 20 Mar 2022</td> <th>  AIC                </th>   <td>1263.685</td>  \n",
       "</tr>\n",
       "<tr>\n",
       "  <th>Time:</th>              <td>22:34:35</td>     <th>  BIC                </th>   <td>1266.796</td>  \n",
       "</tr>\n",
       "<tr>\n",
       "  <th>Sample:</th>           <td>02-01-2019</td>    <th>  HQIC               </th>   <td>1264.759</td>  \n",
       "</tr>\n",
       "<tr>\n",
       "  <th></th>                 <td>- 12-01-2021</td>   <th>                     </th>       <td> </td>     \n",
       "</tr>\n",
       "</table>\n",
       "<table class=\"simpletable\">\n",
       "<tr>\n",
       "    <td></td>       <th>coef</th>     <th>std err</th>      <th>z</th>      <th>P>|z|</th>  <th>[0.025</th>    <th>0.975]</th>  \n",
       "</tr>\n",
       "<tr>\n",
       "  <th>const</th> <td> 1.786e+06</td> <td> 2.67e+06</td> <td>    0.668</td> <td> 0.504</td> <td>-3.45e+06</td> <td> 7.03e+06</td>\n",
       "</tr>\n",
       "</table>"
      ],
      "text/plain": [
       "<class 'statsmodels.iolib.summary.Summary'>\n",
       "\"\"\"\n",
       "                             ARIMA Model Results                              \n",
       "==============================================================================\n",
       "Dep. Variable:              D.Revenue   No. Observations:                   35\n",
       "Model:                 ARIMA(0, 1, 0)   Log Likelihood                -629.843\n",
       "Method:                           css   S.D. of innovations       15816489.283\n",
       "Date:                Sun, 20 Mar 2022   AIC                           1263.685\n",
       "Time:                        22:34:35   BIC                           1266.796\n",
       "Sample:                    02-01-2019   HQIC                          1264.759\n",
       "                         - 12-01-2021                                         \n",
       "==============================================================================\n",
       "                 coef    std err          z      P>|z|      [0.025      0.975]\n",
       "------------------------------------------------------------------------------\n",
       "const       1.786e+06   2.67e+06      0.668      0.504   -3.45e+06    7.03e+06\n",
       "==============================================================================\n",
       "\"\"\""
      ]
     },
     "execution_count": 473,
     "metadata": {},
     "output_type": "execute_result"
    }
   ],
   "source": [
    "#Натренируем модель на полном датасете и предскажем на год вперед\n",
    "model = ARIMA(df['Revenue'], order=(0,1,0))\n",
    "results = model.fit()\n",
    "results.summary()"
   ]
  },
  {
   "cell_type": "code",
   "execution_count": 483,
   "id": "0d6ec8f3",
   "metadata": {},
   "outputs": [
    {
     "data": {
      "text/plain": [
       "2022-01-01    1.460638e+08\n",
       "2022-02-01    1.478498e+08\n",
       "2022-03-01    1.496359e+08\n",
       "2022-04-01    1.514220e+08\n",
       "2022-05-01    1.532081e+08\n",
       "2022-06-01    1.549941e+08\n",
       "2022-07-01    1.567802e+08\n",
       "2022-08-01    1.585663e+08\n",
       "2022-09-01    1.603524e+08\n",
       "2022-10-01    1.621385e+08\n",
       "2022-11-01    1.639245e+08\n",
       "2022-12-01    1.657106e+08\n",
       "2023-01-01    1.674967e+08\n",
       "Freq: MS, Name: ARIMA(0, 1, 0)Forecast, dtype: float64"
      ]
     },
     "execution_count": 483,
     "metadata": {},
     "output_type": "execute_result"
    }
   ],
   "source": [
    "fcast = results.predict(len(df),len(df)+12, typ='levels').rename('ARIMA(0, 1, 0)Forecast')\n",
    "fcast"
   ]
  },
  {
   "cell_type": "code",
   "execution_count": 484,
   "id": "af7fca22",
   "metadata": {},
   "outputs": [
    {
     "data": {
      "text/plain": [
       "<AxesSubplot:>"
      ]
     },
     "execution_count": 484,
     "metadata": {},
     "output_type": "execute_result"
    },
    {
     "data": {
      "image/png": "[encoded data removed]",
      "text/plain": [
       "<Figure size 432x288 with 1 Axes>"
      ]
     },
     "metadata": {
      "needs_background": "light"
     },
     "output_type": "display_data"
    }
   ],
   "source": [
    "# Построим график предсказаний и график исходных данных\n",
    "fcast.plot()"
   ]
  },
  {
   "cell_type": "code",
   "execution_count": 485,
   "id": "88262e0b",
   "metadata": {
    "scrolled": false
   },
   "outputs": [
    {
     "data": {
      "image/png": "[encoded data removed]",
      "text/plain": [
       "<Figure size 864x432 with 1 Axes>"
      ]
     },
     "metadata": {
      "needs_background": "light"
     },
     "output_type": "display_data"
    }
   ],
   "source": [
    "l=df['Revenue'].plot(figsize=(12,6), legend=True, title='Dynamics of sales', xlabel='', ylabel='Revenue')\n",
    "fcast.plot(legend=True)\n",
    "l.autoscale(axis='x', tight=True)"
   ]
  },
  {
   "cell_type": "code",
   "execution_count": null,
   "id": "872c1284",
   "metadata": {},
   "outputs": [],
   "source": []
  }
 ],
 "metadata": {
  "kernelspec": {
   "display_name": "Python 3 (ipykernel)",
   "language": "python",
   "name": "python3"
  },
  "language_info": {
   "codemirror_mode": {
    "name": "ipython",
    "version": 3
   },
   "file_extension": ".py",
   "mimetype": "text/x-python",
   "name": "python",
   "nbconvert_exporter": "python",
   "pygments_lexer": "ipython3",
   "version": "3.9.7"
  }
 },
 "nbformat": 4,
 "nbformat_minor": 5
}
