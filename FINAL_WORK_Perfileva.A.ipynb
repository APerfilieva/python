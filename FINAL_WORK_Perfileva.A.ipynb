{
 "cells": [
  {
   "cell_type": "code",
   "execution_count": 1,
   "id": "8d180f21",
   "metadata": {},
   "outputs": [
    {
     "name": "stdout",
     "output_type": "stream",
     "text": [
      "36\n",
      "   Year  Month   Revenue  Advertising expenses\n",
      "0  2019      1  81764897               4088244\n",
      "1  2019      2  85456774               5127406\n",
      "2  2019      3  91753351               6422734\n",
      "3  2019      4  99180273               7138520\n",
      "4  2019      5  95725994               7978079\n"
     ]
    }
   ],
   "source": [
    "import pandas as pd\n",
    "import numpy as np\n",
    "%matplotlib inline\n",
    "\n",
    "# импорт SARIMAX \n",
    "from statsmodels.tsa.statespace.sarimax import SARIMAX\n",
    "\n",
    "from statsmodels.graphics.tsaplots import plot_acf,plot_pacf # для определения (p,q) \n",
    "from statsmodels.tsa.seasonal import seasonal_decompose      # для ETS графиков\n",
    "from pmdarima import auto_arima                              # для поиска ARIMA моделей\n",
    "\n",
    "# метрики\n",
    "from sklearn.metrics import mean_squared_error\n",
    "from statsmodels.tools.eval_measures import rmse\n",
    "\n",
    "# для игнорирования предупреждений\n",
    "import warnings\n",
    "warnings.filterwarnings(\"ignore\")\n",
    "\n",
    "# Загрузка датасета\n",
    "df = pd.read_csv('Dataset-Sales_FINAL.csv',parse_dates=True)\n",
    "df.index.freq = 'MS'\n",
    "print(len(df))\n",
    "print(df.head())"
   ]
  },
  {
   "cell_type": "markdown",
   "id": "105f4c28",
   "metadata": {},
   "source": [
    "       Анализируемый датасет содержит данные дистрибьютора о продажах оборудования для ресторанов с 2019 по 2021 год. В нем хранятся данные о выручке и затратах на рекламную деятельность. "
   ]
  },
  {
   "cell_type": "code",
   "execution_count": 2,
   "id": "88ad167f",
   "metadata": {},
   "outputs": [
    {
     "data": {
      "text/html": [
       "<div>\n",
       "<style scoped>\n",
       "    .dataframe tbody tr th:only-of-type {\n",
       "        vertical-align: middle;\n",
       "    }\n",
       "\n",
       "    .dataframe tbody tr th {\n",
       "        vertical-align: top;\n",
       "    }\n",
       "\n",
       "    .dataframe thead th {\n",
       "        text-align: right;\n",
       "    }\n",
       "</style>\n",
       "<table border=\"1\" class=\"dataframe\">\n",
       "  <thead>\n",
       "    <tr style=\"text-align: right;\">\n",
       "      <th></th>\n",
       "      <th>Year</th>\n",
       "      <th>Month</th>\n",
       "      <th>Revenue</th>\n",
       "      <th>Advertising expenses</th>\n",
       "      <th>date</th>\n",
       "    </tr>\n",
       "  </thead>\n",
       "  <tbody>\n",
       "    <tr>\n",
       "      <th>0</th>\n",
       "      <td>2019</td>\n",
       "      <td>1</td>\n",
       "      <td>81764897</td>\n",
       "      <td>4088244</td>\n",
       "      <td>2019-01-01</td>\n",
       "    </tr>\n",
       "    <tr>\n",
       "      <th>1</th>\n",
       "      <td>2019</td>\n",
       "      <td>2</td>\n",
       "      <td>85456774</td>\n",
       "      <td>5127406</td>\n",
       "      <td>2019-02-01</td>\n",
       "    </tr>\n",
       "    <tr>\n",
       "      <th>2</th>\n",
       "      <td>2019</td>\n",
       "      <td>3</td>\n",
       "      <td>91753351</td>\n",
       "      <td>6422734</td>\n",
       "      <td>2019-03-01</td>\n",
       "    </tr>\n",
       "    <tr>\n",
       "      <th>3</th>\n",
       "      <td>2019</td>\n",
       "      <td>4</td>\n",
       "      <td>99180273</td>\n",
       "      <td>7138520</td>\n",
       "      <td>2019-04-01</td>\n",
       "    </tr>\n",
       "    <tr>\n",
       "      <th>4</th>\n",
       "      <td>2019</td>\n",
       "      <td>5</td>\n",
       "      <td>95725994</td>\n",
       "      <td>7978079</td>\n",
       "      <td>2019-05-01</td>\n",
       "    </tr>\n",
       "  </tbody>\n",
       "</table>\n",
       "</div>"
      ],
      "text/plain": [
       "   Year  Month   Revenue  Advertising expenses       date\n",
       "0  2019      1  81764897               4088244 2019-01-01\n",
       "1  2019      2  85456774               5127406 2019-02-01\n",
       "2  2019      3  91753351               6422734 2019-03-01\n",
       "3  2019      4  99180273               7138520 2019-04-01\n",
       "4  2019      5  95725994               7978079 2019-05-01"
      ]
     },
     "execution_count": 2,
     "metadata": {},
     "output_type": "execute_result"
    }
   ],
   "source": [
    "# Создаем DatetimeIndex\n",
    "df['date']=pd.to_datetime(dict(year=df['Year'], month=df['Month'], day=1))\n",
    "df.head()"
   ]
  },
  {
   "cell_type": "code",
   "execution_count": 3,
   "id": "bab5b44d",
   "metadata": {},
   "outputs": [
    {
     "data": {
      "text/html": [
       "<div>\n",
       "<style scoped>\n",
       "    .dataframe tbody tr th:only-of-type {\n",
       "        vertical-align: middle;\n",
       "    }\n",
       "\n",
       "    .dataframe tbody tr th {\n",
       "        vertical-align: top;\n",
       "    }\n",
       "\n",
       "    .dataframe thead th {\n",
       "        text-align: right;\n",
       "    }\n",
       "</style>\n",
       "<table border=\"1\" class=\"dataframe\">\n",
       "  <thead>\n",
       "    <tr style=\"text-align: right;\">\n",
       "      <th></th>\n",
       "      <th>Year</th>\n",
       "      <th>Month</th>\n",
       "      <th>Revenue</th>\n",
       "      <th>Advertising expenses</th>\n",
       "    </tr>\n",
       "    <tr>\n",
       "      <th>date</th>\n",
       "      <th></th>\n",
       "      <th></th>\n",
       "      <th></th>\n",
       "      <th></th>\n",
       "    </tr>\n",
       "  </thead>\n",
       "  <tbody>\n",
       "    <tr>\n",
       "      <th>2019-01-01</th>\n",
       "      <td>2019</td>\n",
       "      <td>1</td>\n",
       "      <td>81764897</td>\n",
       "      <td>4088244</td>\n",
       "    </tr>\n",
       "    <tr>\n",
       "      <th>2019-02-01</th>\n",
       "      <td>2019</td>\n",
       "      <td>2</td>\n",
       "      <td>85456774</td>\n",
       "      <td>5127406</td>\n",
       "    </tr>\n",
       "    <tr>\n",
       "      <th>2019-03-01</th>\n",
       "      <td>2019</td>\n",
       "      <td>3</td>\n",
       "      <td>91753351</td>\n",
       "      <td>6422734</td>\n",
       "    </tr>\n",
       "    <tr>\n",
       "      <th>2019-04-01</th>\n",
       "      <td>2019</td>\n",
       "      <td>4</td>\n",
       "      <td>99180273</td>\n",
       "      <td>7138520</td>\n",
       "    </tr>\n",
       "    <tr>\n",
       "      <th>2019-05-01</th>\n",
       "      <td>2019</td>\n",
       "      <td>5</td>\n",
       "      <td>95725994</td>\n",
       "      <td>7978079</td>\n",
       "    </tr>\n",
       "  </tbody>\n",
       "</table>\n",
       "</div>"
      ],
      "text/plain": [
       "            Year  Month   Revenue  Advertising expenses\n",
       "date                                                   \n",
       "2019-01-01  2019      1  81764897               4088244\n",
       "2019-02-01  2019      2  85456774               5127406\n",
       "2019-03-01  2019      3  91753351               6422734\n",
       "2019-04-01  2019      4  99180273               7138520\n",
       "2019-05-01  2019      5  95725994               7978079"
      ]
     },
     "execution_count": 3,
     "metadata": {},
     "output_type": "execute_result"
    }
   ],
   "source": [
    "df.set_index('date', inplace=True)\n",
    "df.index.freq = 'MS'\n",
    "df.head()"
   ]
  },
  {
   "cell_type": "code",
   "execution_count": 4,
   "id": "09668ad6",
   "metadata": {},
   "outputs": [
    {
     "data": {
      "text/html": [
       "<div>\n",
       "<style scoped>\n",
       "    .dataframe tbody tr th:only-of-type {\n",
       "        vertical-align: middle;\n",
       "    }\n",
       "\n",
       "    .dataframe tbody tr th {\n",
       "        vertical-align: top;\n",
       "    }\n",
       "\n",
       "    .dataframe thead th {\n",
       "        text-align: right;\n",
       "    }\n",
       "</style>\n",
       "<table border=\"1\" class=\"dataframe\">\n",
       "  <thead>\n",
       "    <tr style=\"text-align: right;\">\n",
       "      <th></th>\n",
       "      <th>Revenue</th>\n",
       "      <th>Advertising expenses</th>\n",
       "    </tr>\n",
       "    <tr>\n",
       "      <th>date</th>\n",
       "      <th></th>\n",
       "      <th></th>\n",
       "    </tr>\n",
       "  </thead>\n",
       "  <tbody>\n",
       "    <tr>\n",
       "      <th>2019-01-01</th>\n",
       "      <td>81764897</td>\n",
       "      <td>4088244</td>\n",
       "    </tr>\n",
       "    <tr>\n",
       "      <th>2019-02-01</th>\n",
       "      <td>85456774</td>\n",
       "      <td>5127406</td>\n",
       "    </tr>\n",
       "    <tr>\n",
       "      <th>2019-03-01</th>\n",
       "      <td>91753351</td>\n",
       "      <td>6422734</td>\n",
       "    </tr>\n",
       "    <tr>\n",
       "      <th>2019-04-01</th>\n",
       "      <td>99180273</td>\n",
       "      <td>7138520</td>\n",
       "    </tr>\n",
       "    <tr>\n",
       "      <th>2019-05-01</th>\n",
       "      <td>95725994</td>\n",
       "      <td>7978079</td>\n",
       "    </tr>\n",
       "    <tr>\n",
       "      <th>2019-06-01</th>\n",
       "      <td>95334113</td>\n",
       "      <td>9120070</td>\n",
       "    </tr>\n",
       "    <tr>\n",
       "      <th>2019-07-01</th>\n",
       "      <td>96608040</td>\n",
       "      <td>10976020</td>\n",
       "    </tr>\n",
       "    <tr>\n",
       "      <th>2019-08-01</th>\n",
       "      <td>97470010</td>\n",
       "      <td>11696401</td>\n",
       "    </tr>\n",
       "    <tr>\n",
       "      <th>2019-09-01</th>\n",
       "      <td>92428131</td>\n",
       "      <td>9242813</td>\n",
       "    </tr>\n",
       "    <tr>\n",
       "      <th>2019-10-01</th>\n",
       "      <td>98496079</td>\n",
       "      <td>11819529</td>\n",
       "    </tr>\n",
       "    <tr>\n",
       "      <th>2019-11-01</th>\n",
       "      <td>105864024</td>\n",
       "      <td>10586402</td>\n",
       "    </tr>\n",
       "    <tr>\n",
       "      <th>2019-12-01</th>\n",
       "      <td>137120411</td>\n",
       "      <td>16454449</td>\n",
       "    </tr>\n",
       "    <tr>\n",
       "      <th>2020-01-01</th>\n",
       "      <td>84437544</td>\n",
       "      <td>4221877</td>\n",
       "    </tr>\n",
       "    <tr>\n",
       "      <th>2020-02-01</th>\n",
       "      <td>87139680</td>\n",
       "      <td>4256984</td>\n",
       "    </tr>\n",
       "    <tr>\n",
       "      <th>2020-03-01</th>\n",
       "      <td>94192664</td>\n",
       "      <td>6733486</td>\n",
       "    </tr>\n",
       "    <tr>\n",
       "      <th>2020-04-01</th>\n",
       "      <td>46273252</td>\n",
       "      <td>0</td>\n",
       "    </tr>\n",
       "    <tr>\n",
       "      <th>2020-05-01</th>\n",
       "      <td>39202486</td>\n",
       "      <td>0</td>\n",
       "    </tr>\n",
       "    <tr>\n",
       "      <th>2020-06-01</th>\n",
       "      <td>44876160</td>\n",
       "      <td>0</td>\n",
       "    </tr>\n",
       "    <tr>\n",
       "      <th>2020-07-01</th>\n",
       "      <td>104672569</td>\n",
       "      <td>9780531</td>\n",
       "    </tr>\n",
       "    <tr>\n",
       "      <th>2020-08-01</th>\n",
       "      <td>105252486</td>\n",
       "      <td>8420198</td>\n",
       "    </tr>\n",
       "    <tr>\n",
       "      <th>2020-09-01</th>\n",
       "      <td>102783684</td>\n",
       "      <td>9250531</td>\n",
       "    </tr>\n",
       "    <tr>\n",
       "      <th>2020-10-01</th>\n",
       "      <td>105738385</td>\n",
       "      <td>9246454</td>\n",
       "    </tr>\n",
       "    <tr>\n",
       "      <th>2020-11-01</th>\n",
       "      <td>109759748</td>\n",
       "      <td>10975974</td>\n",
       "    </tr>\n",
       "    <tr>\n",
       "      <th>2020-12-01</th>\n",
       "      <td>141355878</td>\n",
       "      <td>18376264</td>\n",
       "    </tr>\n",
       "    <tr>\n",
       "      <th>2021-01-01</th>\n",
       "      <td>89805489</td>\n",
       "      <td>4490274</td>\n",
       "    </tr>\n",
       "    <tr>\n",
       "      <th>2021-02-01</th>\n",
       "      <td>91850788</td>\n",
       "      <td>4492539</td>\n",
       "    </tr>\n",
       "    <tr>\n",
       "      <th>2021-03-01</th>\n",
       "      <td>97844794</td>\n",
       "      <td>6849135</td>\n",
       "    </tr>\n",
       "    <tr>\n",
       "      <th>2021-04-01</th>\n",
       "      <td>104778133</td>\n",
       "      <td>8382250</td>\n",
       "    </tr>\n",
       "    <tr>\n",
       "      <th>2021-05-01</th>\n",
       "      <td>102914875</td>\n",
       "      <td>9982338</td>\n",
       "    </tr>\n",
       "    <tr>\n",
       "      <th>2021-06-01</th>\n",
       "      <td>103866156</td>\n",
       "      <td>11186615</td>\n",
       "    </tr>\n",
       "    <tr>\n",
       "      <th>2021-07-01</th>\n",
       "      <td>106409746</td>\n",
       "      <td>11240974</td>\n",
       "    </tr>\n",
       "    <tr>\n",
       "      <th>2021-08-01</th>\n",
       "      <td>107937525</td>\n",
       "      <td>9084377</td>\n",
       "    </tr>\n",
       "    <tr>\n",
       "      <th>2021-09-01</th>\n",
       "      <td>102142658</td>\n",
       "      <td>7931412</td>\n",
       "    </tr>\n",
       "    <tr>\n",
       "      <th>2021-10-01</th>\n",
       "      <td>104290946</td>\n",
       "      <td>11582004</td>\n",
       "    </tr>\n",
       "    <tr>\n",
       "      <th>2021-11-01</th>\n",
       "      <td>116192222</td>\n",
       "      <td>13943066</td>\n",
       "    </tr>\n",
       "    <tr>\n",
       "      <th>2021-12-01</th>\n",
       "      <td>144277673</td>\n",
       "      <td>18756097</td>\n",
       "    </tr>\n",
       "  </tbody>\n",
       "</table>\n",
       "</div>"
      ],
      "text/plain": [
       "              Revenue  Advertising expenses\n",
       "date                                       \n",
       "2019-01-01   81764897               4088244\n",
       "2019-02-01   85456774               5127406\n",
       "2019-03-01   91753351               6422734\n",
       "2019-04-01   99180273               7138520\n",
       "2019-05-01   95725994               7978079\n",
       "2019-06-01   95334113               9120070\n",
       "2019-07-01   96608040              10976020\n",
       "2019-08-01   97470010              11696401\n",
       "2019-09-01   92428131               9242813\n",
       "2019-10-01   98496079              11819529\n",
       "2019-11-01  105864024              10586402\n",
       "2019-12-01  137120411              16454449\n",
       "2020-01-01   84437544               4221877\n",
       "2020-02-01   87139680               4256984\n",
       "2020-03-01   94192664               6733486\n",
       "2020-04-01   46273252                     0\n",
       "2020-05-01   39202486                     0\n",
       "2020-06-01   44876160                     0\n",
       "2020-07-01  104672569               9780531\n",
       "2020-08-01  105252486               8420198\n",
       "2020-09-01  102783684               9250531\n",
       "2020-10-01  105738385               9246454\n",
       "2020-11-01  109759748              10975974\n",
       "2020-12-01  141355878              18376264\n",
       "2021-01-01   89805489               4490274\n",
       "2021-02-01   91850788               4492539\n",
       "2021-03-01   97844794               6849135\n",
       "2021-04-01  104778133               8382250\n",
       "2021-05-01  102914875               9982338\n",
       "2021-06-01  103866156              11186615\n",
       "2021-07-01  106409746              11240974\n",
       "2021-08-01  107937525               9084377\n",
       "2021-09-01  102142658               7931412\n",
       "2021-10-01  104290946              11582004\n",
       "2021-11-01  116192222              13943066\n",
       "2021-12-01  144277673              18756097"
      ]
     },
     "execution_count": 4,
     "metadata": {},
     "output_type": "execute_result"
    }
   ],
   "source": [
    "# Удаляем ненужные столбцы\n",
    "df = df.drop(['Month', 'Year'], axis = 1)\n",
    "df"
   ]
  },
  {
   "cell_type": "code",
   "execution_count": 5,
   "id": "d8822b9e",
   "metadata": {},
   "outputs": [
    {
     "data": {
      "text/html": [
       "<div>\n",
       "<style scoped>\n",
       "    .dataframe tbody tr th:only-of-type {\n",
       "        vertical-align: middle;\n",
       "    }\n",
       "\n",
       "    .dataframe tbody tr th {\n",
       "        vertical-align: top;\n",
       "    }\n",
       "\n",
       "    .dataframe thead th {\n",
       "        text-align: right;\n",
       "    }\n",
       "</style>\n",
       "<table border=\"1\" class=\"dataframe\">\n",
       "  <thead>\n",
       "    <tr style=\"text-align: right;\">\n",
       "      <th></th>\n",
       "      <th>Revenue</th>\n",
       "      <th>Advertising expenses</th>\n",
       "    </tr>\n",
       "  </thead>\n",
       "  <tbody>\n",
       "    <tr>\n",
       "      <th>count</th>\n",
       "      <td>36.00</td>\n",
       "      <td>36.00</td>\n",
       "    </tr>\n",
       "    <tr>\n",
       "      <th>mean</th>\n",
       "      <td>97644378.83</td>\n",
       "      <td>8606501.31</td>\n",
       "    </tr>\n",
       "    <tr>\n",
       "      <th>std</th>\n",
       "      <td>21694202.09</td>\n",
       "      <td>4447140.47</td>\n",
       "    </tr>\n",
       "    <tr>\n",
       "      <th>min</th>\n",
       "      <td>39202486.00</td>\n",
       "      <td>0.00</td>\n",
       "    </tr>\n",
       "    <tr>\n",
       "      <th>25%</th>\n",
       "      <td>91826428.75</td>\n",
       "      <td>6098902.00</td>\n",
       "    </tr>\n",
       "    <tr>\n",
       "      <th>50%</th>\n",
       "      <td>98838176.00</td>\n",
       "      <td>9102223.50</td>\n",
       "    </tr>\n",
       "    <tr>\n",
       "      <th>75%</th>\n",
       "      <td>105373960.75</td>\n",
       "      <td>11028668.75</td>\n",
       "    </tr>\n",
       "    <tr>\n",
       "      <th>max</th>\n",
       "      <td>144277673.00</td>\n",
       "      <td>18756097.00</td>\n",
       "    </tr>\n",
       "  </tbody>\n",
       "</table>\n",
       "</div>"
      ],
      "text/plain": [
       "            Revenue Advertising expenses\n",
       "count         36.00                36.00\n",
       "mean    97644378.83           8606501.31\n",
       "std     21694202.09           4447140.47\n",
       "min     39202486.00                 0.00\n",
       "25%     91826428.75           6098902.00\n",
       "50%     98838176.00           9102223.50\n",
       "75%    105373960.75          11028668.75\n",
       "max    144277673.00          18756097.00"
      ]
     },
     "execution_count": 5,
     "metadata": {},
     "output_type": "execute_result"
    }
   ],
   "source": [
    "# Описание основных статистик датасета\n",
    "df.describe().apply(lambda s: s.apply('{0:.2f}'.format))"
   ]
  },
  {
   "cell_type": "markdown",
   "id": "aa347290",
   "metadata": {},
   "source": [
    "        Как видно из значений, приведенных выше, данные содержат выбросы, так как минимальное значение выручки 39 202 486 при нижнем квартиле 91 826 428,75."
   ]
  },
  {
   "cell_type": "code",
   "execution_count": 6,
   "id": "7437f14b",
   "metadata": {},
   "outputs": [
    {
     "data": {
      "text/plain": [
       "<bound method _AxesBase.autoscale of <AxesSubplot:>>"
      ]
     },
     "execution_count": 6,
     "metadata": {},
     "output_type": "execute_result"
    },
    {
     "data": {
      "image/png": "[encoded data removed]",
      "text/plain": [
       "<Figure size 432x288 with 1 Axes>"
      ]
     },
     "metadata": {
      "needs_background": "light"
     },
     "output_type": "display_data"
    }
   ],
   "source": [
    "#Построим боксплот, гистограмму и график плотности.\n",
    "df.boxplot(column=['Revenue', 'Advertising expenses']).autoscale"
   ]
  },
  {
   "cell_type": "code",
   "execution_count": 7,
   "id": "2904d460",
   "metadata": {},
   "outputs": [
    {
     "data": {
      "text/plain": [
       "<AxesSubplot:xlabel='Revenue', ylabel='Density'>"
      ]
     },
     "execution_count": 7,
     "metadata": {},
     "output_type": "execute_result"
    },
    {
     "data": {
      "image/png": "[encoded data removed]",
      "text/plain": [
       "<Figure size 432x288 with 1 Axes>"
      ]
     },
     "metadata": {
      "needs_background": "light"
     },
     "output_type": "display_data"
    }
   ],
   "source": [
    "import seaborn as sns\n",
    "sns.distplot(df['Revenue'].dropna())"
   ]
  },
  {
   "cell_type": "markdown",
   "id": "ccbf224f",
   "metadata": {},
   "source": [
    "        Полученные данные свидетельствуют о ненормальном распределении. Распространение ограничений на предприятия питания и торговли, связанных с COVID-19, отразилось на дистрибьюторах ресторанного оборудования. Период с апреля по июнь 2020 года охарактеризовался минимальной выручкой и отсутствием затрат на рекламу."
   ]
  },
  {
   "cell_type": "code",
   "execution_count": 8,
   "id": "4833a638",
   "metadata": {},
   "outputs": [
    {
     "name": "stdout",
     "output_type": "stream",
     "text": [
      "lower_bound = 51183832.75\n",
      "upper_bound = 146016556.75\n"
     ]
    }
   ],
   "source": [
    "# Воспользуемся методом IQR.\n",
    "IQR = df['Revenue'].quantile(0.75) - df['Revenue'].quantile(0.25)\n",
    "lower_bound = df['Revenue'].quantile(0.25)-3*IQR\n",
    "upper_bound = df['Revenue'].quantile(0.75)+3*IQR\n",
    "print('lower_bound =', lower_bound)\n",
    "print('upper_bound =', upper_bound)"
   ]
  },
  {
   "cell_type": "code",
   "execution_count": 10,
   "id": "adfcabe5",
   "metadata": {},
   "outputs": [
    {
     "data": {
      "text/html": [
       "<div>\n",
       "<style scoped>\n",
       "    .dataframe tbody tr th:only-of-type {\n",
       "        vertical-align: middle;\n",
       "    }\n",
       "\n",
       "    .dataframe tbody tr th {\n",
       "        vertical-align: top;\n",
       "    }\n",
       "\n",
       "    .dataframe thead th {\n",
       "        text-align: right;\n",
       "    }\n",
       "</style>\n",
       "<table border=\"1\" class=\"dataframe\">\n",
       "  <thead>\n",
       "    <tr style=\"text-align: right;\">\n",
       "      <th></th>\n",
       "      <th>Revenue</th>\n",
       "      <th>Advertising expenses</th>\n",
       "    </tr>\n",
       "    <tr>\n",
       "      <th>date</th>\n",
       "      <th></th>\n",
       "      <th></th>\n",
       "    </tr>\n",
       "  </thead>\n",
       "  <tbody>\n",
       "    <tr>\n",
       "      <th>2019-01-01</th>\n",
       "      <td>81764897.00</td>\n",
       "      <td>4088244.00</td>\n",
       "    </tr>\n",
       "    <tr>\n",
       "      <th>2019-02-01</th>\n",
       "      <td>85456774.00</td>\n",
       "      <td>5127406.00</td>\n",
       "    </tr>\n",
       "    <tr>\n",
       "      <th>2019-03-01</th>\n",
       "      <td>91753351.00</td>\n",
       "      <td>6422734.00</td>\n",
       "    </tr>\n",
       "    <tr>\n",
       "      <th>2019-04-01</th>\n",
       "      <td>99180273.00</td>\n",
       "      <td>7138520.00</td>\n",
       "    </tr>\n",
       "    <tr>\n",
       "      <th>2019-05-01</th>\n",
       "      <td>95725994.00</td>\n",
       "      <td>7978079.00</td>\n",
       "    </tr>\n",
       "    <tr>\n",
       "      <th>2019-06-01</th>\n",
       "      <td>95334113.00</td>\n",
       "      <td>9120070.00</td>\n",
       "    </tr>\n",
       "    <tr>\n",
       "      <th>2019-07-01</th>\n",
       "      <td>96608040.00</td>\n",
       "      <td>10976020.00</td>\n",
       "    </tr>\n",
       "    <tr>\n",
       "      <th>2019-08-01</th>\n",
       "      <td>97470010.00</td>\n",
       "      <td>11696401.00</td>\n",
       "    </tr>\n",
       "    <tr>\n",
       "      <th>2019-09-01</th>\n",
       "      <td>92428131.00</td>\n",
       "      <td>9242813.00</td>\n",
       "    </tr>\n",
       "    <tr>\n",
       "      <th>2019-10-01</th>\n",
       "      <td>98496079.00</td>\n",
       "      <td>11819529.00</td>\n",
       "    </tr>\n",
       "    <tr>\n",
       "      <th>2019-11-01</th>\n",
       "      <td>105864024.00</td>\n",
       "      <td>10586402.00</td>\n",
       "    </tr>\n",
       "    <tr>\n",
       "      <th>2019-12-01</th>\n",
       "      <td>137120411.00</td>\n",
       "      <td>16454449.00</td>\n",
       "    </tr>\n",
       "    <tr>\n",
       "      <th>2020-01-01</th>\n",
       "      <td>84437544.00</td>\n",
       "      <td>4221877.00</td>\n",
       "    </tr>\n",
       "    <tr>\n",
       "      <th>2020-02-01</th>\n",
       "      <td>87139680.00</td>\n",
       "      <td>4256984.00</td>\n",
       "    </tr>\n",
       "    <tr>\n",
       "      <th>2020-03-01</th>\n",
       "      <td>94192664.00</td>\n",
       "      <td>6733486.00</td>\n",
       "    </tr>\n",
       "    <tr>\n",
       "      <th>2020-04-01</th>\n",
       "      <td>97644378.83</td>\n",
       "      <td>8606501.31</td>\n",
       "    </tr>\n",
       "    <tr>\n",
       "      <th>2020-05-01</th>\n",
       "      <td>97644378.83</td>\n",
       "      <td>8606501.31</td>\n",
       "    </tr>\n",
       "    <tr>\n",
       "      <th>2020-06-01</th>\n",
       "      <td>97644378.83</td>\n",
       "      <td>8606501.31</td>\n",
       "    </tr>\n",
       "    <tr>\n",
       "      <th>2020-07-01</th>\n",
       "      <td>104672569.00</td>\n",
       "      <td>9780531.00</td>\n",
       "    </tr>\n",
       "    <tr>\n",
       "      <th>2020-08-01</th>\n",
       "      <td>105252486.00</td>\n",
       "      <td>8420198.00</td>\n",
       "    </tr>\n",
       "    <tr>\n",
       "      <th>2020-09-01</th>\n",
       "      <td>102783684.00</td>\n",
       "      <td>9250531.00</td>\n",
       "    </tr>\n",
       "    <tr>\n",
       "      <th>2020-10-01</th>\n",
       "      <td>105738385.00</td>\n",
       "      <td>9246454.00</td>\n",
       "    </tr>\n",
       "    <tr>\n",
       "      <th>2020-11-01</th>\n",
       "      <td>109759748.00</td>\n",
       "      <td>10975974.00</td>\n",
       "    </tr>\n",
       "    <tr>\n",
       "      <th>2020-12-01</th>\n",
       "      <td>141355878.00</td>\n",
       "      <td>18376264.00</td>\n",
       "    </tr>\n",
       "    <tr>\n",
       "      <th>2021-01-01</th>\n",
       "      <td>89805489.00</td>\n",
       "      <td>4490274.00</td>\n",
       "    </tr>\n",
       "    <tr>\n",
       "      <th>2021-02-01</th>\n",
       "      <td>91850788.00</td>\n",
       "      <td>4492539.00</td>\n",
       "    </tr>\n",
       "    <tr>\n",
       "      <th>2021-03-01</th>\n",
       "      <td>97844794.00</td>\n",
       "      <td>6849135.00</td>\n",
       "    </tr>\n",
       "    <tr>\n",
       "      <th>2021-04-01</th>\n",
       "      <td>104778133.00</td>\n",
       "      <td>8382250.00</td>\n",
       "    </tr>\n",
       "    <tr>\n",
       "      <th>2021-05-01</th>\n",
       "      <td>102914875.00</td>\n",
       "      <td>9982338.00</td>\n",
       "    </tr>\n",
       "    <tr>\n",
       "      <th>2021-06-01</th>\n",
       "      <td>103866156.00</td>\n",
       "      <td>11186615.00</td>\n",
       "    </tr>\n",
       "    <tr>\n",
       "      <th>2021-07-01</th>\n",
       "      <td>106409746.00</td>\n",
       "      <td>11240974.00</td>\n",
       "    </tr>\n",
       "    <tr>\n",
       "      <th>2021-08-01</th>\n",
       "      <td>107937525.00</td>\n",
       "      <td>9084377.00</td>\n",
       "    </tr>\n",
       "    <tr>\n",
       "      <th>2021-09-01</th>\n",
       "      <td>102142658.00</td>\n",
       "      <td>7931412.00</td>\n",
       "    </tr>\n",
       "    <tr>\n",
       "      <th>2021-10-01</th>\n",
       "      <td>104290946.00</td>\n",
       "      <td>11582004.00</td>\n",
       "    </tr>\n",
       "    <tr>\n",
       "      <th>2021-11-01</th>\n",
       "      <td>116192222.00</td>\n",
       "      <td>13943066.00</td>\n",
       "    </tr>\n",
       "    <tr>\n",
       "      <th>2021-12-01</th>\n",
       "      <td>144277673.00</td>\n",
       "      <td>18756097.00</td>\n",
       "    </tr>\n",
       "  </tbody>\n",
       "</table>\n",
       "</div>"
      ],
      "text/plain": [
       "                 Revenue Advertising expenses\n",
       "date                                         \n",
       "2019-01-01   81764897.00           4088244.00\n",
       "2019-02-01   85456774.00           5127406.00\n",
       "2019-03-01   91753351.00           6422734.00\n",
       "2019-04-01   99180273.00           7138520.00\n",
       "2019-05-01   95725994.00           7978079.00\n",
       "2019-06-01   95334113.00           9120070.00\n",
       "2019-07-01   96608040.00          10976020.00\n",
       "2019-08-01   97470010.00          11696401.00\n",
       "2019-09-01   92428131.00           9242813.00\n",
       "2019-10-01   98496079.00          11819529.00\n",
       "2019-11-01  105864024.00          10586402.00\n",
       "2019-12-01  137120411.00          16454449.00\n",
       "2020-01-01   84437544.00           4221877.00\n",
       "2020-02-01   87139680.00           4256984.00\n",
       "2020-03-01   94192664.00           6733486.00\n",
       "2020-04-01   97644378.83           8606501.31\n",
       "2020-05-01   97644378.83           8606501.31\n",
       "2020-06-01   97644378.83           8606501.31\n",
       "2020-07-01  104672569.00           9780531.00\n",
       "2020-08-01  105252486.00           8420198.00\n",
       "2020-09-01  102783684.00           9250531.00\n",
       "2020-10-01  105738385.00           9246454.00\n",
       "2020-11-01  109759748.00          10975974.00\n",
       "2020-12-01  141355878.00          18376264.00\n",
       "2021-01-01   89805489.00           4490274.00\n",
       "2021-02-01   91850788.00           4492539.00\n",
       "2021-03-01   97844794.00           6849135.00\n",
       "2021-04-01  104778133.00           8382250.00\n",
       "2021-05-01  102914875.00           9982338.00\n",
       "2021-06-01  103866156.00          11186615.00\n",
       "2021-07-01  106409746.00          11240974.00\n",
       "2021-08-01  107937525.00           9084377.00\n",
       "2021-09-01  102142658.00           7931412.00\n",
       "2021-10-01  104290946.00          11582004.00\n",
       "2021-11-01  116192222.00          13943066.00\n",
       "2021-12-01  144277673.00          18756097.00"
      ]
     },
     "execution_count": 10,
     "metadata": {},
     "output_type": "execute_result"
    }
   ],
   "source": [
    "# Для дальнейшего исследования заменим выбросы на среднее значение по столбцам.\n",
    "mean = df['Revenue'].mean()\n",
    "mean2 = df['Advertising expenses'].mean()\n",
    "df.loc[((df.Revenue < lower_bound) | (df.Revenue > upper_bound)), 'Revenue'] = mean\n",
    "df.loc[(df['Advertising expenses'] == 0), 'Advertising expenses'] = mean2\n",
    "df.apply(lambda s: s.apply('{0:.2f}'.format))"
   ]
  },
  {
   "cell_type": "code",
   "execution_count": 11,
   "id": "efdb1060",
   "metadata": {},
   "outputs": [
    {
     "data": {
      "text/plain": [
       "<AxesSubplot:xlabel='Advertising expenses', ylabel='Revenue'>"
      ]
     },
     "execution_count": 11,
     "metadata": {},
     "output_type": "execute_result"
    },
    {
     "data": {
      "image/png": "[encoded data removed]",
      "text/plain": [
       "<Figure size 864x216 with 1 Axes>"
      ]
     },
     "metadata": {
      "needs_background": "light"
     },
     "output_type": "display_data"
    }
   ],
   "source": [
    "# Для оценки влияния рекламных затрат на выручку построим график разброса и матрицу корреляции.\n",
    "df.plot.scatter (x = 'Advertising expenses', y = 'Revenue', figsize=(12,3), c = 'red')"
   ]
  },
  {
   "cell_type": "code",
   "execution_count": 12,
   "id": "8452b9e3",
   "metadata": {},
   "outputs": [
    {
     "data": {
      "text/plain": [
       "<AxesSubplot:xlabel='date'>"
      ]
     },
     "execution_count": 12,
     "metadata": {},
     "output_type": "execute_result"
    },
    {
     "data": {
      "image/png": "[encoded data removed]",
      "text/plain": [
       "<Figure size 432x288 with 1 Axes>"
      ]
     },
     "metadata": {
      "needs_background": "light"
     },
     "output_type": "display_data"
    }
   ],
   "source": [
    "df[0:31].plot.area(y = ['Advertising expenses', 'Revenue'], alpha = 0.4, stacked=True)"
   ]
  },
  {
   "cell_type": "code",
   "execution_count": 13,
   "id": "6097657a",
   "metadata": {},
   "outputs": [
    {
     "name": "stdout",
     "output_type": "stream",
     "text": [
      "                      Advertising expenses   Revenue\n",
      "Advertising expenses              1.000000  0.910167\n",
      "Revenue                           0.910167  1.000000\n"
     ]
    },
    {
     "data": {
      "text/plain": [
       "<AxesSubplot:>"
      ]
     },
     "execution_count": 13,
     "metadata": {},
     "output_type": "execute_result"
    },
    {
     "data": {
      "image/png": "[encoded data removed]",
      "text/plain": [
       "<Figure size 432x288 with 2 Axes>"
      ]
     },
     "metadata": {
      "needs_background": "light"
     },
     "output_type": "display_data"
    }
   ],
   "source": [
    "corr_matrix = df.loc[:,['Advertising expenses', 'Revenue']].corr()\n",
    "print(corr_matrix)\n",
    "\n",
    "# Используем тепловую карту для визуализации матрицы корреляции\n",
    "sns.heatmap(corr_matrix, annot=True)"
   ]
  },
  {
   "cell_type": "markdown",
   "id": "9d2d53aa",
   "metadata": {},
   "source": [
    "        Высокий коэффициент корреляции свидетельствуют о зависимости между этими переменными. Увеличение затрат на рекламу влечет за собой увеличение выручки. "
   ]
  },
  {
   "cell_type": "code",
   "execution_count": 14,
   "id": "0ae8927a",
   "metadata": {},
   "outputs": [
    {
     "data": {
      "image/png": "[encoded data removed]",
      "text/plain": [
       "<Figure size 360x360 with 1 Axes>"
      ]
     },
     "metadata": {
      "needs_background": "light"
     },
     "output_type": "display_data"
    }
   ],
   "source": [
    "sns.lmplot(x='Revenue', y='Advertising expenses', data=df);"
   ]
  },
  {
   "cell_type": "markdown",
   "id": "90bf3866",
   "metadata": {},
   "source": [
    "        Из приведенного выше графика мы можем видеть, что существует положительная линейная зависимость между затратами на рекламу и выручкой компании. "
   ]
  },
  {
   "cell_type": "code",
   "execution_count": 17,
   "id": "2edce13e",
   "metadata": {},
   "outputs": [
    {
     "data": {
      "image/png": "[encoded data removed]",
      "text/plain": [
       "<Figure size 360x360 with 1 Axes>"
      ]
     },
     "metadata": {
      "needs_background": "light"
     },
     "output_type": "display_data"
    }
   ],
   "source": [
    "# Построим график линейной регресии для оценки зависимости выручки от даты, а также матрицу корреляции.\n",
    "df.insert(0, 'serial', range(1, 1 + len(df)))\n",
    "df.apply(lambda s: s.apply('{0:.2f}'.format))\n",
    "sns.lmplot(x='serial', y='Revenue', data=df);"
   ]
  },
  {
   "cell_type": "code",
   "execution_count": 18,
   "id": "69928281",
   "metadata": {},
   "outputs": [
    {
     "name": "stdout",
     "output_type": "stream",
     "text": [
      "                      Advertising expenses   Revenue    serial\n",
      "Advertising expenses              1.000000  0.910167  0.350648\n",
      "Revenue                           0.910167  1.000000  0.476032\n",
      "serial                            0.350648  0.476032  1.000000\n"
     ]
    }
   ],
   "source": [
    "corr_matrix = df.loc[:,['Advertising expenses', 'Revenue', 'serial']].corr()\n",
    "print(corr_matrix)"
   ]
  },
  {
   "cell_type": "markdown",
   "id": "d8e17f5c",
   "metadata": {},
   "source": [
    "        Проведенное исследование демонстрирует, что связь между датой и переменными выручки и рекламных затрат весьма расплывчатая."
   ]
  },
  {
   "cell_type": "code",
   "execution_count": 19,
   "id": "8a1335e9",
   "metadata": {},
   "outputs": [
    {
     "data": {
      "text/plain": [
       "<AxesSubplot:title={'center':'Dynamics of sales'}, xlabel='date', ylabel='Revenue'>"
      ]
     },
     "execution_count": 19,
     "metadata": {},
     "output_type": "execute_result"
    },
    {
     "data": {
      "image/png": "[encoded data removed]",
      "text/plain": [
       "<Figure size 864x432 with 1 Axes>"
      ]
     },
     "metadata": {
      "needs_background": "light"
     },
     "output_type": "display_data"
    }
   ],
   "source": [
    "# Построим график временного ряда атрибута Revenue\n",
    "df['Revenue'].plot(figsize=(12,6), title='Dynamics of sales', xlabel='date', ylabel='Revenue')"
   ]
  },
  {
   "cell_type": "code",
   "execution_count": 20,
   "id": "0989ed7e",
   "metadata": {},
   "outputs": [
    {
     "data": {
      "image/png": "[encoded data removed]",
      "text/plain": [
       "<Figure size 432x288 with 4 Axes>"
      ]
     },
     "metadata": {
      "needs_background": "light"
     },
     "output_type": "display_data"
    }
   ],
   "source": [
    "# Построим декомпозицию временного ряда.\n",
    "result = seasonal_decompose(df['Revenue'], model='add').plot()"
   ]
  },
  {
   "cell_type": "markdown",
   "id": "0d8c7c83",
   "metadata": {},
   "source": [
    "        На графике явно прослеживается сезонность и тренд увеличения выручки с течением времени."
   ]
  },
  {
   "cell_type": "markdown",
   "id": "4cf72ab7",
   "metadata": {},
   "source": [
    "        Чтобы проверить, является ли ряд стационарным, проведем тест Дики-Фуллера, а также запустим autoarima для автоатического подбора автоподбор оптимальных параметров для прогнозирования временного ряда."
   ]
  },
  {
   "cell_type": "code",
   "execution_count": 21,
   "id": "bc9e906f",
   "metadata": {},
   "outputs": [
    {
     "name": "stdout",
     "output_type": "stream",
     "text": [
      "Augmented Dickey-Fuller Statistic: -3.000227\n",
      "p-value: 0.034873\n"
     ]
    }
   ],
   "source": [
    "from statsmodels.tsa.stattools import adfuller \n",
    "from numpy import log \n",
    "df = pd.read_csv('Dataset-Sales_FINAL.csv', names = ['value'], header = 0)\n",
    "res = adfuller(df.value.dropna()) \n",
    "print('Augmented Dickey-Fuller Statistic: %f' % res[0]) \n",
    "print('p-value: %f' % res[1])"
   ]
  },
  {
   "cell_type": "code",
   "execution_count": 100,
   "id": "2e780b0b",
   "metadata": {},
   "outputs": [
    {
     "data": {
      "text/html": [
       "<div>\n",
       "<style scoped>\n",
       "    .dataframe tbody tr th:only-of-type {\n",
       "        vertical-align: middle;\n",
       "    }\n",
       "\n",
       "    .dataframe tbody tr th {\n",
       "        vertical-align: top;\n",
       "    }\n",
       "\n",
       "    .dataframe thead th {\n",
       "        text-align: right;\n",
       "    }\n",
       "</style>\n",
       "<table border=\"1\" class=\"dataframe\">\n",
       "  <thead>\n",
       "    <tr style=\"text-align: right;\">\n",
       "      <th></th>\n",
       "      <th>serial</th>\n",
       "      <th>Revenue</th>\n",
       "      <th>Advertising expenses</th>\n",
       "    </tr>\n",
       "    <tr>\n",
       "      <th>date</th>\n",
       "      <th></th>\n",
       "      <th></th>\n",
       "      <th></th>\n",
       "    </tr>\n",
       "  </thead>\n",
       "  <tbody>\n",
       "    <tr>\n",
       "      <th>2019-01-01</th>\n",
       "      <td>1</td>\n",
       "      <td>8.176490e+07</td>\n",
       "      <td>4.088244e+06</td>\n",
       "    </tr>\n",
       "    <tr>\n",
       "      <th>2019-02-01</th>\n",
       "      <td>2</td>\n",
       "      <td>8.545677e+07</td>\n",
       "      <td>5.127406e+06</td>\n",
       "    </tr>\n",
       "    <tr>\n",
       "      <th>2019-03-01</th>\n",
       "      <td>3</td>\n",
       "      <td>9.175335e+07</td>\n",
       "      <td>6.422734e+06</td>\n",
       "    </tr>\n",
       "    <tr>\n",
       "      <th>2019-04-01</th>\n",
       "      <td>4</td>\n",
       "      <td>9.918027e+07</td>\n",
       "      <td>7.138520e+06</td>\n",
       "    </tr>\n",
       "    <tr>\n",
       "      <th>2019-05-01</th>\n",
       "      <td>5</td>\n",
       "      <td>9.572599e+07</td>\n",
       "      <td>7.978079e+06</td>\n",
       "    </tr>\n",
       "    <tr>\n",
       "      <th>2019-06-01</th>\n",
       "      <td>6</td>\n",
       "      <td>9.533411e+07</td>\n",
       "      <td>9.120070e+06</td>\n",
       "    </tr>\n",
       "    <tr>\n",
       "      <th>2019-07-01</th>\n",
       "      <td>7</td>\n",
       "      <td>9.660804e+07</td>\n",
       "      <td>1.097602e+07</td>\n",
       "    </tr>\n",
       "    <tr>\n",
       "      <th>2019-08-01</th>\n",
       "      <td>8</td>\n",
       "      <td>9.747001e+07</td>\n",
       "      <td>1.169640e+07</td>\n",
       "    </tr>\n",
       "    <tr>\n",
       "      <th>2019-09-01</th>\n",
       "      <td>9</td>\n",
       "      <td>9.242813e+07</td>\n",
       "      <td>9.242813e+06</td>\n",
       "    </tr>\n",
       "    <tr>\n",
       "      <th>2019-10-01</th>\n",
       "      <td>10</td>\n",
       "      <td>9.849608e+07</td>\n",
       "      <td>1.181953e+07</td>\n",
       "    </tr>\n",
       "    <tr>\n",
       "      <th>2019-11-01</th>\n",
       "      <td>11</td>\n",
       "      <td>1.058640e+08</td>\n",
       "      <td>1.058640e+07</td>\n",
       "    </tr>\n",
       "    <tr>\n",
       "      <th>2019-12-01</th>\n",
       "      <td>12</td>\n",
       "      <td>1.371204e+08</td>\n",
       "      <td>1.645445e+07</td>\n",
       "    </tr>\n",
       "    <tr>\n",
       "      <th>2020-01-01</th>\n",
       "      <td>13</td>\n",
       "      <td>8.443754e+07</td>\n",
       "      <td>4.221877e+06</td>\n",
       "    </tr>\n",
       "    <tr>\n",
       "      <th>2020-02-01</th>\n",
       "      <td>14</td>\n",
       "      <td>8.713968e+07</td>\n",
       "      <td>4.256984e+06</td>\n",
       "    </tr>\n",
       "    <tr>\n",
       "      <th>2020-03-01</th>\n",
       "      <td>15</td>\n",
       "      <td>9.419266e+07</td>\n",
       "      <td>6.733486e+06</td>\n",
       "    </tr>\n",
       "    <tr>\n",
       "      <th>2020-04-01</th>\n",
       "      <td>16</td>\n",
       "      <td>9.764438e+07</td>\n",
       "      <td>8.606501e+06</td>\n",
       "    </tr>\n",
       "    <tr>\n",
       "      <th>2020-05-01</th>\n",
       "      <td>17</td>\n",
       "      <td>9.764438e+07</td>\n",
       "      <td>8.606501e+06</td>\n",
       "    </tr>\n",
       "    <tr>\n",
       "      <th>2020-06-01</th>\n",
       "      <td>18</td>\n",
       "      <td>9.764438e+07</td>\n",
       "      <td>8.606501e+06</td>\n",
       "    </tr>\n",
       "    <tr>\n",
       "      <th>2020-07-01</th>\n",
       "      <td>19</td>\n",
       "      <td>1.046726e+08</td>\n",
       "      <td>9.780531e+06</td>\n",
       "    </tr>\n",
       "    <tr>\n",
       "      <th>2020-08-01</th>\n",
       "      <td>20</td>\n",
       "      <td>1.052525e+08</td>\n",
       "      <td>8.420198e+06</td>\n",
       "    </tr>\n",
       "    <tr>\n",
       "      <th>2020-09-01</th>\n",
       "      <td>21</td>\n",
       "      <td>1.027837e+08</td>\n",
       "      <td>9.250531e+06</td>\n",
       "    </tr>\n",
       "    <tr>\n",
       "      <th>2020-10-01</th>\n",
       "      <td>22</td>\n",
       "      <td>1.057384e+08</td>\n",
       "      <td>9.246454e+06</td>\n",
       "    </tr>\n",
       "    <tr>\n",
       "      <th>2020-11-01</th>\n",
       "      <td>23</td>\n",
       "      <td>1.097597e+08</td>\n",
       "      <td>1.097597e+07</td>\n",
       "    </tr>\n",
       "    <tr>\n",
       "      <th>2020-12-01</th>\n",
       "      <td>24</td>\n",
       "      <td>1.413559e+08</td>\n",
       "      <td>1.837626e+07</td>\n",
       "    </tr>\n",
       "    <tr>\n",
       "      <th>2021-01-01</th>\n",
       "      <td>25</td>\n",
       "      <td>8.980549e+07</td>\n",
       "      <td>4.490274e+06</td>\n",
       "    </tr>\n",
       "    <tr>\n",
       "      <th>2021-02-01</th>\n",
       "      <td>26</td>\n",
       "      <td>9.185079e+07</td>\n",
       "      <td>4.492539e+06</td>\n",
       "    </tr>\n",
       "    <tr>\n",
       "      <th>2021-03-01</th>\n",
       "      <td>27</td>\n",
       "      <td>9.784479e+07</td>\n",
       "      <td>6.849135e+06</td>\n",
       "    </tr>\n",
       "    <tr>\n",
       "      <th>2021-04-01</th>\n",
       "      <td>28</td>\n",
       "      <td>1.047781e+08</td>\n",
       "      <td>8.382250e+06</td>\n",
       "    </tr>\n",
       "    <tr>\n",
       "      <th>2021-05-01</th>\n",
       "      <td>29</td>\n",
       "      <td>1.029149e+08</td>\n",
       "      <td>9.982338e+06</td>\n",
       "    </tr>\n",
       "    <tr>\n",
       "      <th>2021-06-01</th>\n",
       "      <td>30</td>\n",
       "      <td>1.038662e+08</td>\n",
       "      <td>1.118662e+07</td>\n",
       "    </tr>\n",
       "    <tr>\n",
       "      <th>2021-07-01</th>\n",
       "      <td>31</td>\n",
       "      <td>1.064097e+08</td>\n",
       "      <td>1.124097e+07</td>\n",
       "    </tr>\n",
       "    <tr>\n",
       "      <th>2021-08-01</th>\n",
       "      <td>32</td>\n",
       "      <td>1.079375e+08</td>\n",
       "      <td>9.084377e+06</td>\n",
       "    </tr>\n",
       "    <tr>\n",
       "      <th>2021-09-01</th>\n",
       "      <td>33</td>\n",
       "      <td>1.021427e+08</td>\n",
       "      <td>7.931412e+06</td>\n",
       "    </tr>\n",
       "    <tr>\n",
       "      <th>2021-10-01</th>\n",
       "      <td>34</td>\n",
       "      <td>1.042909e+08</td>\n",
       "      <td>1.158200e+07</td>\n",
       "    </tr>\n",
       "    <tr>\n",
       "      <th>2021-11-01</th>\n",
       "      <td>35</td>\n",
       "      <td>1.161922e+08</td>\n",
       "      <td>1.394307e+07</td>\n",
       "    </tr>\n",
       "    <tr>\n",
       "      <th>2021-12-01</th>\n",
       "      <td>36</td>\n",
       "      <td>1.442777e+08</td>\n",
       "      <td>1.875610e+07</td>\n",
       "    </tr>\n",
       "  </tbody>\n",
       "</table>\n",
       "</div>"
      ],
      "text/plain": [
       "            serial       Revenue  Advertising expenses\n",
       "date                                                  \n",
       "2019-01-01       1  8.176490e+07          4.088244e+06\n",
       "2019-02-01       2  8.545677e+07          5.127406e+06\n",
       "2019-03-01       3  9.175335e+07          6.422734e+06\n",
       "2019-04-01       4  9.918027e+07          7.138520e+06\n",
       "2019-05-01       5  9.572599e+07          7.978079e+06\n",
       "2019-06-01       6  9.533411e+07          9.120070e+06\n",
       "2019-07-01       7  9.660804e+07          1.097602e+07\n",
       "2019-08-01       8  9.747001e+07          1.169640e+07\n",
       "2019-09-01       9  9.242813e+07          9.242813e+06\n",
       "2019-10-01      10  9.849608e+07          1.181953e+07\n",
       "2019-11-01      11  1.058640e+08          1.058640e+07\n",
       "2019-12-01      12  1.371204e+08          1.645445e+07\n",
       "2020-01-01      13  8.443754e+07          4.221877e+06\n",
       "2020-02-01      14  8.713968e+07          4.256984e+06\n",
       "2020-03-01      15  9.419266e+07          6.733486e+06\n",
       "2020-04-01      16  9.764438e+07          8.606501e+06\n",
       "2020-05-01      17  9.764438e+07          8.606501e+06\n",
       "2020-06-01      18  9.764438e+07          8.606501e+06\n",
       "2020-07-01      19  1.046726e+08          9.780531e+06\n",
       "2020-08-01      20  1.052525e+08          8.420198e+06\n",
       "2020-09-01      21  1.027837e+08          9.250531e+06\n",
       "2020-10-01      22  1.057384e+08          9.246454e+06\n",
       "2020-11-01      23  1.097597e+08          1.097597e+07\n",
       "2020-12-01      24  1.413559e+08          1.837626e+07\n",
       "2021-01-01      25  8.980549e+07          4.490274e+06\n",
       "2021-02-01      26  9.185079e+07          4.492539e+06\n",
       "2021-03-01      27  9.784479e+07          6.849135e+06\n",
       "2021-04-01      28  1.047781e+08          8.382250e+06\n",
       "2021-05-01      29  1.029149e+08          9.982338e+06\n",
       "2021-06-01      30  1.038662e+08          1.118662e+07\n",
       "2021-07-01      31  1.064097e+08          1.124097e+07\n",
       "2021-08-01      32  1.079375e+08          9.084377e+06\n",
       "2021-09-01      33  1.021427e+08          7.931412e+06\n",
       "2021-10-01      34  1.042909e+08          1.158200e+07\n",
       "2021-11-01      35  1.161922e+08          1.394307e+07\n",
       "2021-12-01      36  1.442777e+08          1.875610e+07"
      ]
     },
     "execution_count": 100,
     "metadata": {},
     "output_type": "execute_result"
    }
   ],
   "source": [
    "df"
   ]
  },
  {
   "cell_type": "code",
   "execution_count": 101,
   "id": "297bdfd8",
   "metadata": {},
   "outputs": [
    {
     "data": {
      "text/html": [
       "<table class=\"simpletable\">\n",
       "<caption>SARIMAX Results</caption>\n",
       "<tr>\n",
       "  <th>Dep. Variable:</th>           <td>y</td>        <th>  No. Observations:  </th>    <td>36</td>   \n",
       "</tr>\n",
       "<tr>\n",
       "  <th>Model:</th>           <td>SARIMAX(0, 1, 0)</td> <th>  Log Likelihood     </th> <td>-630.071</td>\n",
       "</tr>\n",
       "<tr>\n",
       "  <th>Date:</th>            <td>Sat, 26 Mar 2022</td> <th>  AIC                </th> <td>1262.143</td>\n",
       "</tr>\n",
       "<tr>\n",
       "  <th>Time:</th>                <td>16:02:06</td>     <th>  BIC                </th> <td>1263.698</td>\n",
       "</tr>\n",
       "<tr>\n",
       "  <th>Sample:</th>                  <td>0</td>        <th>  HQIC               </th> <td>1262.680</td>\n",
       "</tr>\n",
       "<tr>\n",
       "  <th></th>                       <td> - 36</td>      <th>                     </th>     <td> </td>   \n",
       "</tr>\n",
       "<tr>\n",
       "  <th>Covariance Type:</th>        <td>opg</td>       <th>                     </th>     <td> </td>   \n",
       "</tr>\n",
       "</table>\n",
       "<table class=\"simpletable\">\n",
       "<tr>\n",
       "     <td></td>       <th>coef</th>     <th>std err</th>      <th>z</th>      <th>P>|z|</th>  <th>[0.025</th>    <th>0.975]</th>  \n",
       "</tr>\n",
       "<tr>\n",
       "  <th>sigma2</th> <td> 2.463e+14</td> <td> 3.12e+13</td> <td>    7.897</td> <td> 0.000</td> <td> 1.85e+14</td> <td> 3.07e+14</td>\n",
       "</tr>\n",
       "</table>\n",
       "<table class=\"simpletable\">\n",
       "<tr>\n",
       "  <th>Ljung-Box (L1) (Q):</th>     <td>3.71</td> <th>  Jarque-Bera (JB):  </th> <td>64.32</td>\n",
       "</tr>\n",
       "<tr>\n",
       "  <th>Prob(Q):</th>                <td>0.05</td> <th>  Prob(JB):          </th> <td>0.00</td> \n",
       "</tr>\n",
       "<tr>\n",
       "  <th>Heteroskedasticity (H):</th> <td>0.93</td> <th>  Skew:              </th> <td>-1.75</td>\n",
       "</tr>\n",
       "<tr>\n",
       "  <th>Prob(H) (two-sided):</th>    <td>0.91</td> <th>  Kurtosis:          </th> <td>8.65</td> \n",
       "</tr>\n",
       "</table><br/><br/>Warnings:<br/>[1] Covariance matrix calculated using the outer product of gradients (complex-step)."
      ],
      "text/plain": [
       "<class 'statsmodels.iolib.summary.Summary'>\n",
       "\"\"\"\n",
       "                               SARIMAX Results                                \n",
       "==============================================================================\n",
       "Dep. Variable:                      y   No. Observations:                   36\n",
       "Model:               SARIMAX(0, 1, 0)   Log Likelihood                -630.071\n",
       "Date:                Sat, 26 Mar 2022   AIC                           1262.143\n",
       "Time:                        16:02:06   BIC                           1263.698\n",
       "Sample:                             0   HQIC                          1262.680\n",
       "                                 - 36                                         \n",
       "Covariance Type:                  opg                                         \n",
       "==============================================================================\n",
       "                 coef    std err          z      P>|z|      [0.025      0.975]\n",
       "------------------------------------------------------------------------------\n",
       "sigma2      2.463e+14   3.12e+13      7.897      0.000    1.85e+14    3.07e+14\n",
       "===================================================================================\n",
       "Ljung-Box (L1) (Q):                   3.71   Jarque-Bera (JB):                64.32\n",
       "Prob(Q):                              0.05   Prob(JB):                         0.00\n",
       "Heteroskedasticity (H):               0.93   Skew:                            -1.75\n",
       "Prob(H) (two-sided):                  0.91   Kurtosis:                         8.65\n",
       "===================================================================================\n",
       "\n",
       "Warnings:\n",
       "[1] Covariance matrix calculated using the outer product of gradients (complex-step).\n",
       "\"\"\""
      ]
     },
     "execution_count": 101,
     "metadata": {},
     "output_type": "execute_result"
    }
   ],
   "source": [
    "# p-значение теста ADF меньше уровня значимости (0,05). Тест показал, что временной ряд является стационарным.\n",
    "auto_arima(df['Revenue']).summary()"
   ]
  },
  {
   "cell_type": "code",
   "execution_count": 103,
   "id": "8b9e3b0b",
   "metadata": {},
   "outputs": [],
   "source": [
    "#Разделим данные на train/test и установим один (последний) год для тестироваия.\n",
    "train = df.iloc[:len(df)-12]\n",
    "test = df.iloc[len(df)-12:]"
   ]
  },
  {
   "cell_type": "code",
   "execution_count": 104,
   "id": "b793c300",
   "metadata": {},
   "outputs": [
    {
     "data": {
      "text/html": [
       "<table class=\"simpletable\">\n",
       "<caption>ARIMA Model Results</caption>\n",
       "<tr>\n",
       "  <th>Dep. Variable:</th>     <td>D.Revenue</td>    <th>  No. Observations:  </th>      <td>23</td>     \n",
       "</tr>\n",
       "<tr>\n",
       "  <th>Model:</th>          <td>ARIMA(0, 1, 0)</td>  <th>  Log Likelihood     </th>   <td>-412.248</td>  \n",
       "</tr>\n",
       "<tr>\n",
       "  <th>Method:</th>               <td>css</td>       <th>  S.D. of innovations</th> <td>14722756.873</td>\n",
       "</tr>\n",
       "<tr>\n",
       "  <th>Date:</th>          <td>Sat, 26 Mar 2022</td> <th>  AIC                </th>    <td>828.497</td>  \n",
       "</tr>\n",
       "<tr>\n",
       "  <th>Time:</th>              <td>16:03:51</td>     <th>  BIC                </th>    <td>830.768</td>  \n",
       "</tr>\n",
       "<tr>\n",
       "  <th>Sample:</th>           <td>02-01-2019</td>    <th>  HQIC               </th>    <td>829.068</td>  \n",
       "</tr>\n",
       "<tr>\n",
       "  <th></th>                 <td>- 12-01-2020</td>   <th>                     </th>       <td> </td>     \n",
       "</tr>\n",
       "</table>\n",
       "<table class=\"simpletable\">\n",
       "<tr>\n",
       "    <td></td>       <th>coef</th>     <th>std err</th>      <th>z</th>      <th>P>|z|</th>  <th>[0.025</th>    <th>0.975]</th>  \n",
       "</tr>\n",
       "<tr>\n",
       "  <th>const</th> <td> 2.591e+06</td> <td> 3.07e+06</td> <td>    0.844</td> <td> 0.399</td> <td>-3.43e+06</td> <td> 8.61e+06</td>\n",
       "</tr>\n",
       "</table>"
      ],
      "text/plain": [
       "<class 'statsmodels.iolib.summary.Summary'>\n",
       "\"\"\"\n",
       "                             ARIMA Model Results                              \n",
       "==============================================================================\n",
       "Dep. Variable:              D.Revenue   No. Observations:                   23\n",
       "Model:                 ARIMA(0, 1, 0)   Log Likelihood                -412.248\n",
       "Method:                           css   S.D. of innovations       14722756.873\n",
       "Date:                Sat, 26 Mar 2022   AIC                            828.497\n",
       "Time:                        16:03:51   BIC                            830.768\n",
       "Sample:                    02-01-2019   HQIC                           829.068\n",
       "                         - 12-01-2020                                         \n",
       "==============================================================================\n",
       "                 coef    std err          z      P>|z|      [0.025      0.975]\n",
       "------------------------------------------------------------------------------\n",
       "const       2.591e+06   3.07e+06      0.844      0.399   -3.43e+06    8.61e+06\n",
       "==============================================================================\n",
       "\"\"\""
      ]
     },
     "execution_count": 104,
     "metadata": {},
     "output_type": "execute_result"
    }
   ],
   "source": [
    "# Обучим модель ARIMA(0,1,0) на train['Revenue']\n",
    "from statsmodels.tsa.arima_model import ARIMA\n",
    "model = ARIMA(train['Revenue'], order=(0,1,0))\n",
    "results = model.fit(disp=False)\n",
    "results.summary()"
   ]
  },
  {
   "cell_type": "code",
   "execution_count": 105,
   "id": "9d21e6e5",
   "metadata": {},
   "outputs": [
    {
     "data": {
      "text/plain": [
       "2021-01-01    1.439468e+08\n",
       "2021-02-01    1.465377e+08\n",
       "2021-03-01    1.491286e+08\n",
       "2021-04-01    1.517195e+08\n",
       "2021-05-01    1.543104e+08\n",
       "2021-06-01    1.569014e+08\n",
       "2021-07-01    1.594923e+08\n",
       "2021-08-01    1.620832e+08\n",
       "2021-09-01    1.646741e+08\n",
       "2021-10-01    1.672650e+08\n",
       "2021-11-01    1.698559e+08\n",
       "2021-12-01    1.724468e+08\n",
       "Freq: MS, Name:  Predictions ARIMA(0, 1, 0), dtype: float64"
      ]
     },
     "execution_count": 105,
     "metadata": {},
     "output_type": "execute_result"
    }
   ],
   "source": [
    "#получим прогнозируемые значения\n",
    "start = len(train)\n",
    "end = len(train)+len(test)-1\n",
    "predictions = results.predict(start=start, end=end, dynamic=False, typ='levels').rename(' Predictions ARIMA(0, 1, 0)')\n",
    "predictions"
   ]
  },
  {
   "cell_type": "code",
   "execution_count": 106,
   "id": "b2dc7f4c",
   "metadata": {},
   "outputs": [
    {
     "name": "stdout",
     "output_type": "stream",
     "text": [
      "predicted=143946790.2, expected=89805489.0\n",
      "predicted=146537702.4, expected=91850788.0\n",
      "predicted=149128614.7, expected=97844794.0\n",
      "predicted=151719526.9, expected=104778133.0\n",
      "predicted=154310439.1, expected=102914875.0\n",
      "predicted=156901351.3, expected=103866156.0\n",
      "predicted=159492263.5, expected=106409746.0\n",
      "predicted=162083175.7, expected=107937525.0\n",
      "predicted=164674088.0, expected=102142658.0\n",
      "predicted=167265000.2, expected=104290946.0\n",
      "predicted=169855912.4, expected=116192222.0\n",
      "predicted=172446824.6, expected=144277673.0\n"
     ]
    }
   ],
   "source": [
    "#Сравниваем результаты\n",
    "for i in range (len(predictions)):\n",
    "    print(f\"predicted={predictions[i]:<11.10}, expected={test['Revenue'][i]}\")"
   ]
  },
  {
   "cell_type": "code",
   "execution_count": 107,
   "id": "977b68b3",
   "metadata": {},
   "outputs": [
    {
     "data": {
      "text/plain": [
       "[Text(0.5, 0, 'date'), Text(0, 0.5, 'Revenue')]"
      ]
     },
     "execution_count": 107,
     "metadata": {},
     "output_type": "execute_result"
    },
    {
     "data": {
      "image/png": "[encoded data removed]",
      "text/plain": [
       "<Figure size 864x432 with 1 Axes>"
      ]
     },
     "metadata": {
      "needs_background": "light"
     },
     "output_type": "display_data"
    }
   ],
   "source": [
    "# Построим график прогнозируемых и известных значений\n",
    "ax = test['Revenue'].plot(legend=True, figsize=(12,6), title = 'Dynamics of sales')\n",
    "predictions.plot(legend=True)\n",
    "ax.autoscale(axis='x', tight=True)\n",
    "ax.set(xlabel='date', ylabel='Revenue')"
   ]
  },
  {
   "cell_type": "code",
   "execution_count": 108,
   "id": "e08e133a",
   "metadata": {},
   "outputs": [
    {
     "name": "stdout",
     "output_type": "stream",
     "text": [
      "ARIMA(0, 1, 0)MSE Error: 2.792367411e+15\n"
     ]
    }
   ],
   "source": [
    "# Оценим качество модели с помощью MSE и RMSE\n",
    "error=mean_squared_error(test['Revenue'], predictions)\n",
    "print(f'ARIMA(0, 1, 0)MSE Error: {error:11.10}')"
   ]
  },
  {
   "cell_type": "code",
   "execution_count": 109,
   "id": "8af3c42d",
   "metadata": {},
   "outputs": [
    {
     "name": "stdout",
     "output_type": "stream",
     "text": [
      "ARIMA(0, 1,0)RMSE Error: 52842855.82\n"
     ]
    }
   ],
   "source": [
    "error=rmse(test['Revenue'], predictions)\n",
    "print(f'ARIMA(0, 1,0)RMSE Error: {error:11.10}')"
   ]
  },
  {
   "cell_type": "code",
   "execution_count": 112,
   "id": "c6ec0b5a",
   "metadata": {},
   "outputs": [
    {
     "name": "stdout",
     "output_type": "stream",
     "text": [
      "RUNNING THE L-BFGS-B CODE\n",
      "\n",
      "           * * *\n",
      "\n",
      "Machine precision = 2.220D-16\n",
      " N =            1     M =           12\n",
      "\n",
      "At X0         0 variables are exactly at the bounds\n",
      "\n",
      "At iterate    0    f=  1.79955D+01    |proj g|=  0.00000D+00\n",
      "\n",
      "           * * *\n",
      "\n",
      "Tit   = total number of iterations\n",
      "Tnf   = total number of function evaluations\n",
      "Tnint = total number of segments explored during Cauchy searches\n",
      "Skip  = number of BFGS updates skipped\n",
      "Nact  = number of active bounds at final generalized Cauchy point\n",
      "Projg = norm of the final projected gradient\n",
      "F     = final function value\n",
      "\n",
      "           * * *\n",
      "\n",
      "   N    Tit     Tnf  Tnint  Skip  Nact     Projg        F\n",
      "    1      0      1      0     0     0   0.000D+00   1.800D+01\n",
      "  F =   17.995502112479592     \n",
      "\n",
      "CONVERGENCE: NORM_OF_PROJECTED_GRADIENT_<=_PGTOL            \n"
     ]
    },
    {
     "name": "stderr",
     "output_type": "stream",
     "text": [
      " This problem is unconstrained.\n"
     ]
    },
    {
     "data": {
      "text/html": [
       "<table class=\"simpletable\">\n",
       "<caption>ARIMA Model Results</caption>\n",
       "<tr>\n",
       "  <th>Dep. Variable:</th>     <td>D.Revenue</td>    <th>  No. Observations:  </th>      <td>35</td>     \n",
       "</tr>\n",
       "<tr>\n",
       "  <th>Model:</th>          <td>ARIMA(0, 1, 0)</td>  <th>  Log Likelihood     </th>   <td>-629.843</td>  \n",
       "</tr>\n",
       "<tr>\n",
       "  <th>Method:</th>               <td>css</td>       <th>  S.D. of innovations</th> <td>15816489.283</td>\n",
       "</tr>\n",
       "<tr>\n",
       "  <th>Date:</th>          <td>Sat, 26 Mar 2022</td> <th>  AIC                </th>   <td>1263.685</td>  \n",
       "</tr>\n",
       "<tr>\n",
       "  <th>Time:</th>              <td>16:06:57</td>     <th>  BIC                </th>   <td>1266.796</td>  \n",
       "</tr>\n",
       "<tr>\n",
       "  <th>Sample:</th>           <td>02-01-2019</td>    <th>  HQIC               </th>   <td>1264.759</td>  \n",
       "</tr>\n",
       "<tr>\n",
       "  <th></th>                 <td>- 12-01-2021</td>   <th>                     </th>       <td> </td>     \n",
       "</tr>\n",
       "</table>\n",
       "<table class=\"simpletable\">\n",
       "<tr>\n",
       "    <td></td>       <th>coef</th>     <th>std err</th>      <th>z</th>      <th>P>|z|</th>  <th>[0.025</th>    <th>0.975]</th>  \n",
       "</tr>\n",
       "<tr>\n",
       "  <th>const</th> <td> 1.786e+06</td> <td> 2.67e+06</td> <td>    0.668</td> <td> 0.504</td> <td>-3.45e+06</td> <td> 7.03e+06</td>\n",
       "</tr>\n",
       "</table>"
      ],
      "text/plain": [
       "<class 'statsmodels.iolib.summary.Summary'>\n",
       "\"\"\"\n",
       "                             ARIMA Model Results                              \n",
       "==============================================================================\n",
       "Dep. Variable:              D.Revenue   No. Observations:                   35\n",
       "Model:                 ARIMA(0, 1, 0)   Log Likelihood                -629.843\n",
       "Method:                           css   S.D. of innovations       15816489.283\n",
       "Date:                Sat, 26 Mar 2022   AIC                           1263.685\n",
       "Time:                        16:06:57   BIC                           1266.796\n",
       "Sample:                    02-01-2019   HQIC                          1264.759\n",
       "                         - 12-01-2021                                         \n",
       "==============================================================================\n",
       "                 coef    std err          z      P>|z|      [0.025      0.975]\n",
       "------------------------------------------------------------------------------\n",
       "const       1.786e+06   2.67e+06      0.668      0.504   -3.45e+06    7.03e+06\n",
       "==============================================================================\n",
       "\"\"\""
      ]
     },
     "execution_count": 112,
     "metadata": {},
     "output_type": "execute_result"
    }
   ],
   "source": [
    "#Натренируем модель на полном датасете и предскажем на год вперед\n",
    "model = ARIMA(df['Revenue'], order=(0,1,0))\n",
    "results = model.fit()\n",
    "results.summary()"
   ]
  },
  {
   "cell_type": "code",
   "execution_count": 113,
   "id": "3927a646",
   "metadata": {},
   "outputs": [
    {
     "data": {
      "text/plain": [
       "2022-01-01    1.460638e+08\n",
       "2022-02-01    1.478498e+08\n",
       "2022-03-01    1.496359e+08\n",
       "2022-04-01    1.514220e+08\n",
       "2022-05-01    1.532081e+08\n",
       "2022-06-01    1.549941e+08\n",
       "2022-07-01    1.567802e+08\n",
       "2022-08-01    1.585663e+08\n",
       "2022-09-01    1.603524e+08\n",
       "2022-10-01    1.621385e+08\n",
       "2022-11-01    1.639245e+08\n",
       "2022-12-01    1.657106e+08\n",
       "2023-01-01    1.674967e+08\n",
       "Freq: MS, Name: ARIMA(0, 1, 0)Forecast, dtype: float64"
      ]
     },
     "execution_count": 113,
     "metadata": {},
     "output_type": "execute_result"
    }
   ],
   "source": [
    "fcast = results.predict(len(df),len(df)+12, typ='levels').rename('ARIMA(0, 1, 0)Forecast')\n",
    "fcast"
   ]
  },
  {
   "cell_type": "code",
   "execution_count": 114,
   "id": "8aed5a76",
   "metadata": {},
   "outputs": [
    {
     "data": {
      "text/plain": [
       "<AxesSubplot:>"
      ]
     },
     "execution_count": 114,
     "metadata": {},
     "output_type": "execute_result"
    },
    {
     "data": {
      "image/png": "[encoded data removed]",
      "text/plain": [
       "<Figure size 432x288 with 1 Axes>"
      ]
     },
     "metadata": {
      "needs_background": "light"
     },
     "output_type": "display_data"
    }
   ],
   "source": [
    "# Построим график предсказаний и график исходных данных\n",
    "fcast.plot()"
   ]
  },
  {
   "cell_type": "code",
   "execution_count": 115,
   "id": "35ad0ace",
   "metadata": {},
   "outputs": [
    {
     "data": {
      "image/png": "[encoded data removed]",
      "text/plain": [
       "<Figure size 864x432 with 1 Axes>"
      ]
     },
     "metadata": {
      "needs_background": "light"
     },
     "output_type": "display_data"
    }
   ],
   "source": [
    "# Отобразим общий график\n",
    "l=df['Revenue'].plot(figsize=(12,6), legend=True, title='Dynamics of sales', xlabel='', ylabel='Revenue')\n",
    "fcast.plot(legend=True)\n",
    "l.autoscale(axis='x', tight=True)"
   ]
  },
  {
   "cell_type": "markdown",
   "id": "72eb07c7",
   "metadata": {},
   "source": [
    "        Полученные значения MSE и RMSE говорят о нам высокой ошибке и неточности прогноза. Причиной может быть неверно подобранная модель или недостаточность данных для прогноза.\n",
    "        Построим графики автокорреляции и частичной автокорреляции и подберем параметры для построения модели с учетом коэффициента сезонности."
   ]
  },
  {
   "cell_type": "code",
   "execution_count": 116,
   "id": "df56e697",
   "metadata": {},
   "outputs": [
    {
     "data": {
      "image/png": "[encoded data removed]",
      "text/plain": [
       "<Figure size 432x288 with 1 Axes>"
      ]
     },
     "metadata": {
      "needs_background": "light"
     },
     "output_type": "display_data"
    },
    {
     "data": {
      "image/png": "[encoded data removed]",
      "text/plain": [
       "<Figure size 432x288 with 1 Axes>"
      ]
     },
     "metadata": {
      "needs_background": "light"
     },
     "output_type": "display_data"
    }
   ],
   "source": [
    "from statsmodels.graphics.tsaplots import plot_acf\n",
    "import matplotlib.pyplot as plt\n",
    "plot_acf(df['Revenue'])\n",
    "plt.show()\n",
    "plot_pacf(df['Revenue'])\n",
    "plt.show()"
   ]
  },
  {
   "cell_type": "markdown",
   "id": "cabd282e",
   "metadata": {},
   "source": [
    "      Из графика PACF видно, что порядок AR будет p=14 (максимальный номер коэффициента сильно отличный от 0), а по ACF видно, что q=2 (количество автокорреляционных коэффициентов сильно отличных от 0)."
   ]
  },
  {
   "cell_type": "code",
   "execution_count": 117,
   "id": "677447cc",
   "metadata": {},
   "outputs": [
    {
     "data": {
      "text/html": [
       "<table class=\"simpletable\">\n",
       "<caption>SARIMAX Results</caption>\n",
       "<tr>\n",
       "  <th>Dep. Variable:</th>             <td>y</td>          <th>  No. Observations:  </th>    <td>36</td>   \n",
       "</tr>\n",
       "<tr>\n",
       "  <th>Model:</th>           <td>SARIMAX(0, 1, 0, 12)</td> <th>  Log Likelihood     </th> <td>-391.836</td>\n",
       "</tr>\n",
       "<tr>\n",
       "  <th>Date:</th>              <td>Sat, 26 Mar 2022</td>   <th>  AIC                </th>  <td>787.671</td>\n",
       "</tr>\n",
       "<tr>\n",
       "  <th>Time:</th>                  <td>16:27:53</td>       <th>  BIC                </th>  <td>790.028</td>\n",
       "</tr>\n",
       "<tr>\n",
       "  <th>Sample:</th>                    <td>0</td>          <th>  HQIC               </th>  <td>788.296</td>\n",
       "</tr>\n",
       "<tr>\n",
       "  <th></th>                         <td> - 36</td>        <th>                     </th>     <td> </td>   \n",
       "</tr>\n",
       "<tr>\n",
       "  <th>Covariance Type:</th>          <td>opg</td>         <th>                     </th>     <td> </td>   \n",
       "</tr>\n",
       "</table>\n",
       "<table class=\"simpletable\">\n",
       "<tr>\n",
       "      <td></td>         <th>coef</th>     <th>std err</th>      <th>z</th>      <th>P>|z|</th>  <th>[0.025</th>    <th>0.975]</th>  \n",
       "</tr>\n",
       "<tr>\n",
       "  <th>intercept</th> <td> 3.963e+06</td> <td> 6.09e+05</td> <td>    6.512</td> <td> 0.000</td> <td> 2.77e+06</td> <td> 5.16e+06</td>\n",
       "</tr>\n",
       "<tr>\n",
       "  <th>sigma2</th>    <td> 8.882e+12</td> <td> 2.95e+12</td> <td>    3.014</td> <td> 0.003</td> <td> 3.11e+12</td> <td> 1.47e+13</td>\n",
       "</tr>\n",
       "</table>\n",
       "<table class=\"simpletable\">\n",
       "<tr>\n",
       "  <th>Ljung-Box (L1) (Q):</th>     <td>6.39</td> <th>  Jarque-Bera (JB):  </th> <td>0.24</td>\n",
       "</tr>\n",
       "<tr>\n",
       "  <th>Prob(Q):</th>                <td>0.01</td> <th>  Prob(JB):          </th> <td>0.89</td>\n",
       "</tr>\n",
       "<tr>\n",
       "  <th>Heteroskedasticity (H):</th> <td>0.91</td> <th>  Skew:              </th> <td>0.03</td>\n",
       "</tr>\n",
       "<tr>\n",
       "  <th>Prob(H) (two-sided):</th>    <td>0.90</td> <th>  Kurtosis:          </th> <td>2.51</td>\n",
       "</tr>\n",
       "</table><br/><br/>Warnings:<br/>[1] Covariance matrix calculated using the outer product of gradients (complex-step)."
      ],
      "text/plain": [
       "<class 'statsmodels.iolib.summary.Summary'>\n",
       "\"\"\"\n",
       "                                SARIMAX Results                                 \n",
       "================================================================================\n",
       "Dep. Variable:                        y   No. Observations:                   36\n",
       "Model:             SARIMAX(0, 1, 0, 12)   Log Likelihood                -391.836\n",
       "Date:                  Sat, 26 Mar 2022   AIC                            787.671\n",
       "Time:                          16:27:53   BIC                            790.028\n",
       "Sample:                               0   HQIC                           788.296\n",
       "                                   - 36                                         \n",
       "Covariance Type:                    opg                                         \n",
       "==============================================================================\n",
       "                 coef    std err          z      P>|z|      [0.025      0.975]\n",
       "------------------------------------------------------------------------------\n",
       "intercept   3.963e+06   6.09e+05      6.512      0.000    2.77e+06    5.16e+06\n",
       "sigma2      8.882e+12   2.95e+12      3.014      0.003    3.11e+12    1.47e+13\n",
       "===================================================================================\n",
       "Ljung-Box (L1) (Q):                   6.39   Jarque-Bera (JB):                 0.24\n",
       "Prob(Q):                              0.01   Prob(JB):                         0.89\n",
       "Heteroskedasticity (H):               0.91   Skew:                             0.03\n",
       "Prob(H) (two-sided):                  0.90   Kurtosis:                         2.51\n",
       "===================================================================================\n",
       "\n",
       "Warnings:\n",
       "[1] Covariance matrix calculated using the outer product of gradients (complex-step).\n",
       "\"\"\""
      ]
     },
     "execution_count": 117,
     "metadata": {},
     "output_type": "execute_result"
    }
   ],
   "source": [
    "auto_arima(df['Revenue'], seasonal=True, m=12).summary()"
   ]
  },
  {
   "cell_type": "code",
   "execution_count": 118,
   "id": "10612ccc",
   "metadata": {},
   "outputs": [],
   "source": [
    "#Разделим данные на train/test и установим один (последний) год для тестироваия.\n",
    "train1 = df.iloc[:len(df)-12]\n",
    "test1 = df.iloc[len(df)-12:]"
   ]
  },
  {
   "cell_type": "code",
   "execution_count": 119,
   "id": "3cceba4a",
   "metadata": {},
   "outputs": [],
   "source": [
    "from statsmodels.tsa.statespace.sarimax import SARIMAX"
   ]
  },
  {
   "cell_type": "code",
   "execution_count": 151,
   "id": "0db863e8",
   "metadata": {},
   "outputs": [
    {
     "name": "stdout",
     "output_type": "stream",
     "text": [
      "RUNNING THE L-BFGS-B CODE\n",
      "\n",
      "           * * *\n",
      "\n",
      "Machine precision = 2.220D-16\n",
      " N =           17     M =           10\n",
      "\n",
      "At X0         0 variables are exactly at the bounds\n",
      "\n",
      "At iterate    0    f=  7.46829D+00    |proj g|=  4.58102D+00\n",
      "\n",
      "At iterate    5    f=  7.19695D+00    |proj g|=  9.45963D-02\n",
      "\n",
      "At iterate   10    f=  7.19679D+00    |proj g|=  6.62791D-04\n",
      "\n",
      "           * * *\n",
      "\n",
      "Tit   = total number of iterations\n",
      "Tnf   = total number of function evaluations\n",
      "Tnint = total number of segments explored during Cauchy searches\n",
      "Skip  = number of BFGS updates skipped\n",
      "Nact  = number of active bounds at final generalized Cauchy point\n",
      "Projg = norm of the final projected gradient\n",
      "F     = final function value\n",
      "\n",
      "           * * *\n",
      "\n",
      "   N    Tit     Tnf  Tnint  Skip  Nact     Projg        F\n",
      "   17     11     13      1     0     0   8.821D-04   7.197D+00\n",
      "  F =   7.1967884034969272     \n",
      "\n",
      "CONVERGENCE: REL_REDUCTION_OF_F_<=_FACTR*EPSMCH             \n"
     ]
    },
    {
     "name": "stderr",
     "output_type": "stream",
     "text": [
      " This problem is unconstrained.\n"
     ]
    },
    {
     "data": {
      "text/html": [
       "<table class=\"simpletable\">\n",
       "<caption>SARIMAX Results</caption>\n",
       "<tr>\n",
       "  <th>Dep. Variable:</th>                <td>Revenue</td>             <th>  No. Observations:  </th>    <td>24</td>   \n",
       "</tr>\n",
       "<tr>\n",
       "  <th>Model:</th>           <td>SARIMAX(14, 1, 2)x(0, 1, [], 12)</td> <th>  Log Likelihood     </th> <td>-172.723</td>\n",
       "</tr>\n",
       "<tr>\n",
       "  <th>Date:</th>                    <td>Sat, 26 Mar 2022</td>         <th>  AIC                </th>  <td>379.446</td>\n",
       "</tr>\n",
       "<tr>\n",
       "  <th>Time:</th>                        <td>17:47:55</td>             <th>  BIC                </th>  <td>386.210</td>\n",
       "</tr>\n",
       "<tr>\n",
       "  <th>Sample:</th>                     <td>01-01-2019</td>            <th>  HQIC               </th>  <td>375.182</td>\n",
       "</tr>\n",
       "<tr>\n",
       "  <th></th>                           <td>- 12-01-2020</td>           <th>                     </th>     <td> </td>   \n",
       "</tr>\n",
       "<tr>\n",
       "  <th>Covariance Type:</th>                <td>opg</td>               <th>                     </th>     <td> </td>   \n",
       "</tr>\n",
       "</table>\n",
       "<table class=\"simpletable\">\n",
       "<tr>\n",
       "     <td></td>       <th>coef</th>     <th>std err</th>      <th>z</th>      <th>P>|z|</th>  <th>[0.025</th>    <th>0.975]</th>  \n",
       "</tr>\n",
       "<tr>\n",
       "  <th>ar.L1</th>  <td>    0.0022</td> <td>   71.051</td> <td>  3.1e-05</td> <td> 1.000</td> <td> -139.256</td> <td>  139.260</td>\n",
       "</tr>\n",
       "<tr>\n",
       "  <th>ar.L2</th>  <td>   -0.0011</td> <td>  128.085</td> <td> -8.7e-06</td> <td> 1.000</td> <td> -251.043</td> <td>  251.041</td>\n",
       "</tr>\n",
       "<tr>\n",
       "  <th>ar.L3</th>  <td>    0.0196</td> <td>   58.201</td> <td>    0.000</td> <td> 1.000</td> <td> -114.052</td> <td>  114.092</td>\n",
       "</tr>\n",
       "<tr>\n",
       "  <th>ar.L4</th>  <td>   -0.0303</td> <td>   54.638</td> <td>   -0.001</td> <td> 1.000</td> <td> -107.119</td> <td>  107.058</td>\n",
       "</tr>\n",
       "<tr>\n",
       "  <th>ar.L5</th>  <td>   -0.0135</td> <td>   52.596</td> <td>   -0.000</td> <td> 1.000</td> <td> -103.100</td> <td>  103.073</td>\n",
       "</tr>\n",
       "<tr>\n",
       "  <th>ar.L6</th>  <td>   -0.0428</td> <td>   59.267</td> <td>   -0.001</td> <td> 0.999</td> <td> -116.204</td> <td>  116.118</td>\n",
       "</tr>\n",
       "<tr>\n",
       "  <th>ar.L7</th>  <td>    0.0037</td> <td>   84.938</td> <td> 4.36e-05</td> <td> 1.000</td> <td> -166.471</td> <td>  166.478</td>\n",
       "</tr>\n",
       "<tr>\n",
       "  <th>ar.L8</th>  <td>   -0.0118</td> <td>  120.645</td> <td>-9.75e-05</td> <td> 1.000</td> <td> -236.472</td> <td>  236.448</td>\n",
       "</tr>\n",
       "<tr>\n",
       "  <th>ar.L9</th>  <td>    0.0295</td> <td>  132.234</td> <td>    0.000</td> <td> 1.000</td> <td> -259.145</td> <td>  259.204</td>\n",
       "</tr>\n",
       "<tr>\n",
       "  <th>ar.L10</th> <td>    0.0206</td> <td>   88.438</td> <td>    0.000</td> <td> 1.000</td> <td> -173.315</td> <td>  173.356</td>\n",
       "</tr>\n",
       "<tr>\n",
       "  <th>ar.L11</th> <td>   -0.0035</td> <td>   78.291</td> <td>-4.53e-05</td> <td> 1.000</td> <td> -153.450</td> <td>  153.443</td>\n",
       "</tr>\n",
       "<tr>\n",
       "  <th>ar.L12</th> <td>   -0.0048</td> <td>   28.091</td> <td>   -0.000</td> <td> 1.000</td> <td>  -55.063</td> <td>   55.053</td>\n",
       "</tr>\n",
       "<tr>\n",
       "  <th>ar.L13</th> <td>   -0.0035</td> <td>   51.545</td> <td>-6.86e-05</td> <td> 1.000</td> <td> -101.031</td> <td>  101.024</td>\n",
       "</tr>\n",
       "<tr>\n",
       "  <th>ar.L14</th> <td>    0.0028</td> <td>  337.943</td> <td> 8.21e-06</td> <td> 1.000</td> <td> -662.353</td> <td>  662.358</td>\n",
       "</tr>\n",
       "<tr>\n",
       "  <th>ma.L1</th>  <td>    0.0028</td> <td>   71.858</td> <td>  3.9e-05</td> <td> 1.000</td> <td> -140.836</td> <td>  140.841</td>\n",
       "</tr>\n",
       "<tr>\n",
       "  <th>ma.L2</th>  <td>   -0.0002</td> <td>  129.194</td> <td>-1.33e-06</td> <td> 1.000</td> <td> -253.216</td> <td>  253.216</td>\n",
       "</tr>\n",
       "<tr>\n",
       "  <th>sigma2</th> <td> 6.926e+12</td> <td> 1.07e-08</td> <td>  6.5e+20</td> <td> 0.000</td> <td> 6.93e+12</td> <td> 6.93e+12</td>\n",
       "</tr>\n",
       "</table>\n",
       "<table class=\"simpletable\">\n",
       "<tr>\n",
       "  <th>Ljung-Box (L1) (Q):</th>     <td>2.53</td> <th>  Jarque-Bera (JB):  </th> <td>1.12</td> \n",
       "</tr>\n",
       "<tr>\n",
       "  <th>Prob(Q):</th>                <td>0.11</td> <th>  Prob(JB):          </th> <td>0.57</td> \n",
       "</tr>\n",
       "<tr>\n",
       "  <th>Heteroskedasticity (H):</th> <td>0.54</td> <th>  Skew:              </th> <td>-0.78</td>\n",
       "</tr>\n",
       "<tr>\n",
       "  <th>Prob(H) (two-sided):</th>    <td>0.57</td> <th>  Kurtosis:          </th> <td>2.81</td> \n",
       "</tr>\n",
       "</table><br/><br/>Warnings:<br/>[1] Covariance matrix calculated using the outer product of gradients (complex-step).<br/>[2] Covariance matrix is singular or near-singular, with condition number 1.71e+37. Standard errors may be unstable."
      ],
      "text/plain": [
       "<class 'statsmodels.iolib.summary.Summary'>\n",
       "\"\"\"\n",
       "                                      SARIMAX Results                                       \n",
       "============================================================================================\n",
       "Dep. Variable:                              Revenue   No. Observations:                   24\n",
       "Model:             SARIMAX(14, 1, 2)x(0, 1, [], 12)   Log Likelihood                -172.723\n",
       "Date:                              Sat, 26 Mar 2022   AIC                            379.446\n",
       "Time:                                      17:47:55   BIC                            386.210\n",
       "Sample:                                  01-01-2019   HQIC                           375.182\n",
       "                                       - 12-01-2020                                         \n",
       "Covariance Type:                                opg                                         \n",
       "==============================================================================\n",
       "                 coef    std err          z      P>|z|      [0.025      0.975]\n",
       "------------------------------------------------------------------------------\n",
       "ar.L1          0.0022     71.051    3.1e-05      1.000    -139.256     139.260\n",
       "ar.L2         -0.0011    128.085   -8.7e-06      1.000    -251.043     251.041\n",
       "ar.L3          0.0196     58.201      0.000      1.000    -114.052     114.092\n",
       "ar.L4         -0.0303     54.638     -0.001      1.000    -107.119     107.058\n",
       "ar.L5         -0.0135     52.596     -0.000      1.000    -103.100     103.073\n",
       "ar.L6         -0.0428     59.267     -0.001      0.999    -116.204     116.118\n",
       "ar.L7          0.0037     84.938   4.36e-05      1.000    -166.471     166.478\n",
       "ar.L8         -0.0118    120.645  -9.75e-05      1.000    -236.472     236.448\n",
       "ar.L9          0.0295    132.234      0.000      1.000    -259.145     259.204\n",
       "ar.L10         0.0206     88.438      0.000      1.000    -173.315     173.356\n",
       "ar.L11        -0.0035     78.291  -4.53e-05      1.000    -153.450     153.443\n",
       "ar.L12        -0.0048     28.091     -0.000      1.000     -55.063      55.053\n",
       "ar.L13        -0.0035     51.545  -6.86e-05      1.000    -101.031     101.024\n",
       "ar.L14         0.0028    337.943   8.21e-06      1.000    -662.353     662.358\n",
       "ma.L1          0.0028     71.858    3.9e-05      1.000    -140.836     140.841\n",
       "ma.L2         -0.0002    129.194  -1.33e-06      1.000    -253.216     253.216\n",
       "sigma2      6.926e+12   1.07e-08    6.5e+20      0.000    6.93e+12    6.93e+12\n",
       "===================================================================================\n",
       "Ljung-Box (L1) (Q):                   2.53   Jarque-Bera (JB):                 1.12\n",
       "Prob(Q):                              0.11   Prob(JB):                         0.57\n",
       "Heteroskedasticity (H):               0.54   Skew:                            -0.78\n",
       "Prob(H) (two-sided):                  0.57   Kurtosis:                         2.81\n",
       "===================================================================================\n",
       "\n",
       "Warnings:\n",
       "[1] Covariance matrix calculated using the outer product of gradients (complex-step).\n",
       "[2] Covariance matrix is singular or near-singular, with condition number 1.71e+37. Standard errors may be unstable.\n",
       "\"\"\""
      ]
     },
     "execution_count": 151,
     "metadata": {},
     "output_type": "execute_result"
    }
   ],
   "source": [
    "# Обучим модель SARIMA(14,1,2)(0,1,0,12) на train['Revenue']\n",
    "model = SARIMAX(train1['Revenue'], order=(14,1,2), seasonal_order=(0,1,0,12))\n",
    "results = model.fit()\n",
    "results.summary()"
   ]
  },
  {
   "cell_type": "code",
   "execution_count": 129,
   "id": "d054c211",
   "metadata": {},
   "outputs": [
    {
     "data": {
      "text/plain": [
       "2021-01-01    8.871591e+07\n",
       "2021-02-01    9.202503e+07\n",
       "2021-03-01    9.877441e+07\n",
       "2021-04-01    1.025861e+08\n",
       "2021-05-01    1.028030e+08\n",
       "2021-06-01    1.028124e+08\n",
       "2021-07-01    1.098299e+08\n",
       "2021-08-01    1.101874e+08\n",
       "2021-09-01    1.076783e+08\n",
       "2021-10-01    1.106313e+08\n",
       "2021-11-01    1.146960e+08\n",
       "2021-12-01    1.462995e+08\n",
       "Freq: MS, Name: Predictions SARIMAX(14, 1, 2)x(1, 0, [1], 12), dtype: float64"
      ]
     },
     "execution_count": 129,
     "metadata": {},
     "output_type": "execute_result"
    }
   ],
   "source": [
    "# Получим прогнозируемые значения\n",
    "start1 = len(train1)\n",
    "end1 = len(train1)+len(test1)-1\n",
    "predictions1 = results.predict(start=start1, end=end1, dynamic=False, typ='levels').rename('Predictions SARIMAX(14, 1, 2)x(1, 0, [1], 12)')\n",
    "predictions1"
   ]
  },
  {
   "cell_type": "code",
   "execution_count": 131,
   "id": "a7d3ca0c",
   "metadata": {},
   "outputs": [
    {
     "name": "stdout",
     "output_type": "stream",
     "text": [
      "predicted=88715905.2, expected=89805489.0\n",
      "predicted=92025026.1, expected=91850788.0\n",
      "predicted=98774414.8, expected=97844794.0\n",
      "predicted=102586056.6, expected=104778133.0\n",
      "predicted=102803031.4, expected=102914875.0\n",
      "predicted=102812417.4, expected=103866156.0\n",
      "predicted=109829857.1, expected=106409746.0\n",
      "predicted=110187433.4, expected=107937525.0\n",
      "predicted=107678328.6, expected=102142658.0\n",
      "predicted=110631327.7, expected=104290946.0\n",
      "predicted=114696045.8, expected=116192222.0\n",
      "predicted=146299500.7, expected=144277673.0\n"
     ]
    }
   ],
   "source": [
    "#Сравниваем результаты\n",
    "for k in range (len(predictions1)):\n",
    "    print(f\"predicted={predictions1[k]:.1f}, expected={test1['Revenue'][k]}\")"
   ]
  },
  {
   "cell_type": "code",
   "execution_count": 146,
   "id": "fcb08397",
   "metadata": {},
   "outputs": [
    {
     "data": {
      "text/plain": [
       "[Text(0.5, 0, 'date'), Text(0, 0.5, 'Revenue')]"
      ]
     },
     "execution_count": 146,
     "metadata": {},
     "output_type": "execute_result"
    },
    {
     "data": {
      "image/png": "[encoded data removed]",
      "text/plain": [
       "<Figure size 864x432 with 1 Axes>"
      ]
     },
     "metadata": {
      "needs_background": "light"
     },
     "output_type": "display_data"
    }
   ],
   "source": [
    "# Построим график прогнозируемых и известных значений\n",
    "ax1 = test1['Revenue'].plot(legend=True, figsize=(12,6), title = 'Dynamics of sales')\n",
    "predictions1.plot(legend=True)\n",
    "ax1.autoscale(axis='x', tight=True)\n",
    "ax1.set(xlabel='date', ylabel='Revenue')"
   ]
  },
  {
   "cell_type": "code",
   "execution_count": 139,
   "id": "8518ae15",
   "metadata": {},
   "outputs": [
    {
     "name": "stdout",
     "output_type": "stream",
     "text": [
      "SARIMA(14, 1, 2)x(1, 0, [1], 12)MSE Error: 8.494957272e+12\n"
     ]
    }
   ],
   "source": [
    "# Оценим качество модели с помощью MSE и RMSE\n",
    "error=mean_squared_error(test1['Revenue'], predictions1)\n",
    "print(f'SARIMA(14, 1, 2)x(1, 0, [1], 12)MSE Error: {error:11.10}')"
   ]
  },
  {
   "cell_type": "code",
   "execution_count": 134,
   "id": "45b7582a",
   "metadata": {
    "scrolled": true
   },
   "outputs": [
    {
     "name": "stdout",
     "output_type": "stream",
     "text": [
      "SARIMA(14, 1, 2)x(1, 0, [1], 12)RMSE Error: 2914610.998\n"
     ]
    }
   ],
   "source": [
    "error=rmse(test1['Revenue'], predictions1)\n",
    "print(f'SARIMA(14, 1, 2)x(1, 0, [1], 12)RMSE Error: {error:11.10}')"
   ]
  },
  {
   "cell_type": "markdown",
   "id": "cdabb648",
   "metadata": {},
   "source": [
    "        Модель SARIMA имеет меньшее значение RMSE, чем модель ARIMA, 2 914 610.998 < 52 842 855.82 но все же среднеквадратическая ошибка остается высокой.\n",
    "       Найдем значение ошибки в прогнозах MAPE."
   ]
  },
  {
   "cell_type": "code",
   "execution_count": 136,
   "id": "feed6cf8",
   "metadata": {},
   "outputs": [
    {
     "name": "stdout",
     "output_type": "stream",
     "text": [
      "MAPE:  4.111956186018914\n"
     ]
    }
   ],
   "source": [
    "from sklearn.linear_model import LinearRegression\n",
    "linear_model = LinearRegression().fit(X_train , Y_train)\n",
    "LR_Test_predict = linear_model.predict(X_test) \n",
    "LR_MAPE= MAPE(Y_test,LR_Test_predict)\n",
    "print(\"MAPE: \",LR_MAPE)"
   ]
  },
  {
   "cell_type": "code",
   "execution_count": 147,
   "id": "1de175d4",
   "metadata": {},
   "outputs": [
    {
     "name": "stdout",
     "output_type": "stream",
     "text": [
      "RUNNING THE L-BFGS-B CODE\n",
      "\n",
      "           * * *\n",
      "\n",
      "Machine precision = 2.220D-16\n",
      " N =           20     M =           10\n",
      "\n",
      "At X0         0 variables are exactly at the bounds\n",
      "\n",
      "At iterate    0    f=  1.04871D+01    |proj g|=  3.62185D+00\n",
      "\n",
      "At iterate    5    f=  1.02669D+01    |proj g|=  3.11582D-02\n",
      "\n",
      "At iterate   10    f=  1.02661D+01    |proj g|=  1.31173D-01\n"
     ]
    },
    {
     "name": "stderr",
     "output_type": "stream",
     "text": [
      " This problem is unconstrained.\n"
     ]
    },
    {
     "name": "stdout",
     "output_type": "stream",
     "text": [
      "\n",
      "At iterate   15    f=  1.02443D+01    |proj g|=  9.20046D-01\n",
      "\n",
      "At iterate   20    f=  1.02105D+01    |proj g|=  1.46484D+00\n",
      "\n",
      "At iterate   25    f=  1.01983D+01    |proj g|=  6.21119D-01\n",
      "\n",
      "At iterate   30    f=  1.01871D+01    |proj g|=  2.98756D+00\n",
      "\n",
      "At iterate   35    f=  1.01743D+01    |proj g|=  4.67843D-01\n",
      "\n",
      "At iterate   40    f=  1.01634D+01    |proj g|=  2.93574D-01\n",
      "\n",
      "At iterate   45    f=  1.01598D+01    |proj g|=  1.95069D-01\n",
      "\n",
      "At iterate   50    f=  1.01587D+01    |proj g|=  1.38694D-01\n",
      "\n",
      "           * * *\n",
      "\n",
      "Tit   = total number of iterations\n",
      "Tnf   = total number of function evaluations\n",
      "Tnint = total number of segments explored during Cauchy searches\n",
      "Skip  = number of BFGS updates skipped\n",
      "Nact  = number of active bounds at final generalized Cauchy point\n",
      "Projg = norm of the final projected gradient\n",
      "F     = final function value\n",
      "\n",
      "           * * *\n",
      "\n",
      "   N    Tit     Tnf  Tnint  Skip  Nact     Projg        F\n",
      "   20     50     60      1     0     0   1.387D-01   1.016D+01\n",
      "  F =   10.158746666438192     \n",
      "\n",
      "STOP: TOTAL NO. of ITERATIONS REACHED LIMIT                 \n"
     ]
    },
    {
     "data": {
      "text/html": [
       "<table class=\"simpletable\">\n",
       "<caption>SARIMAX Results</caption>\n",
       "<tr>\n",
       "  <th>Dep. Variable:</th>                <td>Revenue</td>             <th>  No. Observations:  </th>    <td>36</td>   \n",
       "</tr>\n",
       "<tr>\n",
       "  <th>Model:</th>           <td>SARIMAX(6, 1, 13)x(0, 1, [], 12)</td> <th>  Log Likelihood     </th> <td>-365.715</td>\n",
       "</tr>\n",
       "<tr>\n",
       "  <th>Date:</th>                    <td>Sat, 26 Mar 2022</td>         <th>  AIC                </th>  <td>771.430</td>\n",
       "</tr>\n",
       "<tr>\n",
       "  <th>Time:</th>                        <td>17:40:29</td>             <th>  BIC                </th>  <td>794.140</td>\n",
       "</tr>\n",
       "<tr>\n",
       "  <th>Sample:</th>                     <td>01-01-2019</td>            <th>  HQIC               </th>  <td>777.141</td>\n",
       "</tr>\n",
       "<tr>\n",
       "  <th></th>                           <td>- 12-01-2021</td>           <th>                     </th>     <td> </td>   \n",
       "</tr>\n",
       "<tr>\n",
       "  <th>Covariance Type:</th>                <td>opg</td>               <th>                     </th>     <td> </td>   \n",
       "</tr>\n",
       "</table>\n",
       "<table class=\"simpletable\">\n",
       "<tr>\n",
       "     <td></td>       <th>coef</th>     <th>std err</th>      <th>z</th>      <th>P>|z|</th>  <th>[0.025</th>    <th>0.975]</th>  \n",
       "</tr>\n",
       "<tr>\n",
       "  <th>ar.L1</th>  <td>   -0.3931</td> <td>    5.285</td> <td>   -0.074</td> <td> 0.941</td> <td>  -10.751</td> <td>    9.965</td>\n",
       "</tr>\n",
       "<tr>\n",
       "  <th>ar.L2</th>  <td>    0.4062</td> <td>    5.359</td> <td>    0.076</td> <td> 0.940</td> <td>  -10.097</td> <td>   10.909</td>\n",
       "</tr>\n",
       "<tr>\n",
       "  <th>ar.L3</th>  <td>    0.4899</td> <td>    4.564</td> <td>    0.107</td> <td> 0.915</td> <td>   -8.454</td> <td>    9.434</td>\n",
       "</tr>\n",
       "<tr>\n",
       "  <th>ar.L4</th>  <td>    0.4403</td> <td>    7.384</td> <td>    0.060</td> <td> 0.952</td> <td>  -14.032</td> <td>   14.913</td>\n",
       "</tr>\n",
       "<tr>\n",
       "  <th>ar.L5</th>  <td>   -0.5598</td> <td>    8.941</td> <td>   -0.063</td> <td> 0.950</td> <td>  -18.084</td> <td>   16.964</td>\n",
       "</tr>\n",
       "<tr>\n",
       "  <th>ar.L6</th>  <td>   -0.8190</td> <td>    6.327</td> <td>   -0.129</td> <td> 0.897</td> <td>  -13.219</td> <td>   11.581</td>\n",
       "</tr>\n",
       "<tr>\n",
       "  <th>ma.L1</th>  <td>    0.4005</td> <td>    5.038</td> <td>    0.080</td> <td> 0.937</td> <td>   -9.473</td> <td>   10.274</td>\n",
       "</tr>\n",
       "<tr>\n",
       "  <th>ma.L2</th>  <td>   -0.4000</td> <td>    5.348</td> <td>   -0.075</td> <td> 0.940</td> <td>  -10.882</td> <td>   10.082</td>\n",
       "</tr>\n",
       "<tr>\n",
       "  <th>ma.L3</th>  <td>   -0.4893</td> <td>    4.251</td> <td>   -0.115</td> <td> 0.908</td> <td>   -8.821</td> <td>    7.842</td>\n",
       "</tr>\n",
       "<tr>\n",
       "  <th>ma.L4</th>  <td>   -0.4755</td> <td>    6.902</td> <td>   -0.069</td> <td> 0.945</td> <td>  -14.003</td> <td>   13.052</td>\n",
       "</tr>\n",
       "<tr>\n",
       "  <th>ma.L5</th>  <td>    0.5308</td> <td>    8.766</td> <td>    0.061</td> <td> 0.952</td> <td>  -16.651</td> <td>   17.713</td>\n",
       "</tr>\n",
       "<tr>\n",
       "  <th>ma.L6</th>  <td>    0.7823</td> <td>    5.748</td> <td>    0.136</td> <td> 0.892</td> <td>  -10.484</td> <td>   12.049</td>\n",
       "</tr>\n",
       "<tr>\n",
       "  <th>ma.L7</th>  <td>   -0.0054</td> <td>    1.455</td> <td>   -0.004</td> <td> 0.997</td> <td>   -2.857</td> <td>    2.846</td>\n",
       "</tr>\n",
       "<tr>\n",
       "  <th>ma.L8</th>  <td>    0.0189</td> <td>    1.388</td> <td>    0.014</td> <td> 0.989</td> <td>   -2.702</td> <td>    2.740</td>\n",
       "</tr>\n",
       "<tr>\n",
       "  <th>ma.L9</th>  <td>    0.0324</td> <td>    1.195</td> <td>    0.027</td> <td> 0.978</td> <td>   -2.310</td> <td>    2.375</td>\n",
       "</tr>\n",
       "<tr>\n",
       "  <th>ma.L10</th> <td>    0.0167</td> <td>    0.630</td> <td>    0.026</td> <td> 0.979</td> <td>   -1.219</td> <td>    1.252</td>\n",
       "</tr>\n",
       "<tr>\n",
       "  <th>ma.L11</th> <td>   -0.0386</td> <td>    2.367</td> <td>   -0.016</td> <td> 0.987</td> <td>   -4.677</td> <td>    4.600</td>\n",
       "</tr>\n",
       "<tr>\n",
       "  <th>ma.L12</th> <td>   -0.0506</td> <td>    2.123</td> <td>   -0.024</td> <td> 0.981</td> <td>   -4.211</td> <td>    4.110</td>\n",
       "</tr>\n",
       "<tr>\n",
       "  <th>ma.L13</th> <td>   -0.0250</td> <td>    1.043</td> <td>   -0.024</td> <td> 0.981</td> <td>   -2.068</td> <td>    2.018</td>\n",
       "</tr>\n",
       "<tr>\n",
       "  <th>sigma2</th> <td>  6.02e+12</td> <td> 2.63e-11</td> <td> 2.29e+23</td> <td> 0.000</td> <td> 6.02e+12</td> <td> 6.02e+12</td>\n",
       "</tr>\n",
       "</table>\n",
       "<table class=\"simpletable\">\n",
       "<tr>\n",
       "  <th>Ljung-Box (L1) (Q):</th>     <td>0.59</td>  <th>  Jarque-Bera (JB):  </th> <td>25.76</td>\n",
       "</tr>\n",
       "<tr>\n",
       "  <th>Prob(Q):</th>                <td>0.44</td>  <th>  Prob(JB):          </th> <td>0.00</td> \n",
       "</tr>\n",
       "<tr>\n",
       "  <th>Heteroskedasticity (H):</th> <td>24.13</td> <th>  Skew:              </th> <td>0.97</td> \n",
       "</tr>\n",
       "<tr>\n",
       "  <th>Prob(H) (two-sided):</th>    <td>0.00</td>  <th>  Kurtosis:          </th> <td>7.81</td> \n",
       "</tr>\n",
       "</table><br/><br/>Warnings:<br/>[1] Covariance matrix calculated using the outer product of gradients (complex-step).<br/>[2] Covariance matrix is singular or near-singular, with condition number 2.12e+40. Standard errors may be unstable."
      ],
      "text/plain": [
       "<class 'statsmodels.iolib.summary.Summary'>\n",
       "\"\"\"\n",
       "                                      SARIMAX Results                                       \n",
       "============================================================================================\n",
       "Dep. Variable:                              Revenue   No. Observations:                   36\n",
       "Model:             SARIMAX(6, 1, 13)x(0, 1, [], 12)   Log Likelihood                -365.715\n",
       "Date:                              Sat, 26 Mar 2022   AIC                            771.430\n",
       "Time:                                      17:40:29   BIC                            794.140\n",
       "Sample:                                  01-01-2019   HQIC                           777.141\n",
       "                                       - 12-01-2021                                         \n",
       "Covariance Type:                                opg                                         \n",
       "==============================================================================\n",
       "                 coef    std err          z      P>|z|      [0.025      0.975]\n",
       "------------------------------------------------------------------------------\n",
       "ar.L1         -0.3931      5.285     -0.074      0.941     -10.751       9.965\n",
       "ar.L2          0.4062      5.359      0.076      0.940     -10.097      10.909\n",
       "ar.L3          0.4899      4.564      0.107      0.915      -8.454       9.434\n",
       "ar.L4          0.4403      7.384      0.060      0.952     -14.032      14.913\n",
       "ar.L5         -0.5598      8.941     -0.063      0.950     -18.084      16.964\n",
       "ar.L6         -0.8190      6.327     -0.129      0.897     -13.219      11.581\n",
       "ma.L1          0.4005      5.038      0.080      0.937      -9.473      10.274\n",
       "ma.L2         -0.4000      5.348     -0.075      0.940     -10.882      10.082\n",
       "ma.L3         -0.4893      4.251     -0.115      0.908      -8.821       7.842\n",
       "ma.L4         -0.4755      6.902     -0.069      0.945     -14.003      13.052\n",
       "ma.L5          0.5308      8.766      0.061      0.952     -16.651      17.713\n",
       "ma.L6          0.7823      5.748      0.136      0.892     -10.484      12.049\n",
       "ma.L7         -0.0054      1.455     -0.004      0.997      -2.857       2.846\n",
       "ma.L8          0.0189      1.388      0.014      0.989      -2.702       2.740\n",
       "ma.L9          0.0324      1.195      0.027      0.978      -2.310       2.375\n",
       "ma.L10         0.0167      0.630      0.026      0.979      -1.219       1.252\n",
       "ma.L11        -0.0386      2.367     -0.016      0.987      -4.677       4.600\n",
       "ma.L12        -0.0506      2.123     -0.024      0.981      -4.211       4.110\n",
       "ma.L13        -0.0250      1.043     -0.024      0.981      -2.068       2.018\n",
       "sigma2       6.02e+12   2.63e-11   2.29e+23      0.000    6.02e+12    6.02e+12\n",
       "===================================================================================\n",
       "Ljung-Box (L1) (Q):                   0.59   Jarque-Bera (JB):                25.76\n",
       "Prob(Q):                              0.44   Prob(JB):                         0.00\n",
       "Heteroskedasticity (H):              24.13   Skew:                             0.97\n",
       "Prob(H) (two-sided):                  0.00   Kurtosis:                         7.81\n",
       "===================================================================================\n",
       "\n",
       "Warnings:\n",
       "[1] Covariance matrix calculated using the outer product of gradients (complex-step).\n",
       "[2] Covariance matrix is singular or near-singular, with condition number 2.12e+40. Standard errors may be unstable.\n",
       "\"\"\""
      ]
     },
     "execution_count": 147,
     "metadata": {},
     "output_type": "execute_result"
    }
   ],
   "source": [
    "# Натренируем модель на полном датасете и предскажем на год вперед.\n",
    "model = SARIMAX(df['Revenue'], order=(14,1,2), seasonal_order=(0,1,0,12))\n",
    "results = model.fit()\n",
    "results.summary()"
   ]
  },
  {
   "cell_type": "code",
   "execution_count": 148,
   "id": "953007a8",
   "metadata": {},
   "outputs": [
    {
     "data": {
      "text/plain": [
       "2022-01-01    9.136826e+07\n",
       "2022-02-01    9.401678e+07\n",
       "2022-03-01    1.021111e+08\n",
       "2022-04-01    1.064678e+08\n",
       "2022-05-01    1.048051e+08\n",
       "2022-06-01    1.079713e+08\n",
       "2022-07-01    1.105298e+08\n",
       "2022-08-01    1.105865e+08\n",
       "2022-09-01    1.063484e+08\n",
       "2022-10-01    1.100249e+08\n",
       "2022-11-01    1.196352e+08\n",
       "2022-12-01    1.475014e+08\n",
       "2023-01-01    9.604554e+07\n",
       "Freq: MS, Name: SARIMA(14, 1, 2)x(0, 1, 0, 12)Forecast, dtype: float64"
      ]
     },
     "execution_count": 148,
     "metadata": {},
     "output_type": "execute_result"
    }
   ],
   "source": [
    "fcast = results.predict(len(df),len(df)+12, type='levels').rename('SARIMA(14, 1, 2)x(0, 1, 0, 12)Forecast')\n",
    "fcast"
   ]
  },
  {
   "cell_type": "code",
   "execution_count": 149,
   "id": "9836217b",
   "metadata": {},
   "outputs": [
    {
     "data": {
      "text/plain": [
       "<AxesSubplot:>"
      ]
     },
     "execution_count": 149,
     "metadata": {},
     "output_type": "execute_result"
    },
    {
     "data": {
      "image/png": "[encoded data removed]",
      "text/plain": [
       "<Figure size 432x288 with 1 Axes>"
      ]
     },
     "metadata": {
      "needs_background": "light"
     },
     "output_type": "display_data"
    }
   ],
   "source": [
    "fcast.plot()"
   ]
  },
  {
   "cell_type": "code",
   "execution_count": 150,
   "id": "c6dd9113",
   "metadata": {},
   "outputs": [
    {
     "data": {
      "image/png": "[encoded data removed]",
      "text/plain": [
       "<Figure size 864x432 with 1 Axes>"
      ]
     },
     "metadata": {
      "needs_background": "light"
     },
     "output_type": "display_data"
    }
   ],
   "source": [
    "f=df['Revenue'].plot(figsize=(12,6), legend=True, title='Dynamics of sales', xlabel='', ylabel='Revenue')\n",
    "fcast.plot(legend=True)\n",
    "l.autoscale(axis='x', tight=True)"
   ]
  },
  {
   "cell_type": "markdown",
   "id": "4d259f9d",
   "metadata": {},
   "source": [
    "        Как можно заметить из графика модель SARIMA строит более точный прогноз. Отчасти это связано с выбросами в исходных данных, которые были заменены на средние значения, а также с возможной недостаточностью данных."
   ]
  }
 ],
 "metadata": {
  "kernelspec": {
   "display_name": "Python 3 (ipykernel)",
   "language": "python",
   "name": "python3"
  },
  "language_info": {
   "codemirror_mode": {
    "name": "ipython",
    "version": 3
   },
   "file_extension": ".py",
   "mimetype": "text/x-python",
   "name": "python",
   "nbconvert_exporter": "python",
   "pygments_lexer": "ipython3",
   "version": "3.9.7"
  }
 },
 "nbformat": 4,
 "nbformat_minor": 5
}
